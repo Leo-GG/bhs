{
  "cells": [
    {
      "cell_type": "markdown",
      "id": "bc3c1317",
      "metadata": {
        "id": "bc3c1317"
      },
      "source": [
        "Print statements and variables:"
      ]
    },
    {
      "cell_type": "code",
      "execution_count": null,
      "id": "0d7004d8",
      "metadata": {
        "colab": {
          "base_uri": "https://localhost:8080/"
        },
        "id": "0d7004d8",
        "outputId": "2eb29883-c32f-4511-b834-39e43b25bc08"
      },
      "outputs": [
        {
          "output_type": "stream",
          "name": "stdout",
          "text": [
            "DMD gene is a gene that codes for the protein dystrophin, which is involved in muscle function. The DMD gene is located on the X chromosome, and it is the largest known gene in the human genome, spanning about 2.3 million base pairs.\n"
          ]
        }
      ],
      "source": [
        "genename = \"DMD\"\n",
        "print(genename, \"gene is a gene that codes for the protein dystrophin, which is involved in muscle function. The DMD gene is located on the X chromosome, and it is the largest known gene in the human genome, spanning about 2.3 million base pairs.\")"
      ]
    },
    {
      "cell_type": "markdown",
      "id": "a7b6f864",
      "metadata": {
        "id": "a7b6f864"
      },
      "source": [
        "Basic arithmetic operations:"
      ]
    },
    {
      "cell_type": "code",
      "execution_count": null,
      "id": "7fbd77d4",
      "metadata": {
        "id": "7fbd77d4",
        "outputId": "3accb0af-8385-4ae0-afc9-871bd45fd6e9",
        "colab": {
          "base_uri": "https://localhost:8080/"
        }
      },
      "outputs": [
        {
          "output_type": "stream",
          "name": "stdout",
          "text": [
            "DMD plus BRCA equals 2.4\n",
            "DMD minus BRCA equals 2.1999999999999997\n",
            "DMD multiplied by BRCA equals 0.22999999999999998\n",
            "DMD divided by GENOME equals 0.0007666666666666666\n",
            "The DMD gene represents 0.07666666666666666 % of the human genome\n"
          ]
        }
      ],
      "source": [
        "DMD = 2.3 # Million base-pairs\n",
        "BRCA = 0.1 # Million base-pairs\n",
        "GENOME = 3000 # Million base-pairs\n",
        "\n",
        "# Addition\n",
        "print(\"DMD plus BRCA equals\", DMD + BRCA)\n",
        "\n",
        "# Subtraction\n",
        "print(\"DMD minus BRCA equals\", DMD - BRCA)\n",
        "\n",
        "# Multiplication\n",
        "print(\"DMD multiplied by BRCA equals\", DMD * BRCA)\n",
        "\n",
        "# Division\n",
        "print(\"DMD divided by GENOME equals\", DMD/GENOME)\n",
        "\n",
        "print(\"The DMD gene represents\", DMD / GENOME * 100, \"% of the human genome\")"
      ]
    },
    {
      "cell_type": "code",
      "source": [
        "#What fraction of the human genome does BRCA represents"
      ],
      "metadata": {
        "id": "daHVYp1zdTh-"
      },
      "id": "daHVYp1zdTh-",
      "execution_count": null,
      "outputs": []
    },
    {
      "cell_type": "markdown",
      "id": "214c5abc",
      "metadata": {
        "id": "214c5abc"
      },
      "source": [
        "For loops:"
      ]
    },
    {
      "cell_type": "code",
      "execution_count": null,
      "id": "64baa391",
      "metadata": {
        "id": "64baa391",
        "outputId": "f5009b5e-9888-42e5-ba32-f3ee9dfeec54",
        "colab": {
          "base_uri": "https://localhost:8080/"
        }
      },
      "outputs": [
        {
          "output_type": "stream",
          "name": "stdout",
          "text": [
            "0\n",
            "1\n",
            "2\n",
            "3\n",
            "4\n",
            "5\n",
            "6\n",
            "7\n",
            "8\n",
            "9\n"
          ]
        }
      ],
      "source": [
        "# Print numbers 0 to 9\n",
        "#for i in range(10):\n",
        "#    print(i)\n",
        "genex = 2 #mb\n",
        "for genex in range(10):\n",
        "    print(genex)"
      ]
    },
    {
      "cell_type": "markdown",
      "id": "dc7a3398",
      "metadata": {
        "id": "dc7a3398"
      },
      "source": [
        "While loops:"
      ]
    },
    {
      "cell_type": "code",
      "execution_count": null,
      "id": "9c84896c",
      "metadata": {
        "id": "9c84896c",
        "outputId": "264110fe-593a-47ae-eea2-d9723eb67687",
        "colab": {
          "base_uri": "https://localhost:8080/"
        }
      },
      "outputs": [
        {
          "output_type": "stream",
          "name": "stdout",
          "text": [
            "0\n",
            "1\n",
            "2\n",
            "3\n",
            "4\n",
            "5\n",
            "6\n",
            "7\n",
            "8\n",
            "9\n"
          ]
        }
      ],
      "source": [
        "# Print numbers 0 to 9\n",
        "i = 0\n",
        "while i < 10:\n",
        "    print(i)\n",
        "    i += 1"
      ]
    },
    {
      "cell_type": "markdown",
      "id": "96ed3a34",
      "metadata": {
        "id": "96ed3a34"
      },
      "source": [
        "Conditional statements:"
      ]
    },
    {
      "cell_type": "code",
      "execution_count": null,
      "id": "1e8bd61b",
      "metadata": {
        "id": "1e8bd61b"
      },
      "outputs": [],
      "source": [
        "x = 5\n",
        "y = 3\n",
        "\n",
        "if x > y:\n",
        "    print(\"x is greater than y\")\n",
        "elif x == y:\n",
        "    print(\"x is equal to y\")\n",
        "else:\n",
        "    print(\"x is less than y\")"
      ]
    },
    {
      "cell_type": "markdown",
      "id": "898b34da",
      "metadata": {
        "id": "898b34da"
      },
      "source": [
        "Functions:"
      ]
    },
    {
      "cell_type": "code",
      "execution_count": null,
      "id": "ce245b61",
      "metadata": {
        "id": "ce245b61",
        "outputId": "eff462bb-25fa-402f-d43a-f64c80fbea61",
        "colab": {
          "base_uri": "https://localhost:8080/"
        }
      },
      "outputs": [
        {
          "output_type": "stream",
          "name": "stdout",
          "text": [
            "Hello, John\n"
          ]
        }
      ],
      "source": [
        "def greet(name):\n",
        "    print(\"Hello, \" + name)\n",
        "    \n",
        "greet(\"John\")"
      ]
    },
    {
      "cell_type": "code",
      "source": [
        "import datetime\n",
        "\n",
        "def calculate_age(birthdate):\n",
        "    today = datetime.now()\n",
        "    age = today - birthdate\n",
        "    years, remainder = divmod(age.days, 365)\n",
        "    months, days = divmod(remainder, 30)\n",
        "    print(f'You are {years} years, {months} months, and {days} days old.')\n",
        "\n",
        "\n",
        "from datetime import datetime\n",
        "birthdate = datetime(1981, 8, 31)\n",
        "calculate_age(birthdate)"
      ],
      "metadata": {
        "id": "KQlceUQzWJ11",
        "outputId": "5b73bbd7-a83d-4813-cfa9-be4b51e6154a",
        "colab": {
          "base_uri": "https://localhost:8080/"
        }
      },
      "id": "KQlceUQzWJ11",
      "execution_count": null,
      "outputs": [
        {
          "output_type": "stream",
          "name": "stdout",
          "text": [
            "You are 41 years, 5 months, and 6 days old.\n"
          ]
        }
      ]
    },
    {
      "cell_type": "markdown",
      "id": "41db5514",
      "metadata": {
        "id": "41db5514"
      },
      "source": [
        "Lists and list manipulation:"
      ]
    },
    {
      "cell_type": "code",
      "execution_count": null,
      "id": "7aed7095",
      "metadata": {
        "id": "7aed7095",
        "outputId": "e1249f27-e0e6-4ab0-91f3-75e52259ae5a",
        "colab": {
          "base_uri": "https://localhost:8080/"
        }
      },
      "outputs": [
        {
          "output_type": "stream",
          "name": "stdout",
          "text": [
            "banana\n",
            "orange\n",
            "cherry\n",
            "kiwi\n",
            "['apple', 'orange', 'kiwi']\n"
          ]
        }
      ],
      "source": [
        "# create list\n",
        "fruits = [\"apple\", \"banana\", \"cherry\"]\n",
        "\n",
        "# access elements\n",
        "print(fruits[1])\n",
        "\n",
        "# modify elements\n",
        "fruits[1] = \"orange\"\n",
        "print(fruits[1])\n",
        "\n",
        "# add elements\n",
        "fruits.append(\"kiwi\")\n",
        "print(fruits[2])\n",
        "\n",
        "# remove elements\n",
        "fruits.remove(\"cherry\")\n",
        "print(fruits[2])\n",
        "print(fruits)"
      ]
    },
    {
      "cell_type": "markdown",
      "id": "f339ec02",
      "metadata": {
        "id": "f339ec02"
      },
      "source": [
        "Dictionaries:"
      ]
    },
    {
      "cell_type": "code",
      "execution_count": null,
      "id": "af4dae2c",
      "metadata": {
        "id": "af4dae2c"
      },
      "outputs": [],
      "source": [
        "# create dictionary\n",
        "person = {\n",
        "  \"name\": \"John\",\n",
        "  \"age\": 30,\n",
        "  \"city\": \"New York\"\n",
        "}\n",
        "\n",
        "# access elements\n",
        "print(person[\"age\"])\n",
        "\n",
        "# modify elements\n",
        "person[\"age\"] = 35\n",
        "\n",
        "# add elements\n",
        "person[\"gender\"] = \"male\"\n",
        "\n",
        "# remove elements\n",
        "del person[\"city\"]\n"
      ]
    },
    {
      "cell_type": "markdown",
      "id": "4f91eacc",
      "metadata": {
        "id": "4f91eacc"
      },
      "source": [
        "Importing modules:"
      ]
    },
    {
      "cell_type": "code",
      "execution_count": null,
      "id": "369d6edf",
      "metadata": {
        "id": "369d6edf"
      },
      "outputs": [],
      "source": [
        "import random\n",
        "\n",
        "# generate random number\n",
        "print(random.randint(1, 10))"
      ]
    }
  ],
  "metadata": {
    "kernelspec": {
      "display_name": "Python 3 (ipykernel)",
      "language": "python",
      "name": "python3"
    },
    "language_info": {
      "codemirror_mode": {
        "name": "ipython",
        "version": 3
      },
      "file_extension": ".py",
      "mimetype": "text/x-python",
      "name": "python",
      "nbconvert_exporter": "python",
      "pygments_lexer": "ipython3",
      "version": "3.9.7"
    },
    "colab": {
      "provenance": []
    }
  },
  "nbformat": 4,
  "nbformat_minor": 5
}