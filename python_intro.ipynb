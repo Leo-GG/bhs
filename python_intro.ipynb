{
 "cells": [
  {
   "cell_type": "markdown",
   "id": "e2069ee8",
   "metadata": {},
   "source": [
    "\n",
    "# Bioinformatics in Health Science Course - Python Fundamentals\n",
    "# School of Medicine, University of Minho, Braga, Portugal\n",
    "\n",
    "Welcome to our Python Fundamentals practical class! This session will cover several practical exercises to help you with the basics of Python programming. You will learn how to use:\n",
    "\n",
    "1. Print statements and variables to output information to the console and store data for use in your programs.\n",
    "\n",
    "2. Basic arithmetic operations to perform mathematical calculations in your code.\n",
    "\n",
    "3. Conditional statements to control the flow of your program based on certain conditions.\n",
    "\n",
    "4. Functions to organize and reuse code.\n",
    "\n",
    "5. Lists and list manipulation to work with collections of data.\n",
    "\n",
    "6. Dictionaries to store data in a key-value format.\n",
    "\n",
    "7. For loops to repeat actions in your code. \n",
    "\n",
    "8. Importing modules to access pre-existing code and functionality.\n",
    "\n",
    "Throughout the day, you will have the opportunity to apply your knowledge through hands-on coding exercises to build your skills and confidence as a Python programmer. We're here to help!\n"
   ]
  },
  {
   "cell_type": "markdown",
   "id": "bc3c1317",
   "metadata": {
    "id": "bc3c1317"
   },
   "source": [
    "# 1. Print statements and variables\n",
    "\n",
    "📝In Python, \"print\" is a built-in function that is used to output text or variables to the console. \n",
    "- You can use the print function to print strings, numbers, or variables. \n",
    "- You can also use print(x) to print the value of a variable x. \n",
    "- Variables in python are \"empty containers\" that used to store data, like numbers, strings, etc... You then use the print statement to print the contents of that variable.\n"
   ]
  },
  {
   "cell_type": "code",
   "execution_count": null,
   "id": "0d7004d8",
   "metadata": {
    "colab": {
     "base_uri": "https://localhost:8080/"
    },
    "id": "0d7004d8",
    "outputId": "2eb29883-c32f-4511-b834-39e43b25bc08"
   },
   "outputs": [],
   "source": [
    "genename1 = \"DMD\"\n",
    "gene1description = \"gene that codes for the protein dystrophin, which is involved in muscle function. The DMD gene is located on the X chromosome, and it is the largest known gene in the human genome, spanning about 2.3 million base pairs.\"\n",
    "print(genename1, gene1description)"
   ]
  },
  {
   "cell_type": "markdown",
   "id": "59b5fcef",
   "metadata": {},
   "source": [
    "❓ Create new variables for the gene \"BRCA\" and use print to write a description of the gene. Similar to what was done above for \"DMD\""
   ]
  },
  {
   "cell_type": "code",
   "execution_count": null,
   "id": "8599fe27",
   "metadata": {},
   "outputs": [],
   "source": [
    "#your code here"
   ]
  },
  {
   "cell_type": "markdown",
   "id": "6097d59b",
   "metadata": {},
   "source": [
    "- You can also interpolate you variables inside a text, for a more complex output and print out the result. For this you precede the text with f' and then add the variables to be printed inside {} (don't forget to close the text by adding ' at the end):"
   ]
  },
  {
   "cell_type": "code",
   "execution_count": null,
   "id": "5dd28226",
   "metadata": {},
   "outputs": [],
   "source": [
    "print(f'Our lab studies {genename1}, which is a {gene1description}')"
   ]
  },
  {
   "cell_type": "markdown",
   "id": "b602714c",
   "metadata": {},
   "source": [
    "❓ Now try here adding your text for the BRCA gene variables you created above:"
   ]
  },
  {
   "cell_type": "code",
   "execution_count": null,
   "id": "7be7d8ce",
   "metadata": {},
   "outputs": [],
   "source": [
    "#your code here"
   ]
  },
  {
   "cell_type": "markdown",
   "id": "5f8bdf63",
   "metadata": {},
   "source": [
    "🎁 Bonus : note that the text you create can also be stored in a variable:"
   ]
  },
  {
   "cell_type": "code",
   "execution_count": null,
   "id": "5b3cb3dc",
   "metadata": {},
   "outputs": [],
   "source": [
    "general_gene_desc= f'Our lab studies {genename1}, which is a {gene1description}'\n",
    "print (general_gene_desc)"
   ]
  },
  {
   "cell_type": "markdown",
   "id": "a7b6f864",
   "metadata": {
    "id": "a7b6f864"
   },
   "source": [
    "# 2. Basic arithmetic operations\n",
    "\n",
    "📝 In Python, basic arithmetic operations include addition (+), subtraction (-), multiplication (*), division (/), floor division (//), and modulus (%). \n",
    "- These operations can be performed on **numbers** (integers and floats) and can be used to perform mathematical calculations in your code. \n",
    "- Python supports the use of parentheses to control the order of operations and the use of shorthand operators such as +=, -=, *=, and /= to perform arithmetic operations and assign the result back to a variable in a single step.  \n",
    "\n",
    "📌 These basic arithmetic operations are fundamental building blocks in any mathematical computation and are widely used in various programming fields, this is why a good understanding of these operations is crucial for any Python developer or advanced user.\n"
   ]
  },
  {
   "cell_type": "code",
   "execution_count": null,
   "id": "7fbd77d4",
   "metadata": {
    "colab": {
     "base_uri": "https://localhost:8080/"
    },
    "id": "7fbd77d4",
    "outputId": "3accb0af-8385-4ae0-afc9-871bd45fd6e9",
    "scrolled": true
   },
   "outputs": [],
   "source": [
    "DMD = 2.3  # Million base-pairs\n",
    "BRCA = 0.1 # Million base-pairs\n",
    "GENOME = 3000 # Million base-pairs\n",
    "\n",
    "# Addition example: DMD + BRCA\n",
    "# Subtraction example: DMD - BRCA\n",
    "# Multiplication example: DMD * GENOME\n",
    "# Division example: DMD / GENOME\n",
    "\n",
    "# DMD represents what % of the human genome?\n",
    "print(\"The DMD gene represents\", DMD / GENOME * 100, \"% of the human genome\")"
   ]
  },
  {
   "cell_type": "markdown",
   "id": "7227c5b8",
   "metadata": {
    "id": "daHVYp1zdTh-"
   },
   "source": [
    "❓ What fraction of the human genome does BRCA represent?"
   ]
  },
  {
   "cell_type": "code",
   "execution_count": null,
   "id": "9eb72331",
   "metadata": {},
   "outputs": [],
   "source": [
    "#your code here"
   ]
  },
  {
   "cell_type": "markdown",
   "id": "96ed3a34",
   "metadata": {
    "id": "96ed3a34"
   },
   "source": [
    "# 3. Conditional statements\n",
    "\n",
    "📝 Conditional statements are used to control the flow of a program based on certain conditions. \n",
    "- They allow you to check if a certain condition is true or false, and execute different code depending on the result. \n",
    "- The most common conditional statements are the \"if-elif-else\" statements.\n",
    "\n",
    "📌 Conditional statements are a fundamental concept in programming, they provide a way to control the flow of the program, and they are widely used in various programming fields.\n"
   ]
  },
  {
   "cell_type": "code",
   "execution_count": null,
   "id": "1e8bd61b",
   "metadata": {
    "id": "1e8bd61b",
    "scrolled": true
   },
   "outputs": [],
   "source": [
    "if DMD > BRCA:\n",
    "    print(f\"DMD gene ({DMD} mb) is larger than BRCA ({BRCA} mb)\")\n",
    "elif DMD == BRCA:\n",
    "    print(f\"DMD gene ({DMD} mb) is equal in size to BRCA ({BRCA} mb)\")\n",
    "else:\n",
    "    print(f\"DMD gene ({DMD} mb) is smaller than BRCA ({BRCA} mb)\")"
   ]
  },
  {
   "cell_type": "markdown",
   "id": "898b34da",
   "metadata": {
    "id": "898b34da"
   },
   "source": [
    "# 4. Functions:\n",
    "\n",
    "📝Functions are blocks of reusable code that can be called by name. \n",
    "- They are used to organize and structure your code, make it more readable, and promote code reusability. \n",
    "- In Python, A function is defined using the \"def\" keyword, followed by the function name, and a set of parentheses that may contain parameters. \n",
    "- The code block inside the function is indented, this block of code will be executed every time the function is called. Functions can also return a value using the \"return\" statement. \n",
    "- They can be used to encapsulate complex logic, and make it easier to test and debug your code.  \n",
    "\n",
    "📌Functions are a fundamental concept in Python, and they are widely used in various programming fields."
   ]
  },
  {
   "cell_type": "code",
   "execution_count": null,
   "id": "ce245b61",
   "metadata": {
    "colab": {
     "base_uri": "https://localhost:8080/"
    },
    "id": "ce245b61",
    "outputId": "eff462bb-25fa-402f-d43a-f64c80fbea61"
   },
   "outputs": [],
   "source": [
    "def calculate_genome_percentage(gene_size):\n",
    "    percentage = gene_size / GENOME * 100\n",
    "    return percentage\n",
    "\n",
    "# Example usage for DMD and BRCA genes\n",
    "\n",
    "print(f\"The DMD gene represents {calculate_genome_percentage(DMD)}% of the human genome\")\n",
    "print(f\"The BRCA gene represents {calculate_genome_percentage(BRCA)}% of the human genome\")\n"
   ]
  },
  {
   "cell_type": "markdown",
   "id": "1904c6a9",
   "metadata": {},
   "source": [
    "❓ What is the percentage of the genome is represented by an hypothetical gene with 90 million base pairs?"
   ]
  },
  {
   "cell_type": "code",
   "execution_count": null,
   "id": "248ad9bf",
   "metadata": {},
   "outputs": [],
   "source": [
    "#your code here"
   ]
  },
  {
   "cell_type": "markdown",
   "id": "83ea2539",
   "metadata": {},
   "source": [
    "🎁 Bonus : note that the numbers can be rounded to a chosen number of decimal places by using the round function and indicating the variable and number of decimals inside the brackets:"
   ]
  },
  {
   "cell_type": "code",
   "execution_count": null,
   "id": "bba2f5bc",
   "metadata": {},
   "outputs": [],
   "source": [
    "def calculate_genome_percentage(gene_size):\n",
    "    percentage = gene_size / GENOME * 100\n",
    "    return round(percentage, 3)\n",
    "\n",
    "# Example usage for DMD and BRCA genes\n",
    "\n",
    "print(f\"The DMD gene represents {calculate_genome_percentage(DMD)}% of the human genome\")\n",
    "print(f\"The BRCA gene represents {calculate_genome_percentage(BRCA)}% of the human genome\")"
   ]
  },
  {
   "cell_type": "markdown",
   "id": "41db5514",
   "metadata": {
    "id": "41db5514"
   },
   "source": [
    "# 5. Lists and list manipulation:\n",
    "\n",
    "📝In Python, lists are a built-in data structure that allow you to store and organize collections of items. \n",
    "- Lists are defined using square brackets and items within the list are separated by commas. Lists can store any type of data, such as numbers, strings, and even other lists.\n",
    "- List manipulation is the act of modifying or manipulating lists in various ways. This can include adding, removing, or updating items in a list, as well as sorting, reversing or slicing a list. \n",
    "- Python provides a variety of built-in methods and functions that can be used to manipulate lists. For example, the **\"append()\"** method can be used to add an item to the end of a list, the **\"remove()\"** method can be used to remove an item from a list, the **\"sort()\"** method can be used to sort the items in a list in ascending or descending order, and the **\"slice\"** operator can be used to select a specific part of the list.\n",
    "\n",
    "📌List manipulation is an important concept in Python, as lists are widely used in various programming fields. Understanding how to manipulate lists is crucial for any Python advanced user as it allows you to organize and manage data in an efficient and flexible way. With the knowledge of list manipulation, you will be able to work with large sets of data and perform complex operations on them in a powerful and efficient way.\n",
    "\n"
   ]
  },
  {
   "cell_type": "code",
   "execution_count": null,
   "id": "7aed7095",
   "metadata": {
    "colab": {
     "base_uri": "https://localhost:8080/"
    },
    "id": "7aed7095",
    "outputId": "e1249f27-e0e6-4ab0-91f3-75e52259ae5a"
   },
   "outputs": [],
   "source": [
    "# create list\n",
    "genes = [\"DMD\", \"BRCA\", \"Hypothetical\"]\n",
    "\n",
    "# access elements\n",
    "print(genes[0])\n",
    "\n",
    "# modify elements\n",
    "genes [2] = \"IRF1\"\n",
    "print(genes)\n",
    "\n",
    "# add elements\n",
    "genes.append(\"Hypothetical\")\n",
    "print(genes)\n",
    "\n",
    "# remove elements\n",
    "genes.remove(\"Hypothetical\")\n",
    "print(genes)\n",
    "\n",
    "# sort elements\n",
    "genes.sort()\n",
    "print(genes)"
   ]
  },
  {
   "cell_type": "markdown",
   "id": "f339ec02",
   "metadata": {
    "id": "f339ec02"
   },
   "source": [
    "# 6. Dictionaries:\n",
    "\n",
    "📝In Python, dictionaries are a built-in data structure that allow you to store and organize collections of items in a key-value format. \n",
    "- Dictionaries are defined using curly braces {} and items within the dictionary are separated by commas. \n",
    "- Each item in a dictionary is made up of a key-value pair, where the key is a unique identifier for the value. Dictionaries can store any type of data, such as numbers, strings, and even other dictionaries.\n",
    "\n",
    "📌Dictionaries are very useful as they provide a way to store and retrieve data in a very efficient way. They are widely used in various programming fields. Python provides a variety of built-in methods and functions that can be used to manipulate dictionaries. With the knowledge of dictionaries, you will be able to work with large sets of data and perform complex operations on them, making your code more powerful and efficient.\n"
   ]
  },
  {
   "cell_type": "code",
   "execution_count": null,
   "id": "af4dae2c",
   "metadata": {
    "id": "af4dae2c"
   },
   "outputs": [],
   "source": [
    "# create dictionary\n",
    "genesizes = {\n",
    "  \"DMD\": 2.3,\n",
    "  \"BRCA\": 0.1,\n",
    "  \"IRF1\": 0.03\n",
    "}\n",
    "print(genesizes)\n",
    "\n",
    "# access elements\n",
    "print(genesizes[\"IRF1\"])\n",
    "print(genesizes.keys())\n",
    "print(genesizes.values())\n",
    "print(genesizes.get(\"IRF1\"))\n",
    "\n",
    "# modify elements\n",
    "genesizes[\"IRF1\"] = 0.0333\n",
    "print(genesizes)\n",
    "\n",
    "# add elements\n",
    "genesizes[\"Hypothetical\"] = 99\n",
    "print(genesizes)\n",
    "\n",
    "# remove elements\n",
    "del genesizes[\"Hypothetical\"]\n",
    "print(genesizes)\n"
   ]
  },
  {
   "cell_type": "markdown",
   "id": "214c5abc",
   "metadata": {
    "id": "214c5abc"
   },
   "source": [
    "# 7. Loops:\n",
    "\n",
    "📝 Loops are used to execute a block of code repeatedly. The most common type of loop is the **\"for\"** loop: \n",
    "- A **\"for\"** loop is used to iterate over a sequence of items, such as a list or a range of numbers. The general syntax is \"for variable in sequence:\", where the variable takes on each value in the sequence, one at a time, and the code block following the \"for\" statement is executed for each value."
   ]
  },
  {
   "cell_type": "code",
   "execution_count": null,
   "id": "3ced495a",
   "metadata": {},
   "outputs": [],
   "source": [
    "for gene, gene_size in genesizes.items():\n",
    "    print(f\"The {gene} gene represents {calculate_genome_percentage(gene_size)}% of the human genome.\")\n"
   ]
  },
  {
   "cell_type": "markdown",
   "id": "4f91eacc",
   "metadata": {
    "id": "4f91eacc"
   },
   "source": [
    "# 8. Importing modules:\n",
    "\n",
    "📝 A module is a collection of code that can be imported and used in other code. \n",
    "- Importing modules allows you to access pre-existing code and functionality, which can save you time and effort when writing your own code. \n",
    "- Python has a large number of built-in modules that can be imported, as well as a vast number of third-party modules that can be installed using package managers such as pip.\n",
    "\n",
    "To import a module, you use the \"import\" keyword, followed by the name of the module. Once a module is imported, you can access the functions and variables defined in the module by prefixing them with the name of the module. \n",
    "\n",
    "There are several popular collections of modules (libraries) in bioinformatics that are widely used in the field. Some of the most popular ones are:\n",
    "- **Biopython**: a collection of modules for bioinformatics, including tools for sequence analysis, structure analysis, and biological data parsing.\n",
    "- **PyBioMed**: A module that provides various bioinformatics tools, such as protein and DNA sequence analysis, molecular docking, and pharmacological prediction. \n",
    "- **DeepMosaic**: A module that provides tools for genomics and imaging analysis, such as mosaic identification, variant calling, and annotation.\n",
    "- **PyMOL**: A molecular visualization system that can be used to create high-quality images of molecules and visualize protein structures.\n",
    "- **scikit-learn**: A machine learning module that has been widely used in bioinformatics, it contains a variety of tools for classification, regression, clustering and feature selection.\n",
    "\n",
    "📌These are just a few examples of the many libraries available for bioinformatics, and new ones are constantly being developed. These provide powerful tools and functionality that can be used to analyze and visualize biological data, making it easier for bioinformaticians to work with large and complex datasets.\n"
   ]
  },
  {
   "cell_type": "code",
   "execution_count": null,
   "id": "66877753",
   "metadata": {},
   "outputs": [],
   "source": [
    "#Install the Biopython module collection\n",
    "!pip install -U Biopython"
   ]
  },
  {
   "cell_type": "code",
   "execution_count": null,
   "id": "369d6edf",
   "metadata": {
    "id": "369d6edf"
   },
   "outputs": [],
   "source": [
    "#From the Bio.Seq module import the Seq class\n",
    "from Bio.Seq import Seq\n",
    "\n",
    "nucleotide_sequence = 'GCCAUGGCCTGTGCTTGTGCAATCGATGCAGAGGTGGAGCGGATGGAGCTGCATGCA'\n",
    "\n",
    "# Create a Seq object from the give nucleotide sequence\n",
    "nucleotide_seq = Seq(nucleotide_sequence)\n",
    "print(nucleotide_seq)\n",
    "\n",
    "# Use the translate method to translate the nucleotide sequence into an amino acid sequence\n",
    "amino_acid_seq = nucleotide_seq.translate()\n",
    "print(amino_acid_seq)\n",
    "\n",
    "# find the secret message. It is in portuguese...\n",
    "# Create a list of positions where spaces should be added\n",
    "space_positions = [1, 5, 10, 11]\n",
    "\n",
    "# Initialize an empty string to store the modified amino acid sequence\n",
    "modified_sequence = \"\"\n",
    "\n",
    "# Use a for loop to iterate over the amino acid sequence and add spaces at the specified positions\n",
    "for i, amino_acid in enumerate(amino_acid_seq):\n",
    "    modified_sequence += amino_acid\n",
    "    if i+1 in space_positions:\n",
    "        modified_sequence += \" \"\n",
    "\n",
    "# Print the modified amino acid sequence\n",
    "print(modified_sequence)\n"
   ]
  },
  {
   "cell_type": "markdown",
   "id": "cad15c69",
   "metadata": {},
   "source": [
    "# ❓ Final Challenge: Apply what you've learned \n",
    "(can be done after the class...)\n",
    "\n",
    "Now that you have learned about the fundamentals of Python programming, it's time to put your new skills to the test and create your own program!  \n",
    "\n",
    "Try to write code combining the power of print statements and variables, basic arithmetic operations, conditional statements, functions, for and while loops, lists and list manipulation, dictionaries and/or importing modules to create a program that can solve one of your real-world problems.  \n",
    "\n",
    "🏁 The possibilities are endless! So go ahead, be creative, and start coding! 🏁"
   ]
  },
  {
   "cell_type": "code",
   "execution_count": null,
   "id": "2dec8785",
   "metadata": {},
   "outputs": [],
   "source": [
    "#your code here"
   ]
  },
  {
   "cell_type": "markdown",
   "id": "888ea903",
   "metadata": {},
   "source": [
    "Copyright 2023 Nuno S. Osório\n",
    "\n",
    "This work is licensed under a Creative Commons Attribution 4.0 International License.\n",
    "\n",
    "You are free to share and adapt this work, provided you give appropriate credit to the original author and indicate if changes were made."
   ]
  }
 ],
 "metadata": {
  "colab": {
   "provenance": []
  },
  "kernelspec": {
   "display_name": "Python 3 (ipykernel)",
   "language": "python",
   "name": "python3"
  },
  "language_info": {
   "codemirror_mode": {
    "name": "ipython",
    "version": 3
   },
   "file_extension": ".py",
   "mimetype": "text/x-python",
   "name": "python",
   "nbconvert_exporter": "python",
   "pygments_lexer": "ipython3",
   "version": "3.9.7"
  },
  "vscode": {
   "interpreter": {
    "hash": "92d1c8824dd9ed58f2e2fe7d35df9188f2132fcf69312c535170a29d4fbf29a8"
   }
  }
 },
 "nbformat": 4,
 "nbformat_minor": 5
}
