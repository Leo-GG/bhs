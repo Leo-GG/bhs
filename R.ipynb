{
  "nbformat": 4,
  "nbformat_minor": 0,
  "metadata": {
    "colab": {
      "provenance": [],
      "authorship_tag": "ABX9TyOH14QxM49HUJLTYSIr4EO7",
      "include_colab_link": true
    },
    "kernelspec": {
      "name": "ir",
      "display_name": "R"
    },
    "language_info": {
      "name": "R"
    }
  },
  "cells": [
    {
      "cell_type": "markdown",
      "metadata": {
        "id": "view-in-github",
        "colab_type": "text"
      },
      "source": [
        "<a href=\"https://colab.research.google.com/github/nunososorio/bhs/blob/main/R.ipynb\" target=\"_parent\"><img src=\"https://colab.research.google.com/assets/colab-badge.svg\" alt=\"Open In Colab\"/></a>"
      ]
    },
    {
      "cell_type": "code",
      "execution_count": 1,
      "metadata": {
        "colab": {
          "base_uri": "https://localhost:8080/"
        },
        "id": "MHNrxvdhVr9X",
        "outputId": "e3d1e8f0-8be8-42be-91e2-d1a6521c5f30"
      },
      "outputs": [
        {
          "output_type": "stream",
          "name": "stderr",
          "text": [
            "Installing package into ‘/usr/local/lib/R/site-library’\n",
            "(as ‘lib’ is unspecified)\n",
            "\n",
            "'getOption(\"repos\")' replaces Bioconductor standard repositories, see\n",
            "'help(\"repositories\", package = \"BiocManager\")' for details.\n",
            "Replacement repositories:\n",
            "    CRAN: https://cran.rstudio.com\n",
            "\n",
            "Bioconductor version 3.18 (BiocManager 1.30.22), R 4.3.2 (2023-10-31)\n",
            "\n",
            "Installing package(s) 'BiocVersion', 'DESeq2'\n",
            "\n",
            "also installing the dependencies ‘bitops’, ‘formatR’, ‘RCurl’, ‘GenomeInfoDbData’, ‘zlibbioc’, ‘abind’, ‘SparseArray’, ‘lambda.r’, ‘futile.options’, ‘GenomeInfoDb’, ‘XVector’, ‘S4Arrays’, ‘DelayedArray’, ‘futile.logger’, ‘snow’, ‘BH’, ‘S4Vectors’, ‘IRanges’, ‘GenomicRanges’, ‘SummarizedExperiment’, ‘BiocGenerics’, ‘Biobase’, ‘BiocParallel’, ‘matrixStats’, ‘locfit’, ‘Rcpp’, ‘MatrixGenerics’, ‘RcppArmadillo’\n",
            "\n",
            "\n",
            "Old packages: 'bit', 'curl', 'DBI', 'devtools', 'digest', 'gargle', 'glue',\n",
            "  'highr', 'isoband', 'openssl', 'pkgload', 'ps', 'ragg', 'readr', 'reprex',\n",
            "  'rlang', 'roxygen2', 'textshaping', 'timechange', 'uuid', 'whisker', 'withr',\n",
            "  'boot', 'MASS', 'Matrix', 'nlme'\n",
            "\n"
          ]
        }
      ],
      "source": [
        "if (!requireNamespace(\"BiocManager\", quietly = TRUE))\n",
        "    install.packages(\"BiocManager\")\n",
        "\n",
        "BiocManager::install(\"DESeq2\")\n"
      ]
    },
    {
      "cell_type": "code",
      "source": [
        "# Load the DESeq2 library\n",
        "library(DESeq2)\n",
        "\n",
        "# Create a count matrix with multiple samples per condition\n",
        "countData <- matrix(c(10, 10, 20, 20, 30, 30, 40, 40, 15, 15, 25, 25, 35, 35, 45, 45),\n",
        "                    nrow = 4, ncol = 4,\n",
        "                    dimnames = list(paste(\"Gene\", 1:4), paste(\"Sample\", 1:4)))\n",
        "\n",
        "# Create a column data frame with multiple samples per condition\n",
        "colData <- DataFrame(condition = factor(c(\"control\", \"control\", \"treated\", \"treated\")),\n",
        "                     row.names = paste(\"Sample\", 1:4))\n",
        "\n",
        "# Calculate size factors\n",
        "dds <- estimateSizeFactors(dds)\n",
        "\n",
        "# Use gene-wise estimates as final estimates\n",
        "dds <- estimateDispersionsGeneEst(dds)\n",
        "dispersions(dds) <- mcols(dds)$dispGeneEst\n",
        "\n",
        "# Continue with testing\n",
        "dds <- nbinomWaldTest(dds)\n",
        "\n",
        "# Get the results\n",
        "res <- results(dds)\n",
        "\n",
        "# Print the results\n",
        "print(res)\n"
      ],
      "metadata": {
        "colab": {
          "base_uri": "https://localhost:8080/"
        },
        "id": "-0y5SmRaXox9",
        "outputId": "e1feb732-5b89-4f61-c1ce-a46a145fa4ab"
      },
      "execution_count": 4,
      "outputs": [
        {
          "output_type": "stream",
          "name": "stdout",
          "text": [
            "log2 fold change (MLE): condition treated vs control \n",
            "Wald test p-value: condition treated vs control \n",
            "DataFrame with 4 rows and 6 columns\n",
            "        baseMean log2FoldChange     lfcSE      stat    pvalue      padj\n",
            "       <numeric>      <numeric> <numeric> <numeric> <numeric> <numeric>\n",
            "Gene 1   20.0002      0.0463452  0.306042  0.151434  0.879633  0.879633\n",
            "Gene 2   20.0002      0.0463452  0.306042  0.151434  0.879633  0.879633\n",
            "Gene 3   30.9251     -0.0531905  0.253818 -0.209562  0.834010  0.879633\n",
            "Gene 4   30.9251     -0.0531905  0.253818 -0.209562  0.834010  0.879633\n"
          ]
        }
      ]
    }
  ]
}