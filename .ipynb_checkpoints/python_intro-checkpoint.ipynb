{
 "cells": [
  {
   "cell_type": "markdown",
   "id": "70c13954",
   "metadata": {},
   "source": [
    "\n",
    "# 14th Bioinformatics in Health Science Course\n",
    "# School of Medicine, University of Minho, Braga, Portugal\n",
    "\n",
    "Welcome to our Python Fundamentals practical class! This session will cover several practical exercises to help you master the basics of Python programming. You will learn how to use:\n",
    "\n",
    "1. Print statements and variables to output information to the console and store data for use in your programs.\n",
    "\n",
    "2. Basic arithmetic operations to perform mathematical calculations in your code.\n",
    "\n",
    "3. Conditional statements to control the flow of your program based on certain conditions.\n",
    "\n",
    "4. Functions to organize and reuse code.\n",
    "\n",
    "5. For and while loops to repeat actions in your code.\n",
    "\n",
    "6. Lists and list manipulation to work with collections of data.\n",
    "\n",
    "7. Dictionaries to store data in a key-value format.\n",
    "\n",
    "8. Importing modules to access pre-existing code and functionality.\n",
    "\n",
    "Throughout the session, you will have the opportunity to apply your knowledge through hands-on coding exercises to build your skills and confidence as a Python programmer. We're here to help!\n",
    "\n",
    "Ana Pereira, João Correia, Leonardo Garma and Nuno S. Osório\n"
   ]
  },
  {
   "cell_type": "markdown",
   "id": "c1c95103",
   "metadata": {},
   "source": []
  },
  {
   "cell_type": "markdown",
   "id": "bc3c1317",
   "metadata": {
    "id": "bc3c1317"
   },
   "source": [
    "1. Print statements and variables:\n",
    "\n",
    "In Python, \"print\" is a built-in function that is used to output text or variables to the console. You can use the print function to print strings, numbers, or variables. You can also use print(x) to print the value of a variable x. Variables in python are used to store data, like number, strings, etc, you can use variables to store the value and then use the print statement to print that variable.\n"
   ]
  },
  {
   "cell_type": "code",
   "execution_count": 59,
   "id": "0d7004d8",
   "metadata": {
    "colab": {
     "base_uri": "https://localhost:8080/"
    },
    "id": "0d7004d8",
    "outputId": "2eb29883-c32f-4511-b834-39e43b25bc08"
   },
   "outputs": [
    {
     "name": "stdout",
     "output_type": "stream",
     "text": [
      "DMD is a gene that codes for the protein dystrophin, which is involved in muscle function. The DMD gene is located on the X chromosome, and it is the largest known gene in the human genome, spanning about 2.3 million base pairs.\n"
     ]
    }
   ],
   "source": [
    "genename1 = \"DMD\"\n",
    "gene1description = \"is a gene that codes for the protein dystrophin, which is involved in muscle function. The DMD gene is located on the X chromosome, and it is the largest known gene in the human genome, spanning about 2.3 million base pairs.\"\n",
    "print(genename1, gene1description)"
   ]
  },
  {
   "cell_type": "markdown",
   "id": "825cef4f",
   "metadata": {},
   "source": [
    "Create new variables for the gene \"BRCA\" and use print to write a description of the gene. Similar to what was done above for \"DMD\""
   ]
  },
  {
   "cell_type": "code",
   "execution_count": null,
   "id": "477c961c",
   "metadata": {},
   "outputs": [],
   "source": [
    "#your code here"
   ]
  },
  {
   "cell_type": "markdown",
   "id": "9091066a",
   "metadata": {},
   "source": []
  },
  {
   "cell_type": "markdown",
   "id": "a7b6f864",
   "metadata": {
    "id": "a7b6f864"
   },
   "source": [
    "2. Basic arithmetic operations:\n",
    "\n",
    "In Python, basic arithmetic operations include addition (+), subtraction (-), multiplication (*), division (/), floor division (//), and modulus (%). These operations can be performed on numbers (integers and floats) and can be used to perform mathematical calculations in your code. Additionally, Python supports the use of parentheses to control the order of operations and the use of shorthand operators such as +=, -=, *=, and /= to perform arithmetic operations and assign the result back to a variable in a single step. These basic arithmetic operations are fundamental building blocks in any mathematical computation and are widely used in various programming fields, this is why a good understanding of these operations is crucial for any Python developer or advanced user.\n"
   ]
  },
  {
   "cell_type": "code",
   "execution_count": 12,
   "id": "7fbd77d4",
   "metadata": {
    "colab": {
     "base_uri": "https://localhost:8080/"
    },
    "id": "7fbd77d4",
    "outputId": "3accb0af-8385-4ae0-afc9-871bd45fd6e9",
    "scrolled": true
   },
   "outputs": [
    {
     "name": "stdout",
     "output_type": "stream",
     "text": [
      "The DMD gene represents 0.07666666666666666 % of the human genome\n"
     ]
    }
   ],
   "source": [
    "DMD = 2.3 # Million base-pairs\n",
    "BRCA = 0.1 # Million base-pairs\n",
    "GENOME = 3000 # Million base-pairs\n",
    "\n",
    "# Addition example: DMD + BRCA\n",
    "# Subtraction example: DMD - BRCA\n",
    "# Multiplication example: DMD * GENOME\n",
    "# Division example: DMD / GENOME\n",
    "\n",
    "# DMD represents what % of the human genome?\n",
    "print(\"The DMD gene represents\", DMD / GENOME * 100, \"% of the human genome\")"
   ]
  },
  {
   "cell_type": "markdown",
   "id": "0b43d50f",
   "metadata": {
    "id": "daHVYp1zdTh-"
   },
   "source": [
    "What fraction of the human genome does BRCA represents?"
   ]
  },
  {
   "cell_type": "code",
   "execution_count": 61,
   "id": "3b31bd7b",
   "metadata": {},
   "outputs": [],
   "source": [
    "#your code here"
   ]
  },
  {
   "cell_type": "markdown",
   "id": "024f333d",
   "metadata": {},
   "source": []
  },
  {
   "cell_type": "markdown",
   "id": "96ed3a34",
   "metadata": {
    "id": "96ed3a34"
   },
   "source": [
    "3. Conditional statements:\n",
    "\n",
    "Conditional statements are used to control the flow of a program based on certain conditions. They allow you to check if a certain condition is true or false, and execute different code depending on the result. The most common conditional statements are the \"if-elif-else\" statements.\n",
    "Conditional statements are a fundamental concept in programming, they provide a way to control the flow of the program, and they are widely used in various programming fields.\n"
   ]
  },
  {
   "cell_type": "code",
   "execution_count": 62,
   "id": "1e8bd61b",
   "metadata": {
    "id": "1e8bd61b",
    "scrolled": true
   },
   "outputs": [
    {
     "name": "stdout",
     "output_type": "stream",
     "text": [
      "DMD gene is larger than BRCA\n"
     ]
    }
   ],
   "source": [
    "if DMD > BRCA:\n",
    "    print(\"DMD gene is larger than BRCA\")\n",
    "elif DMD == BRCA:\n",
    "    print(\"DMD gene is equal in size to BRCA\")\n",
    "else:\n",
    "    print(\"DMD gene is smaller than BRCA\")"
   ]
  },
  {
   "cell_type": "markdown",
   "id": "30023d2e",
   "metadata": {},
   "source": []
  },
  {
   "cell_type": "markdown",
   "id": "898b34da",
   "metadata": {
    "id": "898b34da"
   },
   "source": [
    "4. Functions:\n",
    "\n",
    "Functions are blocks of reusable code that can be called by name. They are used to organize and structure your code, make it more readable, and promote code reusability. Im Python, A function is defined using the \"def\" keyword, followed by the function name, and a set of parentheses that may contain parameters. The code block inside the function is indented, this block of code will be executed every time the function is called. Functions can also return a value using the \"return\" statement. They can be used to encapsulate complex logic, and make it easier to test and debug your code. Functions are a fundamental concept in Python, and they are widely used in various programming fields."
   ]
  },
  {
   "cell_type": "code",
   "execution_count": 8,
   "id": "ce245b61",
   "metadata": {
    "colab": {
     "base_uri": "https://localhost:8080/"
    },
    "id": "ce245b61",
    "outputId": "eff462bb-25fa-402f-d43a-f64c80fbea61"
   },
   "outputs": [
    {
     "name": "stdout",
     "output_type": "stream",
     "text": [
      "The DMD gene represents 0.07666666666666666 % of the human genome\n",
      "The BRCA gene represents 0.0033333333333333335 % of the human genome\n"
     ]
    }
   ],
   "source": [
    "def calculate_genome_percentage(gene_size):\n",
    "    percentage = gene_size / GENOME * 100\n",
    "    return percentage\n",
    "\n",
    "# Example usage for DMD and BRCA genes\n",
    "\n",
    "print(\"The DMD gene represents\", calculate_genome_percentage(DMD), \"% of the human genome\")\n",
    "print(\"The BRCA gene represents\", calculate_genome_percentage(BRCA), \"% of the human genome\")\n"
   ]
  },
  {
   "cell_type": "markdown",
   "id": "1faa310d",
   "metadata": {},
   "source": [
    "What is the percentage of the genome is represented by an hypothetical gene with 90 million base pairs?"
   ]
  },
  {
   "cell_type": "code",
   "execution_count": 63,
   "id": "4d7215e0",
   "metadata": {},
   "outputs": [],
   "source": [
    "#your code here"
   ]
  },
  {
   "cell_type": "markdown",
   "id": "d1e9f820",
   "metadata": {},
   "source": []
  },
  {
   "cell_type": "markdown",
   "id": "214c5abc",
   "metadata": {
    "id": "214c5abc"
   },
   "source": [
    "5. For and while loops:\n",
    "\n",
    "Loops are used to execute a block of code repeatedly. There are two types of loops: for loops and while loops.\n",
    "\n",
    "A \"for\" loop is used to iterate over a sequence of items, such as a list or a range of numbers. The general syntax is \"for variable in sequence:\", where the variable takes on each value in the sequence, one at a time, and the code block following the \"for\" statement is executed for each value.\n",
    "\n",
    "A \"while\" loop, on the other hand, is used to execute a code block as long as a certain condition is true. The general syntax is \"while condition:\", where the code block following the \"while\" statement is executed repeatedly until the condition is no longer true.\n",
    "\n",
    "Loops are a fundamental concept in programming, they provide a way to repeat actions in your code, and they are widely used in various programming fields. Loops are very useful when you need to perform the same action multiple times with slight variations.\n"
   ]
  },
  {
   "cell_type": "markdown",
   "id": "e475f764",
   "metadata": {},
   "source": [
    "5.1. For loops:"
   ]
  },
  {
   "cell_type": "code",
   "execution_count": 64,
   "id": "64baa391",
   "metadata": {
    "colab": {
     "base_uri": "https://localhost:8080/"
    },
    "id": "64baa391",
    "outputId": "f5009b5e-9888-42e5-ba32-f3ee9dfeec54"
   },
   "outputs": [
    {
     "name": "stdout",
     "output_type": "stream",
     "text": [
      "A gene size of 90 million base-pairs represents at least 3 % of the human genome.\n"
     ]
    }
   ],
   "source": [
    "# try diferent gene sizes from 1-1000 million base-pairs and find one that represents 3% of the genome\n",
    "TARGET_PERCENTAGE = 3\n",
    "for gene_size in range(1, 1000):\n",
    "    if calculate_genome_percentage(gene_size) >= TARGET_PERCENTAGE:\n",
    "        print(\"A gene size of\", gene_size, \"million base-pairs represents at least\", TARGET_PERCENTAGE, \"% of the human genome.\")\n",
    "        break   "
   ]
  },
  {
   "cell_type": "markdown",
   "id": "dc7a3398",
   "metadata": {
    "id": "dc7a3398"
   },
   "source": [
    "5.2. While loops:"
   ]
  },
  {
   "cell_type": "code",
   "execution_count": 65,
   "id": "9c84896c",
   "metadata": {
    "colab": {
     "base_uri": "https://localhost:8080/"
    },
    "id": "9c84896c",
    "outputId": "264110fe-593a-47ae-eea2-d9723eb67687"
   },
   "outputs": [
    {
     "name": "stdout",
     "output_type": "stream",
     "text": [
      "A gene size of 90 million base-pairs represents at least 3 % of the human genome.\n"
     ]
    }
   ],
   "source": [
    "# start at a gene size of 1 million base-pairs and add 1 until the percentage of the genome is 3% \n",
    "gene_size = 1\n",
    "while True:\n",
    "    if calculate_genome_percentage(gene_size) >= TARGET_PERCENTAGE:\n",
    "        print(\"A gene size of\", gene_size, \"million base-pairs represents at least\", TARGET_PERCENTAGE, \"% of the human genome.\")\n",
    "        break\n",
    "    gene_size += 1"
   ]
  },
  {
   "cell_type": "markdown",
   "id": "a67f7791",
   "metadata": {},
   "source": []
  },
  {
   "cell_type": "markdown",
   "id": "41db5514",
   "metadata": {
    "id": "41db5514"
   },
   "source": [
    "6. Lists and list manipulation:\n",
    "\n",
    "In Python, lists are a built-in data structure that allow you to store and organize collections of items. Lists are defined using square brackets and items within the list are separated by commas. Lists can store any type of data, such as numbers, strings, and even other lists.\n",
    "\n",
    "List manipulation is the act of modifying or manipulating lists in various ways. This can include adding, removing, or updating items in a list, as well as sorting, reversing or slicing a list. Python provides a variety of built-in methods and functions that can be used to manipulate lists. For example, the \"append()\" method can be used to add an item to the end of a list, the \"remove()\" method can be used to remove an item from a list, the \"sort()\" method can be used to sort the items in a list in ascending or descending order, and the \"slice\" operator can be used to select a specific part of the list.\n",
    "\n",
    "List manipulation is an important concept in Python, as lists are widely used in various programming fields. Understanding how to manipulate lists is crucial for any Python advanced user as it allows you to organize and manage data in an efficient and flexible way. With the knowledge of list manipulation, you will be able to work with large sets of data and perform complex operations on them in a powerful and efficient way.\n",
    "\n"
   ]
  },
  {
   "cell_type": "code",
   "execution_count": 67,
   "id": "7aed7095",
   "metadata": {
    "colab": {
     "base_uri": "https://localhost:8080/"
    },
    "id": "7aed7095",
    "outputId": "e1249f27-e0e6-4ab0-91f3-75e52259ae5a"
   },
   "outputs": [
    {
     "name": "stdout",
     "output_type": "stream",
     "text": [
      "DMD\n",
      "['DMD', 'BRCA', 'IRF1']\n",
      "['DMD', 'BRCA', 'IRF1', 'Hypotetical']\n",
      "['DMD', 'BRCA', 'IRF1']\n",
      "['BRCA', 'DMD', 'IRF1']\n"
     ]
    }
   ],
   "source": [
    "# create list\n",
    "genes = [\"DMD\", \"BRCA\", \"Hypotetical\"]\n",
    "\n",
    "# access elements\n",
    "print(genes[0])\n",
    "\n",
    "# modify elements\n",
    "genes [2] = \"IRF1\"\n",
    "print(genes)\n",
    "\n",
    "# add elements\n",
    "genes.append(\"Hypotetical\")\n",
    "print(genes)\n",
    "\n",
    "# remove elements\n",
    "genes.remove(\"Hypotetical\")\n",
    "print(genes)\n",
    "\n",
    "# sort elements\n",
    "genes.sort()\n",
    "print(genes)"
   ]
  },
  {
   "cell_type": "markdown",
   "id": "f339ec02",
   "metadata": {
    "id": "f339ec02"
   },
   "source": [
    "7. Dictionaries:\n",
    "\n",
    "In Python, dictionaries are a built-in data structure that allow you to store and organize collections of items in a key-value format. Dictionaries are defined using curly braces {} and items within the dictionary are separated by commas. Each item in a dictionary is made up of a key-value pair, where the key is a unique identifier for the value. Dictionaries can store any type of data, such as numbers, strings, and even other dictionaries.\n",
    "\n",
    "Dictionaries are very useful as they provide a way to store and retrieve data in a very efficient way. They are widely used in various programming fields. Python provides a variety of built-in methods and functions that can be used to manipulate dictionaries. With the knowledge of dictionaries, you will be able to work with large sets of data and perform complex operations on them, making your code more powerful and efficient.\n"
   ]
  },
  {
   "cell_type": "code",
   "execution_count": 76,
   "id": "af4dae2c",
   "metadata": {
    "id": "af4dae2c"
   },
   "outputs": [
    {
     "name": "stdout",
     "output_type": "stream",
     "text": [
      "{'DMD': 2.3, 'BRCA': 0.1, 'IRF1': 0.03}\n",
      "0.03\n",
      "dict_keys(['DMD', 'BRCA', 'IRF1'])\n",
      "dict_values([2.3, 0.1, 0.03])\n",
      "0.03\n",
      "{'DMD': 2.3, 'BRCA': 0.1, 'IRF1': 0.0333}\n",
      "{'DMD': 2.3, 'BRCA': 0.1, 'IRF1': 0.0333, 'Hypotetical': 99}\n",
      "{'DMD': 2.3, 'BRCA': 0.1, 'IRF1': 0.0333}\n"
     ]
    }
   ],
   "source": [
    "# create dictionary\n",
    "genesizes = {\n",
    "  \"DMD\": 2.3,\n",
    "  \"BRCA\": 0.1,\n",
    "  \"IRF1\": 0.03\n",
    "}\n",
    "print(genesizes)\n",
    "\n",
    "# access elements\n",
    "print(genesizes[\"IRF1\"])\n",
    "print(genesizes.keys())\n",
    "print(genesizes.values())\n",
    "print(genesizes.get(\"IRF1\"))\n",
    "\n",
    "# modify elements\n",
    "genesizes[\"IRF1\"] = 0.0333\n",
    "print(genesizes)\n",
    "\n",
    "# add elements\n",
    "genesizes[\"Hypotetical\"] = 99\n",
    "print(genesizes)\n",
    "\n",
    "# remove elements\n",
    "del genesizes[\"Hypotetical\"]\n",
    "print(genesizes)\n"
   ]
  },
  {
   "cell_type": "markdown",
   "id": "4f91eacc",
   "metadata": {
    "id": "4f91eacc"
   },
   "source": [
    "8. Importing modules:\n",
    "\n",
    "A module is a collection of code that can be imported and used in other code. Importing modules allows you to access pre-existing code and functionality, which can save you time and effort when writing your own code. Python has a large number of built-in modules that can be imported, as well as a vast number of third-party modules that can be installed using package managers such as pip.\n",
    "\n",
    "To import a module, you use the \"import\" keyword, followed by the name of the module. Once a module is imported, you can access the functions and variables defined in the module by prefixing them with the name of the module. \n",
    "\n",
    "There are several popular collections of modules in bioinformatics that are widely used in the field. Some of the most popular ones are:\n",
    "\n",
    "Biopython: a collection of modules for bioinformatics, including tools for sequence analysis, structure analysis, and biological data parsing.\n",
    "\n",
    "PyBioMed: A module that provides various bioinformatics tools, such as protein and DNA sequence analysis, molecular docking, and pharmacological prediction.\n",
    "\n",
    "DeepMosaic: A module that provides tools for genomics and imaging analysis, such as mosaic identification, variant calling, and annotation.\n",
    "\n",
    "PyMOL: A molecular visualization system that can be used to create high-quality images of molecules and visualize protein structures.\n",
    "\n",
    "scikit-learn: A machine learning module that has been widely used in bioinformatics, it contains a variety of tools for classification, regression, clustering and feature selection.\n",
    "\n",
    "These are just a few examples of the many collections of modules available for bioinformatics, and new ones are constantly being developed. These modules provide powerful tools and functionality that can be used to analyze and visualize biological data, making it easier for bioinformaticians to work with large and complex datasets.\n"
   ]
  },
  {
   "cell_type": "code",
   "execution_count": null,
   "id": "08cea457",
   "metadata": {},
   "outputs": [],
   "source": [
    "#Install the Biopython module collection\n",
    "!pip install -U Biopython"
   ]
  },
  {
   "cell_type": "code",
   "execution_count": 95,
   "id": "369d6edf",
   "metadata": {
    "id": "369d6edf"
   },
   "outputs": [
    {
     "name": "stdout",
     "output_type": "stream",
     "text": [
      "GCCAUGGCCTGTGCTTGTGCAATCGATGCAGAGGTGGAGCGGATGGAGCTGCATGCA\n",
      "AMACACAIDAEVERMELHA\n",
      "A MACA CAIDA E VERMELHA\n"
     ]
    }
   ],
   "source": [
    "#From the Bio.Seq module import the Seq class\n",
    "from Bio.Seq import Seq\n",
    "\n",
    "nucleotide_sequence = 'GCCAUGGCCTGTGCTTGTGCAATCGATGCAGAGGTGGAGCGGATGGAGCTGCATGCA'\n",
    "\n",
    "# Create a Seq object from the give nucleotide sequence\n",
    "nucleotide_seq = Seq(nucleotide_sequence)\n",
    "print(nucleotide_seq)\n",
    "\n",
    "# Use the translate method to translate the nucleotide sequence into an amino acid sequence\n",
    "amino_acid_seq = nucleotide_seq.translate()\n",
    "print(amino_acid_seq)\n",
    "\n",
    "# find the secret message. It is in portuguese...\n",
    "# Create a list of positions where spaces should be added\n",
    "space_positions = [1, 5, 10, 11]\n",
    "\n",
    "# Initialize an empty string to store the modified amino acid sequence\n",
    "modified_sequence = \"\"\n",
    "\n",
    "# Use a for loop to iterate over the amino acid sequence and add spaces at the specified positions\n",
    "for i, amino_acid in enumerate(amino_acid_seq):\n",
    "    modified_sequence += amino_acid\n",
    "    if i+1 in space_positions:\n",
    "        modified_sequence += \" \"\n",
    "\n",
    "# Print the modified amino acid sequence\n",
    "print(modified_sequence)\n"
   ]
  },
  {
   "cell_type": "markdown",
   "id": "814d53f7",
   "metadata": {},
   "source": []
  },
  {
   "cell_type": "markdown",
   "id": "f9773001",
   "metadata": {},
   "source": [
    "9. Apply what you've learned (can be done after the class...)\n",
    "\n",
    "Now that you have learned about the fundamentals of Python programming, it's time to put your new skills to the test and create your own program! Try to write code combining the power of print statements and variables, basic arithmetic operations, conditional statements, functions, for and while loops, lists and list manipulation, dictionaries and/or importing modules to create a program that can solve one of your real-world problems. The possibilities are endless! So go ahead, be creative, and start coding!"
   ]
  },
  {
   "cell_type": "code",
   "execution_count": null,
   "id": "ff18a8e5",
   "metadata": {},
   "outputs": [],
   "source": [
    "#your code here"
   ]
  },
  {
   "cell_type": "markdown",
   "id": "66ec3490",
   "metadata": {},
   "source": [
    "Copyright 2023 Nuno S. Osório\n",
    "\n",
    "This work is licensed under a Creative Commons Attribution 4.0 International License.\n",
    "\n",
    "You are free to share and adapt this work, provided you give appropriate credit to the original author and indicate if changes were made."
   ]
  }
 ],
 "metadata": {
  "colab": {
   "provenance": []
  },
  "kernelspec": {
   "display_name": "Python 3 (ipykernel)",
   "language": "python",
   "name": "python3"
  },
  "language_info": {
   "codemirror_mode": {
    "name": "ipython",
    "version": 3
   },
   "file_extension": ".py",
   "mimetype": "text/x-python",
   "name": "python",
   "nbconvert_exporter": "python",
   "pygments_lexer": "ipython3",
   "version": "3.9.7"
  }
 },
 "nbformat": 4,
 "nbformat_minor": 5
}
