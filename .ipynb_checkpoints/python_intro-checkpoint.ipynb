{
 "cells": [
  {
   "cell_type": "markdown",
   "id": "e0e79325",
   "metadata": {},
   "source": [
    "# "
   ]
  },
  {
   "cell_type": "markdown",
   "id": "bc3c1317",
   "metadata": {
    "id": "bc3c1317"
   },
   "source": [
    "1. Print statements and variables:"
   ]
  },
  {
   "cell_type": "code",
   "execution_count": null,
   "id": "0d7004d8",
   "metadata": {
    "colab": {
     "base_uri": "https://localhost:8080/"
    },
    "id": "0d7004d8",
    "outputId": "2eb29883-c32f-4511-b834-39e43b25bc08"
   },
   "outputs": [
    {
     "name": "stdout",
     "output_type": "stream",
     "text": [
      "DMD gene is a gene that codes for the protein dystrophin, which is involved in muscle function. The DMD gene is located on the X chromosome, and it is the largest known gene in the human genome, spanning about 2.3 million base pairs.\n"
     ]
    }
   ],
   "source": [
    "genename1 = \"DMD\"\n",
    "print(genename, \"gene is a gene that codes for the protein dystrophin, which is involved in muscle function. The DMD gene is located on the X chromosome, and it is the largest known gene in the human genome, spanning about 2.3 million base pairs.\")"
   ]
  },
  {
   "cell_type": "markdown",
   "id": "f75b591d",
   "metadata": {},
   "source": [
    "Create a variable genename2 with the value \"BRCA\" and use print to write a description of the gene. Similar for what was done above for \"DMD\""
   ]
  },
  {
   "cell_type": "code",
   "execution_count": null,
   "id": "994eba3b",
   "metadata": {},
   "outputs": [],
   "source": [
    "#your code here"
   ]
  },
  {
   "cell_type": "markdown",
   "id": "a7b6f864",
   "metadata": {
    "id": "a7b6f864"
   },
   "source": [
    "2. Basic arithmetic operations:"
   ]
  },
  {
   "cell_type": "code",
   "execution_count": 12,
   "id": "7fbd77d4",
   "metadata": {
    "colab": {
     "base_uri": "https://localhost:8080/"
    },
    "id": "7fbd77d4",
    "outputId": "3accb0af-8385-4ae0-afc9-871bd45fd6e9",
    "scrolled": true
   },
   "outputs": [
    {
     "name": "stdout",
     "output_type": "stream",
     "text": [
      "The DMD gene represents 0.07666666666666666 % of the human genome\n"
     ]
    }
   ],
   "source": [
    "DMD = 2.3 # Million base-pairs\n",
    "BRCA = 0.1 # Million base-pairs\n",
    "GENOME = 3000 # Million base-pairs\n",
    "\n",
    "# Addition example: DMD + BRCA\n",
    "# Subtraction example: DMD - BRCA\n",
    "# Multiplication example: DMD * GENOME\n",
    "# Division example: DMD / GENOME\n",
    "\n",
    "# DMD represents what % of the human genome?\n",
    "print(\"The DMD gene represents\", DMD / GENOME * 100, \"% of the human genome\")"
   ]
  },
  {
   "cell_type": "markdown",
   "id": "8ca3b947",
   "metadata": {
    "id": "daHVYp1zdTh-"
   },
   "source": [
    "What fraction of the human genome does BRCA represents?"
   ]
  },
  {
   "cell_type": "code",
   "execution_count": null,
   "id": "00e82339",
   "metadata": {},
   "outputs": [],
   "source": [
    "#your code here"
   ]
  },
  {
   "cell_type": "markdown",
   "id": "96ed3a34",
   "metadata": {
    "id": "96ed3a34"
   },
   "source": [
    "3. Conditional statements:"
   ]
  },
  {
   "cell_type": "code",
   "execution_count": 4,
   "id": "1e8bd61b",
   "metadata": {
    "id": "1e8bd61b",
    "scrolled": true
   },
   "outputs": [
    {
     "name": "stdout",
     "output_type": "stream",
     "text": [
      "DMD gene is larger than BRCA\n"
     ]
    }
   ],
   "source": [
    "if DMD > BRCA:\n",
    "    print(\"DMD gene is larger than BRCA\")\n",
    "elif DMD == BRCA:\n",
    "    print(\"DMD gene is equal in size to BRCA\")\n",
    "else:\n",
    "    print(\"DMD gene is smaller than BRCA\")"
   ]
  },
  {
   "cell_type": "markdown",
   "id": "898b34da",
   "metadata": {
    "id": "898b34da"
   },
   "source": [
    "4. Functions:"
   ]
  },
  {
   "cell_type": "code",
   "execution_count": 8,
   "id": "ce245b61",
   "metadata": {
    "colab": {
     "base_uri": "https://localhost:8080/"
    },
    "id": "ce245b61",
    "outputId": "eff462bb-25fa-402f-d43a-f64c80fbea61"
   },
   "outputs": [
    {
     "name": "stdout",
     "output_type": "stream",
     "text": [
      "The DMD gene represents 0.07666666666666666 % of the human genome\n",
      "The BRCA gene represents 0.0033333333333333335 % of the human genome\n"
     ]
    }
   ],
   "source": [
    "def calculate_genome_percentage(gene_size):\n",
    "    percentage = gene_size / GENOME * 100\n",
    "    return percentage\n",
    "\n",
    "# Example usage for DMD and BRCA genes\n",
    "\n",
    "print(\"The DMD gene represents\", calculate_genome_percentage(DMD), \"% of the human genome\")\n",
    "print(\"The BRCA gene represents\", calculate_genome_percentage(BRCA), \"% of the human genome\")\n"
   ]
  },
  {
   "cell_type": "markdown",
   "id": "1ebba1bd",
   "metadata": {},
   "source": [
    "What is the percentage of the genome taken by a gene with 90 million base pairs?"
   ]
  },
  {
   "cell_type": "code",
   "execution_count": 29,
   "id": "4d9b4b03",
   "metadata": {},
   "outputs": [],
   "source": [
    "#your code here"
   ]
  },
  {
   "cell_type": "markdown",
   "id": "214c5abc",
   "metadata": {
    "id": "214c5abc"
   },
   "source": [
    "5. For and while loops:"
   ]
  },
  {
   "cell_type": "markdown",
   "id": "e93b6f5f",
   "metadata": {},
   "source": [
    "For loops:"
   ]
  },
  {
   "cell_type": "code",
   "execution_count": 41,
   "id": "64baa391",
   "metadata": {
    "colab": {
     "base_uri": "https://localhost:8080/"
    },
    "id": "64baa391",
    "outputId": "f5009b5e-9888-42e5-ba32-f3ee9dfeec54"
   },
   "outputs": [
    {
     "name": "stdout",
     "output_type": "stream",
     "text": [
      "A gene size of 90 million base-pairs represents at least 3 % of the human genome.\n"
     ]
    }
   ],
   "source": [
    "# try diferent hypotetical gene sizes from 1-1000 million base-pairs and find one that represent aprox. 3% of the genome\n",
    "TARGET_PERCENTAGE = 3\n",
    "for gene_size in range(1, 1000):\n",
    "    if calculate_genome_percentage(gene_size) >= TARGET_PERCENTAGE:\n",
    "        print(\"A gene size of\", gene_size, \"million base-pairs represents at least\", TARGET_PERCENTAGE, \"% of the human genome.\")\n",
    "        break   "
   ]
  },
  {
   "cell_type": "markdown",
   "id": "dc7a3398",
   "metadata": {
    "id": "dc7a3398"
   },
   "source": [
    "While loops:"
   ]
  },
  {
   "cell_type": "code",
   "execution_count": 40,
   "id": "9c84896c",
   "metadata": {
    "colab": {
     "base_uri": "https://localhost:8080/"
    },
    "id": "9c84896c",
    "outputId": "264110fe-593a-47ae-eea2-d9723eb67687"
   },
   "outputs": [
    {
     "name": "stdout",
     "output_type": "stream",
     "text": [
      "A gene size of 90 million base-pairs represents at least 3 % of the human genome.\n"
     ]
    }
   ],
   "source": [
    "gene_size = 1\n",
    "while True:\n",
    "    if calculate_genome_percentage(gene_size) >= TARGET_PERCENTAGE:\n",
    "        print(\"A gene size of\", gene_size, \"million base-pairs represents at least\", TARGET_PERCENTAGE, \"% of the human genome.\")\n",
    "        break\n",
    "    gene_size += 1"
   ]
  },
  {
   "cell_type": "markdown",
   "id": "41db5514",
   "metadata": {
    "id": "41db5514"
   },
   "source": [
    "6. Lists and list manipulation:"
   ]
  },
  {
   "cell_type": "code",
   "execution_count": 43,
   "id": "7aed7095",
   "metadata": {
    "colab": {
     "base_uri": "https://localhost:8080/"
    },
    "id": "7aed7095",
    "outputId": "e1249f27-e0e6-4ab0-91f3-75e52259ae5a"
   },
   "outputs": [
    {
     "name": "stdout",
     "output_type": "stream",
     "text": [
      "DMD\n",
      "['DMD', 'BRCA', 'IRF1']\n",
      "['DMD', 'BRCA', 'IRF1', 'Hypotetical']\n",
      "['DMD', 'BRCA', 'IRF1']\n"
     ]
    }
   ],
   "source": [
    "# create list\n",
    "genes = [\"DMD\", \"BRCA\", \"Hypotetical\"]\n",
    "\n",
    "# access elements\n",
    "print(genes[0])\n",
    "\n",
    "# modify elements\n",
    "genes [2] = \"IRF1\"\n",
    "print(genes)\n",
    "\n",
    "# add elements\n",
    "genes.append(\"Hypotetical\")\n",
    "print(genes)\n",
    "\n",
    "# remove elements\n",
    "genes.remove(\"Hypotetical\")\n",
    "print(genes)"
   ]
  },
  {
   "cell_type": "markdown",
   "id": "f339ec02",
   "metadata": {
    "id": "f339ec02"
   },
   "source": [
    "7. Dictionaries:"
   ]
  },
  {
   "cell_type": "code",
   "execution_count": 48,
   "id": "af4dae2c",
   "metadata": {
    "id": "af4dae2c"
   },
   "outputs": [
    {
     "name": "stdout",
     "output_type": "stream",
     "text": [
      "{'DMD': 2.3, 'BRCA': 0.1, 'IRF1': 0.03}\n",
      "0.03\n",
      "{'DMD': 2.3, 'BRCA': 0.1, 'IRF1': 0.0333}\n",
      "{'DMD': 2.3, 'BRCA': 0.1, 'IRF1': 0.0333, 'Hypotetical': 99}\n",
      "{'DMD': 2.3, 'BRCA': 0.1, 'IRF1': 0.0333}\n"
     ]
    }
   ],
   "source": [
    "# create dictionary\n",
    "genesizes = {\n",
    "  \"DMD\": 2.3,\n",
    "  \"BRCA\": 0.1,\n",
    "  \"IRF1\": 0.03\n",
    "}\n",
    "print(genesizes)\n",
    "\n",
    "# access elements\n",
    "print(genesizes[\"IRF1\"])\n",
    "\n",
    "# modify elements\n",
    "genesizes[\"IRF1\"] = 0.0333\n",
    "print(genesizes)\n",
    "\n",
    "# add elements\n",
    "genesizes[\"Hypotetical\"] = 99\n",
    "print(genesizes)\n",
    "\n",
    "# remove elements\n",
    "del genesizes[\"Hypotetical\"]\n",
    "print(genesizes)\n"
   ]
  },
  {
   "cell_type": "markdown",
   "id": "4f91eacc",
   "metadata": {
    "id": "4f91eacc"
   },
   "source": [
    "8. Importing modules:"
   ]
  },
  {
   "cell_type": "code",
   "execution_count": 57,
   "id": "369d6edf",
   "metadata": {
    "id": "369d6edf"
   },
   "outputs": [
    {
     "name": "stdout",
     "output_type": "stream",
     "text": [
      "564\n"
     ]
    }
   ],
   "source": [
    "import random\n",
    "\n",
    "# generate random number\n",
    "print(random.randint(1, 1000))"
   ]
  },
  {
   "cell_type": "markdown",
   "id": "9b013059",
   "metadata": {},
   "source": [
    "9. Apply what you've learned:"
   ]
  },
  {
   "cell_type": "code",
   "execution_count": null,
   "id": "c1ccc26c",
   "metadata": {},
   "outputs": [],
   "source": [
    "#your code here"
   ]
  }
 ],
 "metadata": {
  "colab": {
   "provenance": []
  },
  "kernelspec": {
   "display_name": "Python 3 (ipykernel)",
   "language": "python",
   "name": "python3"
  },
  "language_info": {
   "codemirror_mode": {
    "name": "ipython",
    "version": 3
   },
   "file_extension": ".py",
   "mimetype": "text/x-python",
   "name": "python",
   "nbconvert_exporter": "python",
   "pygments_lexer": "ipython3",
   "version": "3.9.7"
  }
 },
 "nbformat": 4,
 "nbformat_minor": 5
}
