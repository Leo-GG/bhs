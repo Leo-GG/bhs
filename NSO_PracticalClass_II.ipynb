{
  "cells": [
    {
      "cell_type": "markdown",
      "metadata": {
        "id": "view-in-github",
        "colab_type": "text"
      },
      "source": [
        "<a href=\"https://colab.research.google.com/github/nunososorio/bhs/blob/main/NSO_PracticalClass_II.ipynb\" target=\"_parent\"><img src=\"https://colab.research.google.com/assets/colab-badge.svg\" alt=\"Open In Colab\"/></a>"
      ]
    },
    {
      "cell_type": "markdown",
      "metadata": {
        "id": "wdyMcbYcb2lq"
      },
      "source": [
        "# Practical Training: Omics, Bioinformatics, and Pharmacogenomics\n",
        "\n",
        "By **Nuno S. Osório** 🖋️\n",
        "\n",
        "👋 Welcome to this tutorial! We will explore how to access and use omics-related databases. We will focus on retrieving data from **BioMart** using their respective Python packages, and then analyze the retrieved data. This tutorial is designed to be run on jupyter notebook environments and includes exercises that involve running Python code. 🐍💻\n",
        "\n",
        "You can access an interactive cloud version of the notebook here (https://colab.research.google.com/github/nunososorio/bhs/blob/main/NSO_PracticalClass_II.ipynb).\n",
        "\n",
        "Let's dive in! 🏊‍♂️\n"
      ]
    },
    {
      "cell_type": "markdown",
      "metadata": {
        "id": "2HcWEHJTcYtF"
      },
      "source": [
        "# Introduction to Omics and Its Role in Drug Development 🧪💊\n",
        "\n",
        "Welcome to this practical exploration of omics and its significant role in drug development. 🎓🔬\n",
        "\n",
        "## Omics 🧬\n",
        "\n",
        "Omics is an integrative field of study in biology that encompasses disciplines such as genomics, proteomics, and metabolomics. The goal of omics is to collectively characterize and quantify pools of biological molecules, providing a holistic view of the structure, function, and dynamics of an organism. 🌐\n",
        "\n",
        "## Omics in Drug Development 💡\n",
        "\n",
        "In drug development, omics technologies play a crucial role in understanding the molecular mechanisms of diseases. This molecular-level understanding aids in the identification of potential drug targets and the development of effective therapeutic agents. 💊\n",
        "\n",
        "## Databases in Omics Research 🗃️\n",
        "\n",
        "Bioinformatics databases are essential resources in omics research. These databases, such as the [Ensembl](https://www.ensembl.org/index.html), and [UniProt](https://www.uniprot.org/), store a wealth of omics data. Accessing and analyzing this data is a critical step in drug discovery and development. 📚\n",
        "\n",
        "## Programmatic Access to Databases 💻\n",
        "\n",
        "For large-scale and reproducible analysis, programmatic access to these databases is often more efficient than manual data retrieval through web interfaces. Python, a popular language in bioinformatics, offers several libraries for this purpose. For instance, the pybiomart library provides an interface to the Ensembl, enabling the retrieval and analysis of omics data directly within Python scripts. 🐍\n",
        "\n",
        "In the following sections of this tutorial, we will delve deeper into how to use this Python library for accessing and analyzing omics data. 🚀\n"
      ]
    },
    {
      "cell_type": "markdown",
      "metadata": {
        "id": "SO7GUg2GdI9X"
      },
      "source": [
        "## Setup\n",
        "First, we need to install the necessary Python packages. Run the following commands in your environment:\n"
      ]
    },
    {
      "cell_type": "code",
      "execution_count": null,
      "metadata": {
        "id": "ZfkWcb8kb440"
      },
      "outputs": [],
      "source": [
        "!pip install pybiomart\n"
      ]
    },
    {
      "cell_type": "markdown",
      "metadata": {
        "id": "xWvgMs2XeUGP"
      },
      "source": [
        "Now, import the library:"
      ]
    },
    {
      "cell_type": "code",
      "execution_count": 11,
      "metadata": {
        "id": "_Ql7nI-negPM"
      },
      "outputs": [],
      "source": [
        "from pybiomart import Server"
      ]
    },
    {
      "cell_type": "markdown",
      "metadata": {
        "id": "2HJHG2rve82N"
      },
      "source": [
        "## Explore"
      ]
    },
    {
      "cell_type": "markdown",
      "metadata": {
        "id": "FdaXOf4qfAH_"
      },
      "source": [
        "Lets start by learning all types of data or information we can retreive from Ensembl database using the pybiomart library:"
      ]
    },
    {
      "cell_type": "code",
      "execution_count": null,
      "metadata": {
        "id": "wP0HbC6ue_ZH"
      },
      "outputs": [],
      "source": [
        "# Connect to the server\n",
        "server = Server(host='http://www.ensembl.org')\n",
        "\n",
        "# Select the human dataset\n",
        "dataset = server.marts['ENSEMBL_MART_ENSEMBL'].datasets['hsapiens_gene_ensembl']\n",
        "\n",
        "# List all available attributes\n",
        "attributes = dataset.list_attributes()\n",
        "attributes\n",
        "\n"
      ]
    },
    {
      "cell_type": "markdown",
      "metadata": {
        "id": "L3Z7ukV7juBu"
      },
      "source": [
        "As you can see, it returns a table containing a wealth of information about different attributes (3205) of each entry.\n",
        "\n",
        "Here’s a brief explanation of some of the attributes:\n",
        "\n",
        "- **'ensembl_gene_id'**: The Ensembl ID of the gene.\n",
        "- **'ensembl_transcript_id'**: The Ensembl ID of the transcript.\n",
        "- **'description'**: The description of the gene.\n",
        "- **'chromosome_name'**: The name of the chromosome where the gene is located.\n",
        "- **'start_position'**: The start position of the gene on the chromosome.\n",
        "- **'end_position'**: The end position of the gene on the chromosome.\n",
        "- **'strand'**: The strand of the gene on the chromosome.\n",
        "- **'transcript_count'**: The number of transcripts of the gene.\n",
        "- **'percentage_gc_content'**: The percentage of GC content in the gene.\n",
        "\n"
      ]
    },
    {
      "cell_type": "markdown",
      "source": [
        "We can query the database selecting the atributtes and filters of interest. The available filters are:"
      ],
      "metadata": {
        "id": "JEaEPCXsA4TV"
      }
    },
    {
      "cell_type": "code",
      "source": [
        "# List all available filters\n",
        "filters = dataset.list_filters()\n",
        "filters\n"
      ],
      "metadata": {
        "id": "p0uQIJCsAYCQ"
      },
      "execution_count": null,
      "outputs": []
    },
    {
      "cell_type": "markdown",
      "metadata": {
        "id": "Ue6uu_nefxUW"
      },
      "source": [
        "If we want to get information on a gene by 'gene_id' we can use:"
      ]
    },
    {
      "cell_type": "code",
      "source": [
        "from pybiomart import Server\n",
        "\n",
        "# Connect to the server\n",
        "server = Server(host='http://www.ensembl.org')\n",
        "\n",
        "# Select the dataset\n",
        "dataset = server.marts['ENSEMBL_MART_ENSEMBL'].datasets['hsapiens_gene_ensembl']\n",
        "\n",
        "# Define the gene id\n",
        "gene_id = 'ENSG00000001626'  # replace with your gene id\n",
        "\n",
        "# Define the attributes\n",
        "attributes = ['ensembl_gene_id', 'external_gene_name']\n",
        "\n",
        "# Query the dataset\n",
        "result = dataset.query(attributes=attributes, filters={'gene_id': gene_id})\n",
        "\n",
        "# Print the result\n",
        "print(result)\n"
      ],
      "metadata": {
        "id": "Mn6ugSkuPQvX",
        "outputId": "1aceefa9-cdc9-4b9a-fb8e-5cbcc8f4e7d7",
        "colab": {
          "base_uri": "https://localhost:8080/"
        }
      },
      "execution_count": 21,
      "outputs": [
        {
          "output_type": "stream",
          "name": "stdout",
          "text": [
            "Empty DataFrame\n",
            "Columns: [Gene stable ID, Gene name]\n",
            "Index: []\n"
          ]
        }
      ]
    },
    {
      "cell_type": "code",
      "execution_count": 14,
      "metadata": {
        "id": "dCTb-1m1fwQA",
        "colab": {
          "base_uri": "https://localhost:8080/",
          "height": 53
        },
        "outputId": "05361601-29bf-4668-ca61-cca3dcb42865"
      },
      "outputs": [
        {
          "output_type": "execute_result",
          "data": {
            "text/plain": [
              "Empty DataFrame\n",
              "Columns: [Gene stable ID, Gene name, Gene description, Chromosome/scaffold name, Gene start (bp), Gene end (bp), Gene % GC content, Gene type]\n",
              "Index: []"
            ],
            "text/html": [
              "\n",
              "  <div id=\"df-84e02af0-6b4f-4197-9345-cc734871bafe\" class=\"colab-df-container\">\n",
              "    <div>\n",
              "<style scoped>\n",
              "    .dataframe tbody tr th:only-of-type {\n",
              "        vertical-align: middle;\n",
              "    }\n",
              "\n",
              "    .dataframe tbody tr th {\n",
              "        vertical-align: top;\n",
              "    }\n",
              "\n",
              "    .dataframe thead th {\n",
              "        text-align: right;\n",
              "    }\n",
              "</style>\n",
              "<table border=\"1\" class=\"dataframe\">\n",
              "  <thead>\n",
              "    <tr style=\"text-align: right;\">\n",
              "      <th></th>\n",
              "      <th>Gene stable ID</th>\n",
              "      <th>Gene name</th>\n",
              "      <th>Gene description</th>\n",
              "      <th>Chromosome/scaffold name</th>\n",
              "      <th>Gene start (bp)</th>\n",
              "      <th>Gene end (bp)</th>\n",
              "      <th>Gene % GC content</th>\n",
              "      <th>Gene type</th>\n",
              "    </tr>\n",
              "  </thead>\n",
              "  <tbody>\n",
              "  </tbody>\n",
              "</table>\n",
              "</div>\n",
              "    <div class=\"colab-df-buttons\">\n",
              "\n",
              "  <div class=\"colab-df-container\">\n",
              "    <button class=\"colab-df-convert\" onclick=\"convertToInteractive('df-84e02af0-6b4f-4197-9345-cc734871bafe')\"\n",
              "            title=\"Convert this dataframe to an interactive table.\"\n",
              "            style=\"display:none;\">\n",
              "\n",
              "  <svg xmlns=\"http://www.w3.org/2000/svg\" height=\"24px\" viewBox=\"0 -960 960 960\">\n",
              "    <path d=\"M120-120v-720h720v720H120Zm60-500h600v-160H180v160Zm220 220h160v-160H400v160Zm0 220h160v-160H400v160ZM180-400h160v-160H180v160Zm440 0h160v-160H620v160ZM180-180h160v-160H180v160Zm440 0h160v-160H620v160Z\"/>\n",
              "  </svg>\n",
              "    </button>\n",
              "\n",
              "  <style>\n",
              "    .colab-df-container {\n",
              "      display:flex;\n",
              "      gap: 12px;\n",
              "    }\n",
              "\n",
              "    .colab-df-convert {\n",
              "      background-color: #E8F0FE;\n",
              "      border: none;\n",
              "      border-radius: 50%;\n",
              "      cursor: pointer;\n",
              "      display: none;\n",
              "      fill: #1967D2;\n",
              "      height: 32px;\n",
              "      padding: 0 0 0 0;\n",
              "      width: 32px;\n",
              "    }\n",
              "\n",
              "    .colab-df-convert:hover {\n",
              "      background-color: #E2EBFA;\n",
              "      box-shadow: 0px 1px 2px rgba(60, 64, 67, 0.3), 0px 1px 3px 1px rgba(60, 64, 67, 0.15);\n",
              "      fill: #174EA6;\n",
              "    }\n",
              "\n",
              "    .colab-df-buttons div {\n",
              "      margin-bottom: 4px;\n",
              "    }\n",
              "\n",
              "    [theme=dark] .colab-df-convert {\n",
              "      background-color: #3B4455;\n",
              "      fill: #D2E3FC;\n",
              "    }\n",
              "\n",
              "    [theme=dark] .colab-df-convert:hover {\n",
              "      background-color: #434B5C;\n",
              "      box-shadow: 0px 1px 3px 1px rgba(0, 0, 0, 0.15);\n",
              "      filter: drop-shadow(0px 1px 2px rgba(0, 0, 0, 0.3));\n",
              "      fill: #FFFFFF;\n",
              "    }\n",
              "  </style>\n",
              "\n",
              "    <script>\n",
              "      const buttonEl =\n",
              "        document.querySelector('#df-84e02af0-6b4f-4197-9345-cc734871bafe button.colab-df-convert');\n",
              "      buttonEl.style.display =\n",
              "        google.colab.kernel.accessAllowed ? 'block' : 'none';\n",
              "\n",
              "      async function convertToInteractive(key) {\n",
              "        const element = document.querySelector('#df-84e02af0-6b4f-4197-9345-cc734871bafe');\n",
              "        const dataTable =\n",
              "          await google.colab.kernel.invokeFunction('convertToInteractive',\n",
              "                                                    [key], {});\n",
              "        if (!dataTable) return;\n",
              "\n",
              "        const docLinkHtml = 'Like what you see? Visit the ' +\n",
              "          '<a target=\"_blank\" href=https://colab.research.google.com/notebooks/data_table.ipynb>data table notebook</a>'\n",
              "          + ' to learn more about interactive tables.';\n",
              "        element.innerHTML = '';\n",
              "        dataTable['output_type'] = 'display_data';\n",
              "        await google.colab.output.renderOutput(dataTable, element);\n",
              "        const docLink = document.createElement('div');\n",
              "        docLink.innerHTML = docLinkHtml;\n",
              "        element.appendChild(docLink);\n",
              "      }\n",
              "    </script>\n",
              "  </div>\n",
              "\n",
              "    </div>\n",
              "  </div>\n"
            ],
            "application/vnd.google.colaboratory.intrinsic+json": {
              "type": "dataframe",
              "variable_name": "result",
              "repr_error": "'str' object has no attribute 'empty'"
            }
          },
          "metadata": {},
          "execution_count": 14
        }
      ],
      "source": [
        "# Define the gene id\n",
        "gene_id = 'ENSG00000001626'\n",
        "\n",
        "# Define the attributes\n",
        "attributes = ['ensembl_gene_id', 'external_gene_name', 'description', 'chromosome_name', 'start_position', 'end_position', 'percentage_gene_gc_content', 'gene_biotype']\n",
        "\n",
        "# Query the dataset\n",
        "result = dataset.query(attributes=attributes, filters={'gene_id': [gene_id]})\n",
        "\n",
        "result\n"
      ]
    },
    {
      "cell_type": "code",
      "source": [
        "from pybiomart import Server\n",
        "\n",
        "# Connect to the server\n",
        "server = Server(host='http://www.ensembl.org')\n",
        "\n",
        "# Select the dataset\n",
        "dataset = server.marts['ENSEMBL_MART_ENSEMBL'].datasets['hsapiens_gene_ensembl']\n",
        "\n",
        "# Define the gene id\n",
        "gene_id = '248333'  # replace with your gene id\n",
        "\n",
        "# Define the attributes\n",
        "attributes = ['ensembl_gene_id', 'external_gene_name', 'description', 'chromosome_name', 'start_position', 'end_position', 'percentage_gene_gc_content', 'gene_biotype']\n",
        "\n",
        "# Query the dataset\n",
        "result = dataset.query(attributes=attributes, filters={'gene_id': [gene_id]})\n",
        "\n",
        "# Print the result\n",
        "print(result)\n"
      ],
      "metadata": {
        "id": "7ftta5rJCFLg",
        "outputId": "ab7ef85f-4aa8-4bfb-fd96-bbffc7f3d93f",
        "colab": {
          "base_uri": "https://localhost:8080/"
        }
      },
      "execution_count": 24,
      "outputs": [
        {
          "output_type": "stream",
          "name": "stdout",
          "text": [
            "Empty DataFrame\n",
            "Columns: [Gene stable ID, Gene name, Gene description, Chromosome/scaffold name, Gene start (bp), Gene end (bp), Gene % GC content, Gene type]\n",
            "Index: []\n"
          ]
        }
      ]
    },
    {
      "cell_type": "markdown",
      "metadata": {
        "id": "rnhFYif2f-G2"
      },
      "source": [
        "Not easy to read... Don't worry you can convert the 'genes' object into a pandas DataFrame easier reading and manipulation. Here’s how you can do it:"
      ]
    },
    {
      "cell_type": "code",
      "execution_count": null,
      "metadata": {
        "id": "OBu9mCyxgcwa"
      },
      "outputs": [],
      "source": [
        "import pandas as pd\n",
        "# Convert the 'genes' object into a pandas DataFrame.\n",
        "genes_df = pd.DataFrame(genes)\n",
        "\n",
        "# Display the DataFrame.\n",
        "genes_df\n"
      ]
    },
    {
      "cell_type": "markdown",
      "metadata": {
        "id": "exercise1"
      },
      "source": [
        "## Exercise 1: Exploring Gene Information\n",
        "\n",
        "Now that we have our data in a more readable format, let's start exploring it. For this exercise, you will retrieve and analyze information about a specific gene.\n",
        "\n",
        "**Task:**\n",
        "\n",
        "1. Retrieve information about the gene with the Ensembl ID 'ENSG00000139618'.\n",
        "2. Display the information in a readable format.\n",
        "3. Analyze the information and answer the following questions:\n",
        "    - What is the name of the gene?\n",
        "    - On which chromosome is the gene located?\n",
        "    - What is the start and end position of the gene on the chromosome?\n",
        "    - What is the percentage of GC content in the gene?\n",
        "    - What is the biotype of the gene?\n",
        "    - What is the status of the gene in the BioMart database?\n",
        "\n",
        "Write your code in the cell below:"
      ]
    },
    {
      "cell_type": "code",
      "execution_count": null,
      "metadata": {
        "id": "exercise1_code"
      },
      "outputs": [],
      "source": [
        "# Write your code here\n"
      ]
    },
    {
      "cell_type": "markdown",
      "metadata": {
        "id": "exercise2"
      },
      "source": [
        "## Exercise 2: Comparing Genes\n",
        "\n",
        "In this exercise, you will compare two genes based on their GC content and biotype.\n",
        "\n",
        "**Task:**\n",
        "\n",
        "1. Retrieve information about the genes with the Ensembl IDs 'ENSG00000139618' and 'ENSG00000248333'.\n",
        "2. Compare the two genes based on their GC content and biotype.\n",
        "3. Answer the following questions:\n",
        "    - Which gene has a higher GC content?\n",
        "    - Do the two genes have the same biotype?\n",
        "\n",
        "Write your code in the cell below:"
      ]
    },
    {
      "cell_type": "code",
      "execution_count": null,
      "metadata": {
        "id": "exercise2_code"
      },
      "outputs": [],
      "source": [
        "# Write your code here\n"
      ]
    },
    {
      "cell_type": "markdown",
      "metadata": {
        "id": "scenario_based_exercise"
      },
      "source": [
        "## Scenario-Based Exercise: Investigating a Genetic Disorder\n",
        "\n",
        "Imagine you are a geneticist investigating a rare genetic disorder. You suspect that the disorder is caused by a mutation in one of two genes: 'ENSG00000139618' or 'ENSG00000248333'.\n",
        "\n",
        "You decide to use the BioMart database to gather more information about these two genes.\n",
        "\n",
        "**Task:**\n",
        "\n",
        "1. Retrieve information about the genes 'ENSG00000139618' and 'ENSG00000248333'.\n",
        "2. Analyze the information and answer the following questions:\n",
        "    - On which chromosomes are the genes located?\n",
        "    - What are the start and end positions of the genes on their respective chromosomes?\n",
        "    - What are the bitypes of the genes?\n",
        "    - What are the statuses of the genes in the BioMart database?\n",
        "3. Based on your analysis, do you think one of these genes could be responsible for the genetic disorder? Why or why not?\n",
        "\n",
        "Write your code in the cell below:"
      ]
    },
    {
      "cell_type": "code",
      "execution_count": null,
      "metadata": {
        "id": "scenario_based_exercise_code"
      },
      "outputs": [],
      "source": [
        "# Write your code here\n"
      ]
    },
    {
      "cell_type": "markdown",
      "metadata": {
        "id": "end"
      },
      "source": [
        "## Conclusion\n",
        "\n",
        "Congratulations on completing the tutorial! 🎉 You've learned how to access and use the BioMart database using Python. You've also gained experience in analyzing gene information, which is a crucial skill in bioinformatics and pharmacogenomics.\n",
        "\n",
        "Keep practicing and exploring the BioMart database. There's a wealth of information waiting to be discovered! 🚀\n"
      ]
    }
  ],
  "metadata": {
    "kernelspec": {
      "display_name": "Python 3",
      "language": "python",
      "name": "python3"
    },
    "language_info": {
      "codemirror_mode": {
        "name": "ipython",
        "version": 3
      },
      "file_extension": ".py",
      "mimetype": "text/x-python",
      "name": "python",
      "nbconvert_exporter": "python",
      "pygments_lexer": "ipython3",
      "version": "3.8.5"
    },
    "colab": {
      "provenance": [],
      "include_colab_link": true
    }
  },
  "nbformat": 4,
  "nbformat_minor": 0
}