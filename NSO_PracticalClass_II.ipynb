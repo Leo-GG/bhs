{
  "cells": [
    {
      "cell_type": "markdown",
      "metadata": {
        "id": "view-in-github",
        "colab_type": "text"
      },
      "source": [
        "<a href=\"https://colab.research.google.com/github/nunososorio/bhs/blob/main/NSO_PracticalClass_II.ipynb\" target=\"_parent\"><img src=\"https://colab.research.google.com/assets/colab-badge.svg\" alt=\"Open In Colab\"/></a>"
      ]
    },
    {
      "cell_type": "markdown",
      "metadata": {
        "id": "wdyMcbYcb2lq"
      },
      "source": [
        "# Practical Training: Omics, Bioinformatics, and Pharmacogenomics\n",
        "\n",
        "By **Nuno S. Osório** 🖋️\n",
        "\n",
        "👋 Welcome to this tutorial! We will explore how to access and use omics-related databases. We will focus on retrieving data from **BioMart** using their respective Python packages, and then analyze the retrieved data. This tutorial is designed to be run on jupyter notebook environments and includes exercises that involve running Python code. 🐍💻\n",
        "\n",
        "You can access an interactive cloud version of the notebook here (https://colab.research.google.com/github/nunososorio/bhs/blob/main/NSO_PracticalClass_II.ipynb).\n",
        "\n",
        "Let's dive in! 🏊‍♂️\n"
      ]
    },
    {
      "cell_type": "markdown",
      "metadata": {
        "id": "2HcWEHJTcYtF"
      },
      "source": [
        "# Introduction to Omics and Its Role in Drug Development 🧪💊\n",
        "\n",
        "Welcome to this practical exploration of omics and its significant role in drug development. 🎓🔬\n",
        "\n",
        "## Omics 🧬\n",
        "\n",
        "Omics is an integrative field of study in biology that encompasses disciplines such as genomics, proteomics, and metabolomics. The goal of omics is to collectively characterize and quantify pools of biological molecules, providing a holistic view of the structure, function, and dynamics of an organism. 🌐\n",
        "\n",
        "## Omics in Drug Development 💡\n",
        "\n",
        "In drug development, omics technologies play a crucial role in understanding the molecular mechanisms of diseases. This molecular-level understanding aids in the identification of potential drug targets and the development of effective therapeutic agents. 💊\n",
        "\n",
        "## Databases in Omics Research 🗃️\n",
        "\n",
        "Bioinformatics databases are essential resources in omics research. These databases, such as the [Ensembl](https://www.ensembl.org/index.html), and [UniProt](https://www.uniprot.org/), store a wealth of omics data. Accessing and analyzing this data is a critical step in drug discovery and development. 📚\n",
        "\n",
        "## Programmatic Access to Databases 💻\n",
        "\n",
        "For large-scale and reproducible analysis, programmatic access to these databases is often more efficient than manual data retrieval through web interfaces. Python, a popular language in bioinformatics, offers several libraries for this purpose. For instance, the pybiomart library provides an interface to the Ensembl, enabling the retrieval and analysis of omics data directly within Python scripts. 🐍\n",
        "\n",
        "In the following sections of this tutorial, we will delve deeper into how to use this Python library for accessing and analyzing omics data. 🚀\n"
      ]
    },
    {
      "cell_type": "markdown",
      "metadata": {
        "id": "SO7GUg2GdI9X"
      },
      "source": [
        "## Setup\n",
        "First, we need to install the necessary Python packages. Run the following commands in your environment:\n"
      ]
    },
    {
      "cell_type": "code",
      "execution_count": 5,
      "metadata": {
        "id": "ZfkWcb8kb440",
        "outputId": "7acda2ad-0e44-4917-d730-46bdd915d8c3",
        "colab": {
          "base_uri": "https://localhost:8080/"
        }
      },
      "outputs": [
        {
          "output_type": "stream",
          "name": "stdout",
          "text": [
            "Collecting pybiomart\n",
            "  Downloading pybiomart-0.2.0-py3-none-any.whl (10 kB)\n",
            "Requirement already satisfied: future in /usr/local/lib/python3.10/dist-packages (from pybiomart) (0.18.3)\n",
            "Requirement already satisfied: pandas in /usr/local/lib/python3.10/dist-packages (from pybiomart) (1.5.3)\n",
            "Requirement already satisfied: requests in /usr/local/lib/python3.10/dist-packages (from pybiomart) (2.31.0)\n",
            "Collecting requests-cache (from pybiomart)\n",
            "  Downloading requests_cache-1.2.0-py3-none-any.whl (61 kB)\n",
            "\u001b[2K     \u001b[90m━━━━━━━━━━━━━━━━━━━━━━━━━━━━━━━━━━━━━━━━\u001b[0m \u001b[32m61.4/61.4 kB\u001b[0m \u001b[31m2.1 MB/s\u001b[0m eta \u001b[36m0:00:00\u001b[0m\n",
            "\u001b[?25hRequirement already satisfied: python-dateutil>=2.8.1 in /usr/local/lib/python3.10/dist-packages (from pandas->pybiomart) (2.8.2)\n",
            "Requirement already satisfied: pytz>=2020.1 in /usr/local/lib/python3.10/dist-packages (from pandas->pybiomart) (2023.4)\n",
            "Requirement already satisfied: numpy>=1.21.0 in /usr/local/lib/python3.10/dist-packages (from pandas->pybiomart) (1.25.2)\n",
            "Requirement already satisfied: charset-normalizer<4,>=2 in /usr/local/lib/python3.10/dist-packages (from requests->pybiomart) (3.3.2)\n",
            "Requirement already satisfied: idna<4,>=2.5 in /usr/local/lib/python3.10/dist-packages (from requests->pybiomart) (3.6)\n",
            "Requirement already satisfied: urllib3<3,>=1.21.1 in /usr/local/lib/python3.10/dist-packages (from requests->pybiomart) (2.0.7)\n",
            "Requirement already satisfied: certifi>=2017.4.17 in /usr/local/lib/python3.10/dist-packages (from requests->pybiomart) (2024.2.2)\n",
            "Requirement already satisfied: attrs>=21.2 in /usr/local/lib/python3.10/dist-packages (from requests-cache->pybiomart) (23.2.0)\n",
            "Collecting cattrs>=22.2 (from requests-cache->pybiomart)\n",
            "  Downloading cattrs-23.2.3-py3-none-any.whl (57 kB)\n",
            "\u001b[2K     \u001b[90m━━━━━━━━━━━━━━━━━━━━━━━━━━━━━━━━━━━━━━━━\u001b[0m \u001b[32m57.5/57.5 kB\u001b[0m \u001b[31m6.4 MB/s\u001b[0m eta \u001b[36m0:00:00\u001b[0m\n",
            "\u001b[?25hRequirement already satisfied: platformdirs>=2.5 in /usr/local/lib/python3.10/dist-packages (from requests-cache->pybiomart) (4.2.0)\n",
            "Collecting url-normalize>=1.4 (from requests-cache->pybiomart)\n",
            "  Downloading url_normalize-1.4.3-py2.py3-none-any.whl (6.8 kB)\n",
            "Requirement already satisfied: exceptiongroup>=1.1.1 in /usr/local/lib/python3.10/dist-packages (from cattrs>=22.2->requests-cache->pybiomart) (1.2.0)\n",
            "Requirement already satisfied: typing-extensions!=4.6.3,>=4.1.0 in /usr/local/lib/python3.10/dist-packages (from cattrs>=22.2->requests-cache->pybiomart) (4.9.0)\n",
            "Requirement already satisfied: six>=1.5 in /usr/local/lib/python3.10/dist-packages (from python-dateutil>=2.8.1->pandas->pybiomart) (1.16.0)\n",
            "Installing collected packages: url-normalize, cattrs, requests-cache, pybiomart\n",
            "Successfully installed cattrs-23.2.3 pybiomart-0.2.0 requests-cache-1.2.0 url-normalize-1.4.3\n"
          ]
        }
      ],
      "source": [
        "!pip install pybiomart\n"
      ]
    },
    {
      "cell_type": "markdown",
      "metadata": {
        "id": "xWvgMs2XeUGP"
      },
      "source": [
        "Now, import the library:"
      ]
    },
    {
      "cell_type": "code",
      "execution_count": 3,
      "metadata": {
        "id": "_Ql7nI-negPM"
      },
      "outputs": [],
      "source": [
        "import\n"
      ]
    },
    {
      "cell_type": "markdown",
      "metadata": {
        "id": "2HJHG2rve82N"
      },
      "source": [
        "## Explore"
      ]
    },
    {
      "cell_type": "markdown",
      "metadata": {
        "id": "FdaXOf4qfAH_"
      },
      "source": [
        "Lets start by learning all types of data or information we can retreive from BioMart database using the biomart client. You can list available data entities using the following code:"
      ]
    },
    {
      "cell_type": "code",
      "execution_count": 4,
      "metadata": {
        "id": "wP0HbC6ue_ZH",
        "outputId": "a480735c-91a7-42ff-c888-814617b799f1",
        "colab": {
          "base_uri": "https://localhost:8080/",
          "height": 339
        }
      },
      "outputs": [
        {
          "output_type": "error",
          "ename": "HTTPError",
          "evalue": "404 Client Error: Not Found for url: http://www.biomart.org/biomart/martservice",
          "traceback": [
            "\u001b[0;31m---------------------------------------------------------------------------\u001b[0m",
            "\u001b[0;31mHTTPError\u001b[0m                                 Traceback (most recent call last)",
            "\u001b[0;32m<ipython-input-4-3cd962e3121e>\u001b[0m in \u001b[0;36m<cell line: 1>\u001b[0;34m()\u001b[0m\n\u001b[0;32m----> 1\u001b[0;31m \u001b[0mserver\u001b[0m \u001b[0;34m=\u001b[0m \u001b[0mBiomartServer\u001b[0m\u001b[0;34m(\u001b[0m \u001b[0;34m\"http://www.biomart.org/biomart\"\u001b[0m \u001b[0;34m)\u001b[0m\u001b[0;34m\u001b[0m\u001b[0;34m\u001b[0m\u001b[0m\n\u001b[0m\u001b[1;32m      2\u001b[0m \u001b[0mavailable_resources\u001b[0m \u001b[0;34m=\u001b[0m \u001b[0mserver\u001b[0m\u001b[0;34m.\u001b[0m\u001b[0mlist_marts\u001b[0m\u001b[0;34m(\u001b[0m\u001b[0;34m)\u001b[0m\u001b[0;34m\u001b[0m\u001b[0;34m\u001b[0m\u001b[0m\n\u001b[1;32m      3\u001b[0m \u001b[0;34m\u001b[0m\u001b[0m\n\u001b[1;32m      4\u001b[0m \u001b[0mavailable_resources\u001b[0m\u001b[0;34m\u001b[0m\u001b[0;34m\u001b[0m\u001b[0m\n",
            "\u001b[0;32m/usr/local/lib/python3.10/dist-packages/biomart/server.py\u001b[0m in \u001b[0;36m__init__\u001b[0;34m(self, url, **kwargs)\u001b[0m\n\u001b[1;32m     25\u001b[0m \u001b[0;34m\u001b[0m\u001b[0m\n\u001b[1;32m     26\u001b[0m         \u001b[0mself\u001b[0m\u001b[0;34m.\u001b[0m\u001b[0mis_alive\u001b[0m \u001b[0;34m=\u001b[0m \u001b[0;32mFalse\u001b[0m\u001b[0;34m\u001b[0m\u001b[0;34m\u001b[0m\u001b[0m\n\u001b[0;32m---> 27\u001b[0;31m         \u001b[0mself\u001b[0m\u001b[0;34m.\u001b[0m\u001b[0massert_alive\u001b[0m\u001b[0;34m(\u001b[0m\u001b[0;34m)\u001b[0m\u001b[0;34m\u001b[0m\u001b[0;34m\u001b[0m\u001b[0m\n\u001b[0m\u001b[1;32m     28\u001b[0m \u001b[0;34m\u001b[0m\u001b[0m\n\u001b[1;32m     29\u001b[0m     \u001b[0;32mdef\u001b[0m \u001b[0mget_verbose\u001b[0m\u001b[0;34m(\u001b[0m\u001b[0mself\u001b[0m\u001b[0;34m)\u001b[0m\u001b[0;34m:\u001b[0m\u001b[0;34m\u001b[0m\u001b[0;34m\u001b[0m\u001b[0m\n",
            "\u001b[0;32m/usr/local/lib/python3.10/dist-packages/biomart/server.py\u001b[0m in \u001b[0;36massert_alive\u001b[0;34m(self)\u001b[0m\n\u001b[1;32m     46\u001b[0m     \u001b[0;32mdef\u001b[0m \u001b[0massert_alive\u001b[0m\u001b[0;34m(\u001b[0m\u001b[0mself\u001b[0m\u001b[0;34m)\u001b[0m\u001b[0;34m:\u001b[0m\u001b[0;34m\u001b[0m\u001b[0;34m\u001b[0m\u001b[0m\n\u001b[1;32m     47\u001b[0m         \u001b[0;32mif\u001b[0m \u001b[0;32mnot\u001b[0m \u001b[0mself\u001b[0m\u001b[0;34m.\u001b[0m\u001b[0mis_alive\u001b[0m\u001b[0;34m:\u001b[0m\u001b[0;34m\u001b[0m\u001b[0;34m\u001b[0m\u001b[0m\n\u001b[0;32m---> 48\u001b[0;31m             \u001b[0mself\u001b[0m\u001b[0;34m.\u001b[0m\u001b[0mget_request\u001b[0m\u001b[0;34m(\u001b[0m\u001b[0;34m)\u001b[0m\u001b[0;34m\u001b[0m\u001b[0;34m\u001b[0m\u001b[0m\n\u001b[0m\u001b[1;32m     49\u001b[0m             \u001b[0mself\u001b[0m\u001b[0;34m.\u001b[0m\u001b[0mis_alive\u001b[0m \u001b[0;34m=\u001b[0m \u001b[0;32mTrue\u001b[0m\u001b[0;34m\u001b[0m\u001b[0;34m\u001b[0m\u001b[0m\n\u001b[1;32m     50\u001b[0m             \u001b[0;32mif\u001b[0m \u001b[0mself\u001b[0m\u001b[0;34m.\u001b[0m\u001b[0mverbose\u001b[0m\u001b[0;34m:\u001b[0m\u001b[0;34m\u001b[0m\u001b[0;34m\u001b[0m\u001b[0m\n",
            "\u001b[0;32m/usr/local/lib/python3.10/dist-packages/biomart/server.py\u001b[0m in \u001b[0;36mget_request\u001b[0;34m(self, **params)\u001b[0m\n\u001b[1;32m    102\u001b[0m         \u001b[0;32melse\u001b[0m\u001b[0;34m:\u001b[0m\u001b[0;34m\u001b[0m\u001b[0;34m\u001b[0m\u001b[0m\n\u001b[1;32m    103\u001b[0m             \u001b[0mr\u001b[0m \u001b[0;34m=\u001b[0m \u001b[0mrequests\u001b[0m\u001b[0;34m.\u001b[0m\u001b[0mget\u001b[0m\u001b[0;34m(\u001b[0m\u001b[0mself\u001b[0m\u001b[0;34m.\u001b[0m\u001b[0murl\u001b[0m\u001b[0;34m,\u001b[0m \u001b[0mproxies\u001b[0m \u001b[0;34m=\u001b[0m \u001b[0mproxies\u001b[0m\u001b[0;34m)\u001b[0m\u001b[0;34m\u001b[0m\u001b[0;34m\u001b[0m\u001b[0m\n\u001b[0;32m--> 104\u001b[0;31m         \u001b[0mr\u001b[0m\u001b[0;34m.\u001b[0m\u001b[0mraise_for_status\u001b[0m\u001b[0;34m(\u001b[0m\u001b[0;34m)\u001b[0m\u001b[0;34m\u001b[0m\u001b[0;34m\u001b[0m\u001b[0m\n\u001b[0m\u001b[1;32m    105\u001b[0m \u001b[0;34m\u001b[0m\u001b[0m\n\u001b[1;32m    106\u001b[0m         \u001b[0;32mreturn\u001b[0m \u001b[0mr\u001b[0m\u001b[0;34m\u001b[0m\u001b[0;34m\u001b[0m\u001b[0m\n",
            "\u001b[0;32m/usr/local/lib/python3.10/dist-packages/requests/models.py\u001b[0m in \u001b[0;36mraise_for_status\u001b[0;34m(self)\u001b[0m\n\u001b[1;32m   1019\u001b[0m \u001b[0;34m\u001b[0m\u001b[0m\n\u001b[1;32m   1020\u001b[0m         \u001b[0;32mif\u001b[0m \u001b[0mhttp_error_msg\u001b[0m\u001b[0;34m:\u001b[0m\u001b[0;34m\u001b[0m\u001b[0;34m\u001b[0m\u001b[0m\n\u001b[0;32m-> 1021\u001b[0;31m             \u001b[0;32mraise\u001b[0m \u001b[0mHTTPError\u001b[0m\u001b[0;34m(\u001b[0m\u001b[0mhttp_error_msg\u001b[0m\u001b[0;34m,\u001b[0m \u001b[0mresponse\u001b[0m\u001b[0;34m=\u001b[0m\u001b[0mself\u001b[0m\u001b[0;34m)\u001b[0m\u001b[0;34m\u001b[0m\u001b[0;34m\u001b[0m\u001b[0m\n\u001b[0m\u001b[1;32m   1022\u001b[0m \u001b[0;34m\u001b[0m\u001b[0m\n\u001b[1;32m   1023\u001b[0m     \u001b[0;32mdef\u001b[0m \u001b[0mclose\u001b[0m\u001b[0;34m(\u001b[0m\u001b[0mself\u001b[0m\u001b[0;34m)\u001b[0m\u001b[0;34m:\u001b[0m\u001b[0;34m\u001b[0m\u001b[0;34m\u001b[0m\u001b[0m\n",
            "\u001b[0;31mHTTPError\u001b[0m: 404 Client Error: Not Found for url: http://www.biomart.org/biomart/martservice"
          ]
        }
      ],
      "source": [
        "server = BiomartServer( \"http://www.biomart.org/biomart\" )\n",
        "available_resources = server.list_marts()\n",
        "\n",
        "available_resources\n"
      ]
    },
    {
      "cell_type": "markdown",
      "metadata": {
        "id": "GsjI1F1xhmga"
      },
      "source": [
        "In Python, attributes that start with an underscore are typically used for internal purposes and are not meant to be accessed directly.\n",
        "\n",
        "Lets peek into the 'ensembl' data entity in the BioMart database:"
      ]
    },
    {
      "cell_type": "code",
      "execution_count": null,
      "metadata": {
        "id": "2kENQPHghEBr"
      },
      "outputs": [],
      "source": [
        "ensembl = server.datasets['hsapiens_gene_ensembl']\n",
        "ensembl\n"
      ]
    },
    {
      "cell_type": "markdown",
      "metadata": {
        "id": "L3Z7ukV7juBu"
      },
      "source": [
        "As you can see, it returns a dictionary containing a wealth of information about a specific gene in the BioMart database. The keys in this dictionary represent different attributes of the gene, and the values associated with these keys provide specific information about these attributes.\n",
        "\n",
        "Here’s a brief explanation of some of the keys in the dictionary:\n",
        "\n",
        "- **'ensembl_gene_id'**: The Ensembl ID of the gene.\n",
        "- **'ensembl_transcript_id'**: The Ensembl ID of the transcript.\n",
        "- **'description'**: The description of the gene.\n",
        "- **'chromosome_name'**: The name of the chromosome where the gene is located.\n",
        "- **'start_position'**: The start position of the gene on the chromosome.\n",
        "- **'end_position'**: The end position of the gene on the chromosome.\n",
        "- **'strand'**: The strand of the gene on the chromosome.\n",
        "- **'transcript_count'**: The number of transcripts of the gene.\n",
        "- **'percentage_gc_content'**: The percentage of GC content in the gene.\n",
        "- **'gene_biotype'**: The biotype of the gene.\n",
        "- **'status'**: The status of the gene in the BioMart database.\n",
        "\n"
      ]
    },
    {
      "cell_type": "markdown",
      "metadata": {
        "id": "Ue6uu_nefxUW"
      },
      "source": [
        "If we want to find a gene by 'ensembl_gene_id' we can use:"
      ]
    },
    {
      "cell_type": "code",
      "execution_count": null,
      "metadata": {
        "id": "dCTb-1m1fwQA"
      },
      "outputs": [],
      "source": [
        "# Create a 'gene' object that allows you to access the 'gene' data entity in the BioMart database.\n",
        "gene = ensembl\n",
        "\n",
        "# Use the 'filter' method of the 'gene' object to retrieve all genes whose ensembl_gene_id is 'ENSG00000139618'.\n",
        "genes = gene.search({'filters': {'ensembl_gene_id': 'ENSG00000139618'}, 'attributes': ['ensembl_gene_id', 'external_gene_name', 'description', 'chromosome_name', 'start_position', 'end_position', 'percentage_gc_content', 'gene_biotype', 'status']})\n",
        "\n",
        "# 'genes' now contains a list of all genes in the BioMart database whose ensembl_gene_id is 'ENSG00000139618'.\n",
        "genes\n",
        "\n"
      ]
    },
    {
      "cell_type": "markdown",
      "metadata": {
        "id": "rnhFYif2f-G2"
      },
      "source": [
        "Not easy to read... Don't worry you can convert the 'genes' object into a pandas DataFrame easier reading and manipulation. Here’s how you can do it:"
      ]
    },
    {
      "cell_type": "code",
      "execution_count": null,
      "metadata": {
        "id": "OBu9mCyxgcwa"
      },
      "outputs": [],
      "source": [
        "import pandas as pd\n",
        "# Convert the 'genes' object into a pandas DataFrame.\n",
        "genes_df = pd.DataFrame(genes)\n",
        "\n",
        "# Display the DataFrame.\n",
        "genes_df\n"
      ]
    },
    {
      "cell_type": "markdown",
      "metadata": {
        "id": "exercise1"
      },
      "source": [
        "## Exercise 1: Exploring Gene Information\n",
        "\n",
        "Now that we have our data in a more readable format, let's start exploring it. For this exercise, you will retrieve and analyze information about a specific gene.\n",
        "\n",
        "**Task:**\n",
        "\n",
        "1. Retrieve information about the gene with the Ensembl ID 'ENSG00000139618'.\n",
        "2. Display the information in a readable format.\n",
        "3. Analyze the information and answer the following questions:\n",
        "    - What is the name of the gene?\n",
        "    - On which chromosome is the gene located?\n",
        "    - What is the start and end position of the gene on the chromosome?\n",
        "    - What is the percentage of GC content in the gene?\n",
        "    - What is the biotype of the gene?\n",
        "    - What is the status of the gene in the BioMart database?\n",
        "\n",
        "Write your code in the cell below:"
      ]
    },
    {
      "cell_type": "code",
      "execution_count": null,
      "metadata": {
        "id": "exercise1_code"
      },
      "outputs": [],
      "source": [
        "# Write your code here\n"
      ]
    },
    {
      "cell_type": "markdown",
      "metadata": {
        "id": "exercise2"
      },
      "source": [
        "## Exercise 2: Comparing Genes\n",
        "\n",
        "In this exercise, you will compare two genes based on their GC content and biotype.\n",
        "\n",
        "**Task:**\n",
        "\n",
        "1. Retrieve information about the genes with the Ensembl IDs 'ENSG00000139618' and 'ENSG00000248333'.\n",
        "2. Compare the two genes based on their GC content and biotype.\n",
        "3. Answer the following questions:\n",
        "    - Which gene has a higher GC content?\n",
        "    - Do the two genes have the same biotype?\n",
        "\n",
        "Write your code in the cell below:"
      ]
    },
    {
      "cell_type": "code",
      "execution_count": null,
      "metadata": {
        "id": "exercise2_code"
      },
      "outputs": [],
      "source": [
        "# Write your code here\n"
      ]
    },
    {
      "cell_type": "markdown",
      "metadata": {
        "id": "scenario_based_exercise"
      },
      "source": [
        "## Scenario-Based Exercise: Investigating a Genetic Disorder\n",
        "\n",
        "Imagine you are a geneticist investigating a rare genetic disorder. You suspect that the disorder is caused by a mutation in one of two genes: 'ENSG00000139618' or 'ENSG00000248333'.\n",
        "\n",
        "You decide to use the BioMart database to gather more information about these two genes.\n",
        "\n",
        "**Task:**\n",
        "\n",
        "1. Retrieve information about the genes 'ENSG00000139618' and 'ENSG00000248333'.\n",
        "2. Analyze the information and answer the following questions:\n",
        "    - On which chromosomes are the genes located?\n",
        "    - What are the start and end positions of the genes on their respective chromosomes?\n",
        "    - What are the bitypes of the genes?\n",
        "    - What are the statuses of the genes in the BioMart database?\n",
        "3. Based on your analysis, do you think one of these genes could be responsible for the genetic disorder? Why or why not?\n",
        "\n",
        "Write your code in the cell below:"
      ]
    },
    {
      "cell_type": "code",
      "execution_count": null,
      "metadata": {
        "id": "scenario_based_exercise_code"
      },
      "outputs": [],
      "source": [
        "# Write your code here\n"
      ]
    },
    {
      "cell_type": "markdown",
      "metadata": {
        "id": "end"
      },
      "source": [
        "## Conclusion\n",
        "\n",
        "Congratulations on completing the tutorial! 🎉 You've learned how to access and use the BioMart database using Python. You've also gained experience in analyzing gene information, which is a crucial skill in bioinformatics and pharmacogenomics.\n",
        "\n",
        "Keep practicing and exploring the BioMart database. There's a wealth of information waiting to be discovered! 🚀\n"
      ]
    }
  ],
  "metadata": {
    "kernelspec": {
      "display_name": "Python 3",
      "language": "python",
      "name": "python3"
    },
    "language_info": {
      "codemirror_mode": {
        "name": "ipython",
        "version": 3
      },
      "file_extension": ".py",
      "mimetype": "text/x-python",
      "name": "python",
      "nbconvert_exporter": "python",
      "pygments_lexer": "ipython3",
      "version": "3.8.5"
    },
    "colab": {
      "provenance": [],
      "include_colab_link": true
    }
  },
  "nbformat": 4,
  "nbformat_minor": 0
}