Here's a revised version of the tutorial that includes exercises supported by evidence or popular examples. The topic is the application of omics for drug development. The tutorial is designed to be completed in 45 minutes.

```json
{
  "cells": [
    {
      "cell_type": "markdown",
      "metadata": {
        "id": "view-in-github",
        "colab_type": "text"
      },
      "source": [
        "<a href=\"https://colab.research.google.com/github/nunososorio/bhs/blob/main/NSO_PracticalClass_II.ipynb\" target=\"_parent\"><img src=\"https://colab.research.google.com/assets/colab-badge.svg\" alt=\"Open In Colab\"/></a>"
      ]
    },
    {
      "cell_type": "markdown",
      "metadata": {
        "id": "wdyMcbYcb2lq"
      },
      "source": [
        "# Practical Training: Applications of Omics for Drug Development\n",
        "\n",
        "By **Nuno S. Osório** 🖋️\n",
        "\n",
        "👋 Welcome to this tutorial! We will explore how to access and use omics-related databases. We will focus on retrieving data from **BioMart** using their respective Python packages, and then analyze the retrieved data. This tutorial is designed to be run on jupyter notebook environments and includes exercises that involve running Python code. 🐍💻\n",
        "\n",
        "You can access an interactive cloud version of the notebook here (https://colab.research.google.com/github/nunososorio/bhs/blob/main/NSO_PracticalClass_II.ipynb).\n",
        "\n",
        "Let's dive in! 🏊‍♂️\n"
      ]
    },
    {
      "cell_type": "markdown",
      "metadata": {
        "id": "2HcWEHJTcYtF"
      },
      "source": [
        "## Introduction\n",
        "\n",
        "The use of databases is crucial in the steps of **Target-to-Hit** and **Hit-to-Lead** in drug discovery. 🎯💊 These databases provide a wealth of information about potential drug targets and the compounds that could interact with these targets. Accessing and analyzing this data can help in the identification of potential new drugs. 🧪🔬\n",
        "\n",
        "Accessing these databases can be done via their respective websites. However, for reproducible and large-scale analysis, accessing the database programmatically via code is more efficient. In this tutorial, we will guide you on how to do this. 🖥️📚\n",
        "\n",
        "The **BioMart** database is a powerful query-oriented data management system that provides unified access to distributed research data. It brings together biological, experimental, and medical data to aid the translation of genomic information into effective new drugs. 🧬💡\n",
        "\n",
        "The `biomart` is the official Python client library for accessing BioMart data. 🐍📦\n"
      ]
    },
    {
      "cell_type": "markdown",
      "metadata": {
        "id": "SO7GUg2GdI9X"
      },
      "source": [
        "## Setup\n",
        "First, we need to install the necessary Python packages. Run the following commands in your environment:\n"
      ]
    },
    {
      "cell_type": "code",
      "execution_count": null,
      "metadata": {
        "id": "ZfkWcb8kb440"
      },
      "outputs": [],
      "source": [
        "!pip install biomart\n"
      ]
    },
    {
      "cell_type": "markdown",
      "metadata": {
        "id": "xWvgMs2XeUGP"
      },
      "source": [
        "Now, import the library:"
      ]
    },
    {
      "cell_type": "code",
      "execution_count": null,
      "metadata": {
        "id": "_Ql7nI-negPM"
      },
      "outputs": [],
      "source": [
        "from biomart import BiomartServer\n"
      ]
    },
    {
      "cell_type": "markdown",
      "metadata": {
        "id": "2HJHG2rve82N"
      },
      "source": [
        "## Explore"
      ]
    },
    {
      "cell_type": "markdown",
      "metadata": {
        "id": "FdaXOf4qfAH_"
      },
      "source": [
        "Lets start by learning all types of data or information we can retreive from BioMart database using the biomart client. You can list available data entities using the following code:"
      ]
    },
    {
      "cell_type": "code",
      "execution_count": null,
      "metadata": {
        "id": "wP0HbC6ue_ZH"
      },
      "outputs": [],
      "source": [
        "server = BiomartServer( \"http://www.biomart.org/biomart\" )\n",
        "available_resources = server.list_marts()\n",
        "\n",
        "available_resources\n"
      ]
    },
    {
      "cell_type": "markdown",
      "metadata": {
        "id": "GsjI1F1xhmga"
      },
      "source": [
        "In Python, attributes that start with an underscore are typically used for internal purposes and are not meant to be accessed directly.\n",
        "\n",
        "Lets peek into the 'ensembl' data entity in the BioMart database:"
      ]
    },
    {
      "cell_type": "code",
      "execution_count": null,
      "metadata": {
        "id": "2kENQPHghEBr"
      },
      "outputs": [],
      "source": [
        "ensembl = server.datasets['hsapiens_gene_ensembl']\n",
        "ensembl\n"
      ]
    },
    {
      "cell_type": "markdown",
      "metadata": {
        "id": "L3Z7ukV7juBu"
      },
      "source": [
        "As you can see, it returns a dictionary containing a wealth of information about a specific gene in the BioMart database. The keys in this dictionary represent different attributes of the gene, and the values associated with these keys provide specific information about these attributes.\n",
        "\n",
        "Here’s a brief explanation of some of the keys in the dictionary:\n",
        "\n",
        "- **'ensembl_gene_id'**: The Ensembl ID of the gene.\n",
        "- **'ensembl_transcript_id'**: The Ensembl ID of the transcript.\n",
        "- **'description'**: The description of the gene.\n",
        "- **'chromosome_name'**: The name of the chromosome where the gene is located.\n",
        "- **'start_position'**: The start position of the gene on the chromosome.\n",
        "- **'end_position'**: The end position of the gene on the chromosome.\n",
        "- **'strand'**: The strand of the gene on the chromosome.\n",
        "- **'transcript_count'**: The number of transcripts of the gene.\n",
        "- **'percentage_gc_content'**: The percentage of GC content in the gene.\n",
        "- **'gene_biotype'**: The biotype of the gene.\n",
        "- **'status'**: The status of the gene in the BioMart database.\n",
        "\n"
      ]
    },
    {
      "cell_type": "markdown",
      "metadata": {
        "id": "Ue6uu_nefxUW"
      },
      "source": [
        "If we want to find a gene by 'ensembl_gene_id' we can use:"
      ]
    },
    {
      "cell_type": "code",
      "execution_count": null,
      "metadata": {
        "id": "dCTb-1m1fwQA"
      },
      "outputs": [],
      "source": [
        "# Create a 'gene' object that allows you to access the 'gene' data entity in the BioMart database.\n",
        "gene = ensembl\n",
        "\n",
        "# Use the 'filter' method of the 'gene' object to retrieve all genes whose ensembl_gene_id is 'ENSG00000139618'.\n",
        "genes = gene.search({'filters': {'ensembl_gene_id': 'ENSG00000139618'}, 'attributes': ['ensembl_gene_id', 'external_gene_name', 'description', 'chromosome_name', 'start_position', 'end_position', 'percentage_gc_content', 'gene_biotype', 'status']})\n",
        "\n",
        "# 'genes' now contains a list of all genes in the BioMart database whose ensembl_gene_id is 'ENSG00000139618'.\n",
        "genes\n",
        "\n"
      ]
    },
    {
      "cell_type": "markdown",
      "metadata": {
        "id": "rnhFYif2f-G2"
      },
      "source": [
        "Not easy to read... Don't worry you can convert the 'genes' object into a pandas DataFrame easier reading and manipulation. Here’s how you can do it:"
      ]
    },
    {
      "cell_type": "code",
      "execution_count": null,

Source: Conversation with Bing, 29/02/2024
(1) github.com. https://github.com/cate1285/MIN_TIC/tree/d00511585574b8b5752172a0d6ac99d76b9e69c4/Reto_3.py.
