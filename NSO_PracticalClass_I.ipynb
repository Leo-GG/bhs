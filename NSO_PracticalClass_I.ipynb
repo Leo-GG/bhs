{
  "nbformat": 4,
  "nbformat_minor": 0,
  "metadata": {
    "colab": {
      "provenance": [],
      "authorship_tag": "ABX9TyNiWkzkNfB2ELZhTrL/gP7x",
      "include_colab_link": true
    },
    "kernelspec": {
      "name": "python3",
      "display_name": "Python 3"
    },
    "language_info": {
      "name": "python"
    }
  },
  "cells": [
    {
      "cell_type": "markdown",
      "metadata": {
        "id": "view-in-github",
        "colab_type": "text"
      },
      "source": [
        "<a href=\"https://colab.research.google.com/github/nunososorio/bhs/blob/main/NSO_PracticalClass_I.ipynb\" target=\"_parent\"><img src=\"https://colab.research.google.com/assets/colab-badge.svg\" alt=\"Open In Colab\"/></a>"
      ]
    },
    {
      "cell_type": "markdown",
      "source": [
        "# Practical Training: The Role of Databases in Drug Discovery\n",
        "\n",
        "By **Nuno S. Osório** 🖋️\n",
        "\n",
        "👋 Welcome to this tutorial! We will explore how to access and use drug-related databases. We will focus on retrieving data from **ChEMBL** using their respective Python packages, and then analyze the retrieved data. This tutorial is designed to be run on jupyter notebook environments and includes exercises that involve running Python code. 🐍💻\n",
        "\n",
        "You can access an interactive cloud version of the notebook here. Let's dive in! 🏊‍♂️\n"
      ],
      "metadata": {
        "id": "wdyMcbYcb2lq"
      }
    },
    {
      "cell_type": "markdown",
      "source": [
        "## Introduction\n",
        "\n",
        "The use of databases is crucial in the steps of **Target-to-Hit** and **Hit-to-Lead** in drug discovery. 🎯💊 These databases provide a wealth of information about potential drug targets and the compounds that could interact with these targets. Accessing and analyzing this data can help in the identification of potential new drugs. 🧪🔬\n",
        "\n",
        "Accessing these databases can be done via their respective websites. However, for reproducible and large-scale analysis, accessing the database programmatically via code is more efficient. In this tutorial, we will guide you on how to do this. 🖥️📚\n",
        "\n",
        "The **ChEMBL** database is a manually curated database of bioactive molecules with drug-like properties. It brings together chemical, bioactivity and genomic data to aid the translation of genomic information into effective new drugs. 🧬💡\n",
        "\n",
        "The `chembl_webresource_client` is the official Python client library for accessing ChEMBL data. 🐍📦\n"
      ],
      "metadata": {
        "id": "2HcWEHJTcYtF"
      }
    },
    {
      "cell_type": "markdown",
      "source": [
        "## Setup\n",
        "First, we need to install the necessary Python packages. Run the following commands in your environment:\n"
      ],
      "metadata": {
        "id": "SO7GUg2GdI9X"
      }
    },
    {
      "cell_type": "code",
      "source": [
        "!pip install chembl_webresource_client\n"
      ],
      "metadata": {
        "colab": {
          "base_uri": "https://localhost:8080/"
        },
        "id": "ZfkWcb8kb440",
        "outputId": "6ea4b02c-7194-416c-ba54-47f917cc990a"
      },
      "execution_count": 1,
      "outputs": [
        {
          "output_type": "stream",
          "name": "stdout",
          "text": [
            "Collecting chembl_webresource_client\n",
            "  Downloading chembl_webresource_client-0.10.9-py3-none-any.whl (55 kB)\n",
            "\u001b[?25l     \u001b[90m━━━━━━━━━━━━━━━━━━━━━━━━━━━━━━━━━━━━━━━━\u001b[0m \u001b[32m0.0/55.2 kB\u001b[0m \u001b[31m?\u001b[0m eta \u001b[36m-:--:--\u001b[0m\r\u001b[2K     \u001b[90m━━━━━━━━━━━━━━━━━━━━━━━━━━━━━━━━━━━━━━━━\u001b[0m \u001b[32m55.2/55.2 kB\u001b[0m \u001b[31m1.7 MB/s\u001b[0m eta \u001b[36m0:00:00\u001b[0m\n",
            "\u001b[?25hRequirement already satisfied: urllib3 in /usr/local/lib/python3.10/dist-packages (from chembl_webresource_client) (2.0.7)\n",
            "Requirement already satisfied: requests>=2.18.4 in /usr/local/lib/python3.10/dist-packages (from chembl_webresource_client) (2.31.0)\n",
            "Collecting requests-cache~=1.2 (from chembl_webresource_client)\n",
            "  Downloading requests_cache-1.2.0-py3-none-any.whl (61 kB)\n",
            "\u001b[2K     \u001b[90m━━━━━━━━━━━━━━━━━━━━━━━━━━━━━━━━━━━━━━━━\u001b[0m \u001b[32m61.4/61.4 kB\u001b[0m \u001b[31m6.0 MB/s\u001b[0m eta \u001b[36m0:00:00\u001b[0m\n",
            "\u001b[?25hRequirement already satisfied: easydict in /usr/local/lib/python3.10/dist-packages (from chembl_webresource_client) (1.12)\n",
            "Requirement already satisfied: charset-normalizer<4,>=2 in /usr/local/lib/python3.10/dist-packages (from requests>=2.18.4->chembl_webresource_client) (3.3.2)\n",
            "Requirement already satisfied: idna<4,>=2.5 in /usr/local/lib/python3.10/dist-packages (from requests>=2.18.4->chembl_webresource_client) (3.6)\n",
            "Requirement already satisfied: certifi>=2017.4.17 in /usr/local/lib/python3.10/dist-packages (from requests>=2.18.4->chembl_webresource_client) (2024.2.2)\n",
            "Requirement already satisfied: attrs>=21.2 in /usr/local/lib/python3.10/dist-packages (from requests-cache~=1.2->chembl_webresource_client) (23.2.0)\n",
            "Collecting cattrs>=22.2 (from requests-cache~=1.2->chembl_webresource_client)\n",
            "  Downloading cattrs-23.2.3-py3-none-any.whl (57 kB)\n",
            "\u001b[2K     \u001b[90m━━━━━━━━━━━━━━━━━━━━━━━━━━━━━━━━━━━━━━━━\u001b[0m \u001b[32m57.5/57.5 kB\u001b[0m \u001b[31m7.6 MB/s\u001b[0m eta \u001b[36m0:00:00\u001b[0m\n",
            "\u001b[?25hRequirement already satisfied: platformdirs>=2.5 in /usr/local/lib/python3.10/dist-packages (from requests-cache~=1.2->chembl_webresource_client) (4.2.0)\n",
            "Collecting url-normalize>=1.4 (from requests-cache~=1.2->chembl_webresource_client)\n",
            "  Downloading url_normalize-1.4.3-py2.py3-none-any.whl (6.8 kB)\n",
            "Requirement already satisfied: exceptiongroup>=1.1.1 in /usr/local/lib/python3.10/dist-packages (from cattrs>=22.2->requests-cache~=1.2->chembl_webresource_client) (1.2.0)\n",
            "Requirement already satisfied: typing-extensions!=4.6.3,>=4.1.0 in /usr/local/lib/python3.10/dist-packages (from cattrs>=22.2->requests-cache~=1.2->chembl_webresource_client) (4.9.0)\n",
            "Requirement already satisfied: six in /usr/local/lib/python3.10/dist-packages (from url-normalize>=1.4->requests-cache~=1.2->chembl_webresource_client) (1.16.0)\n",
            "Installing collected packages: url-normalize, cattrs, requests-cache, chembl_webresource_client\n",
            "Successfully installed cattrs-23.2.3 chembl_webresource_client-0.10.9 requests-cache-1.2.0 url-normalize-1.4.3\n"
          ]
        }
      ]
    },
    {
      "cell_type": "markdown",
      "source": [
        "Now, import the library:"
      ],
      "metadata": {
        "id": "xWvgMs2XeUGP"
      }
    },
    {
      "cell_type": "code",
      "source": [
        "from chembl_webresource_client.new_client import new_client\n"
      ],
      "metadata": {
        "id": "_Ql7nI-negPM"
      },
      "execution_count": 2,
      "outputs": []
    },
    {
      "cell_type": "markdown",
      "source": [
        "## Explore"
      ],
      "metadata": {
        "id": "2HJHG2rve82N"
      }
    },
    {
      "cell_type": "markdown",
      "source": [
        "Lets start by learning all types of data or information we can retreive from ChEMBL database using the chembl_webresource_client. You can list available data entities using the following code:"
      ],
      "metadata": {
        "id": "FdaXOf4qfAH_"
      }
    },
    {
      "cell_type": "code",
      "source": [
        "available_resources = dir(new_client)\n",
        "#available_resources = [resource for resource in dir(new_client) if not resource.startswith('_')]\n",
        "\n",
        "available_resources\n"
      ],
      "metadata": {
        "colab": {
          "base_uri": "https://localhost:8080/"
        },
        "id": "wP0HbC6ue_ZH",
        "outputId": "5c46f6a5-98ef-4c38-bcad-3fb2fe0b7627"
      },
      "execution_count": 5,
      "outputs": [
        {
          "output_type": "execute_result",
          "data": {
            "text/plain": [
              "['__class__',\n",
              " '__delattr__',\n",
              " '__dict__',\n",
              " '__dir__',\n",
              " '__doc__',\n",
              " '__eq__',\n",
              " '__format__',\n",
              " '__ge__',\n",
              " '__getattribute__',\n",
              " '__gt__',\n",
              " '__hash__',\n",
              " '__init__',\n",
              " '__init_subclass__',\n",
              " '__le__',\n",
              " '__lt__',\n",
              " '__module__',\n",
              " '__ne__',\n",
              " '__new__',\n",
              " '__reduce__',\n",
              " '__reduce_ex__',\n",
              " '__repr__',\n",
              " '__setattr__',\n",
              " '__sizeof__',\n",
              " '__str__',\n",
              " '__subclasshook__',\n",
              " '__weakref__',\n",
              " 'activity',\n",
              " 'activity_supplementary_data_by_activity',\n",
              " 'assay',\n",
              " 'assay_class',\n",
              " 'atc_class',\n",
              " 'binding_site',\n",
              " 'biotherapeutic',\n",
              " 'cell_line',\n",
              " 'chembl_id_lookup',\n",
              " 'compound_record',\n",
              " 'compound_structural_alert',\n",
              " 'description',\n",
              " 'document',\n",
              " 'document_similarity',\n",
              " 'drug',\n",
              " 'drug_indication',\n",
              " 'drug_warning',\n",
              " 'go_slim',\n",
              " 'image',\n",
              " 'mechanism',\n",
              " 'metabolism',\n",
              " 'molecule',\n",
              " 'molecule_form',\n",
              " 'official',\n",
              " 'organism',\n",
              " 'protein_classification',\n",
              " 'similarity',\n",
              " 'source',\n",
              " 'substructure',\n",
              " 'target',\n",
              " 'target_component',\n",
              " 'target_relation',\n",
              " 'tissue',\n",
              " 'xref_source']"
            ]
          },
          "metadata": {},
          "execution_count": 5
        }
      ]
    },
    {
      "cell_type": "markdown",
      "source": [
        "In Python, attributes that start with an underscore are typically used for internal purposes and are not meant to be accessed directly.\n",
        "\n",
        "Lets peek into the 'molecule' data entity in the ChEMBL database:"
      ],
      "metadata": {
        "id": "GsjI1F1xhmga"
      }
    },
    {
      "cell_type": "code",
      "source": [
        "new_client.molecule"
      ],
      "metadata": {
        "colab": {
          "base_uri": "https://localhost:8080/"
        },
        "id": "2kENQPHghEBr",
        "outputId": "a4063ee0-3f24-47fe-f23f-95a73a08bd89"
      },
      "execution_count": 12,
      "outputs": [
        {
          "output_type": "execute_result",
          "data": {
            "text/plain": [
              "[{'atc_classifications': [], 'availability_type': -1, 'biotherapeutic': None, 'black_box_warning': 0, 'chebi_par_id': None, 'chemical_probe': 0, 'chirality': -1, 'cross_references': [], 'dosed_ingredient': False, 'first_approval': None, 'first_in_class': -1, 'helm_notation': None, 'indication_class': None, 'inorganic_flag': -1, 'max_phase': None, 'molecule_chembl_id': 'CHEMBL6329', 'molecule_hierarchy': {'active_chembl_id': 'CHEMBL6329', 'molecule_chembl_id': 'CHEMBL6329', 'parent_chembl_id': 'CHEMBL6329'}, 'molecule_properties': {'alogp': '2.11', 'aromatic_rings': 3, 'cx_logd': '2.69', 'cx_logp': '3.63', 'cx_most_apka': '6.48', 'cx_most_bpka': None, 'full_molformula': 'C17H12ClN3O3', 'full_mwt': '341.75', 'hba': 5, 'hba_lipinski': 6, 'hbd': 1, 'hbd_lipinski': 1, 'heavy_atoms': 24, 'molecular_species': 'ACID', 'mw_freebase': '341.75', 'mw_monoisotopic': '341.0567', 'np_likeness_score': '-1.56', 'num_lipinski_ro5_violations': 0, 'num_ro5_violations': 0, 'psa': '84.82', 'qed_weighted': '0.74', 'ro3_pass': 'N', 'rtb': 3}, 'molecule_structures': {'canonical_smiles': 'Cc1cc(-n2ncc(=O)[nH]c2=O)ccc1C(=O)c1ccccc1Cl', 'molfile': '\\n     RDKit          2D\\n\\n 24 26  0  0  0  0  0  0  0  0999 V2000\\n    5.2792   -2.0500    0.0000 C   0  0  0  0  0  0  0  0  0  0  0  0\\n    5.7917   -2.3500    0.0000 N   0  0  0  0  0  0  0  0  0  0  0  0\\n    5.2792   -1.4500    0.0000 N   0  0  0  0  0  0  0  0  0  0  0  0\\n    6.3125   -2.0500    0.0000 N   0  0  0  0  0  0  0  0  0  0  0  0\\n    5.7875   -4.7417    0.0000 C   0  0  0  0  0  0  0  0  0  0  0  0\\n    5.7875   -4.1417    0.0000 C   0  0  0  0  0  0  0  0  0  0  0  0\\n    6.3125   -1.4500    0.0000 C   0  0  0  0  0  0  0  0  0  0  0  0\\n    6.3042   -5.0417    0.0000 C   0  0  0  0  0  0  0  0  0  0  0  0\\n    5.7917   -1.1500    0.0000 C   0  0  0  0  0  0  0  0  0  0  0  0\\n    5.7917   -2.9500    0.0000 C   0  0  0  0  0  0  0  0  0  0  0  0\\n    5.2667   -3.8417    0.0000 C   0  0  0  0  0  0  0  0  0  0  0  0\\n    5.2667   -3.2417    0.0000 C   0  0  0  0  0  0  0  0  0  0  0  0\\n    6.3042   -3.8417    0.0000 C   0  0  0  0  0  0  0  0  0  0  0  0\\n    4.7542   -2.3417    0.0000 O   0  0  0  0  0  0  0  0  0  0  0  0\\n    6.3042   -5.6417    0.0000 C   0  0  0  0  0  0  0  0  0  0  0  0\\n    5.2667   -5.0417    0.0000 O   0  0  0  0  0  0  0  0  0  0  0  0\\n    6.3042   -3.2417    0.0000 C   0  0  0  0  0  0  0  0  0  0  0  0\\n    5.7917   -0.5500    0.0000 O   0  0  0  0  0  0  0  0  0  0  0  0\\n    5.7792   -5.9417    0.0000 Cl  0  0  0  0  0  0  0  0  0  0  0  0\\n    6.8167   -4.7417    0.0000 C   0  0  0  0  0  0  0  0  0  0  0  0\\n    4.7417   -4.1417    0.0000 C   0  0  0  0  0  0  0  0  0  0  0  0\\n    6.8250   -5.9417    0.0000 C   0  0  0  0  0  0  0  0  0  0  0  0\\n    7.3417   -5.0417    0.0000 C   0  0  0  0  0  0  0  0  0  0  0  0\\n    7.3417   -5.6417    0.0000 C   0  0  0  0  0  0  0  0  0  0  0  0\\n  2  1  1  0\\n  3  1  1  0\\n  4  2  1  0\\n  5  6  1  0\\n  6 13  1  0\\n  7  9  1  0\\n  8  5  1  0\\n  9  3  1  0\\n 10  2  1  0\\n 11 12  1  0\\n 12 10  2  0\\n 13 17  2  0\\n 14  1  2  0\\n 15  8  2  0\\n 16  5  2  0\\n 17 10  1  0\\n 18  9  2  0\\n 19 15  1  0\\n 20  8  1  0\\n 21 11  1  0\\n 22 15  1  0\\n 23 20  2  0\\n 24 23  1  0\\n  4  7  2  0\\n 11  6  2  0\\n 22 24  2  0\\nM  END\\n> <chembl_id>\\nCHEMBL6329\\n\\n> <chembl_pref_name>\\nNone', 'standard_inchi': 'InChI=1S/C17H12ClN3O3/c1-10-8-11(21-17(24)20-15(22)9-19-21)6-7-12(10)16(23)13-4-2-3-5-14(13)18/h2-9H,1H3,(H,20,22,24)', 'standard_inchi_key': 'OWRSAHYFSSNENM-UHFFFAOYSA-N'}, 'molecule_synonyms': [], 'molecule_type': 'Small molecule', 'natural_product': 0, 'oral': False, 'parenteral': False, 'polymer_flag': 0, 'pref_name': None, 'prodrug': -1, 'structure_type': 'MOL', 'therapeutic_flag': False, 'topical': False, 'usan_stem': None, 'usan_stem_definition': None, 'usan_substem': None, 'usan_year': None, 'withdrawn_flag': False}, {'atc_classifications': [], 'availability_type': -1, 'biotherapeutic': None, 'black_box_warning': 0, 'chebi_par_id': None, 'chemical_probe': 0, 'chirality': -1, 'cross_references': [], 'dosed_ingredient': False, 'first_approval': None, 'first_in_class': -1, 'helm_notation': None, 'indication_class': None, 'inorganic_flag': -1, 'max_phase': None, 'molecule_chembl_id': 'CHEMBL6328', 'molecule_hierarchy': {'active_chembl_id': 'CHEMBL6328', 'molecule_chembl_id': 'CHEMBL6328', 'parent_chembl_id': 'CHEMBL6328'}, 'molecule_properties': {'alogp': '1.33', 'aromatic_rings': 3, 'cx_logd': '1.82', 'cx_logp': '2.88', 'cx_most_apka': '6.33', 'cx_most_bpka': None, 'full_molformula': 'C18H12N4O3', 'full_mwt': '332.32', 'hba': 6, 'hba_lipinski': 7, 'hbd': 1, 'hbd_lipinski': 1, 'heavy_atoms': 25, 'molecular_species': 'ACID', 'mw_freebase': '332.32', 'mw_monoisotopic': '332.0909', 'np_likeness_score': '-1.59', 'num_lipinski_ro5_violations': 0, 'num_ro5_violations': 0, 'psa': '108.61', 'qed_weighted': '0.73', 'ro3_pass': 'N', 'rtb': 3}, 'molecule_structures': {'canonical_smiles': 'Cc1cc(-n2ncc(=O)[nH]c2=O)ccc1C(=O)c1ccc(C#N)cc1', 'molfile': '\\n     RDKit          2D\\n\\n 25 27  0  0  0  0  0  0  0  0999 V2000\\n    5.2792   -2.0500    0.0000 C   0  0  0  0  0  0  0  0  0  0  0  0\\n    5.7917   -2.3500    0.0000 N   0  0  0  0  0  0  0  0  0  0  0  0\\n    5.2792   -1.4500    0.0000 N   0  0  0  0  0  0  0  0  0  0  0  0\\n    6.3125   -2.0500    0.0000 N   0  0  0  0  0  0  0  0  0  0  0  0\\n    6.3125   -1.4500    0.0000 C   0  0  0  0  0  0  0  0  0  0  0  0\\n    5.7875   -4.1417    0.0000 C   0  0  0  0  0  0  0  0  0  0  0  0\\n    5.7917   -1.1500    0.0000 C   0  0  0  0  0  0  0  0  0  0  0  0\\n    5.7917   -2.9500    0.0000 C   0  0  0  0  0  0  0  0  0  0  0  0\\n    5.7875   -4.7417    0.0000 C   0  0  0  0  0  0  0  0  0  0  0  0\\n    5.2667   -3.8417    0.0000 C   0  0  0  0  0  0  0  0  0  0  0  0\\n    8.3792   -6.2417    0.0000 N   0  0  0  0  0  0  0  0  0  0  0  0\\n    5.2667   -3.2417    0.0000 C   0  0  0  0  0  0  0  0  0  0  0  0\\n    6.3042   -3.8417    0.0000 C   0  0  0  0  0  0  0  0  0  0  0  0\\n    7.8625   -5.9417    0.0000 C   0  0  0  0  0  0  0  0  0  0  0  0\\n    4.7542   -2.3417    0.0000 O   0  0  0  0  0  0  0  0  0  0  0  0\\n    6.3042   -5.0417    0.0000 C   0  0  0  0  0  0  0  0  0  0  0  0\\n    6.3042   -3.2417    0.0000 C   0  0  0  0  0  0  0  0  0  0  0  0\\n    5.2667   -5.0417    0.0000 O   0  0  0  0  0  0  0  0  0  0  0  0\\n    5.7917   -0.5500    0.0000 O   0  0  0  0  0  0  0  0  0  0  0  0\\n    6.3042   -5.6417    0.0000 C   0  0  0  0  0  0  0  0  0  0  0  0\\n    6.8167   -4.7417    0.0000 C   0  0  0  0  0  0  0  0  0  0  0  0\\n    7.3417   -5.6417    0.0000 C   0  0  0  0  0  0  0  0  0  0  0  0\\n    7.3417   -5.0417    0.0000 C   0  0  0  0  0  0  0  0  0  0  0  0\\n    6.8250   -5.9417    0.0000 C   0  0  0  0  0  0  0  0  0  0  0  0\\n    4.7417   -4.1417    0.0000 C   0  0  0  0  0  0  0  0  0  0  0  0\\n  2  1  1  0\\n  3  1  1  0\\n  4  2  1  0\\n  5  7  1  0\\n  6 13  1  0\\n  7  3  1  0\\n  8  2  1  0\\n  9  6  1  0\\n 10 12  1  0\\n 11 14  3  0\\n 12  8  2  0\\n 13 17  2  0\\n 14 22  1  0\\n 15  1  2  0\\n 16  9  1  0\\n 17  8  1  0\\n 18  9  2  0\\n 19  7  2  0\\n 20 16  2  0\\n 21 16  1  0\\n 22 23  1  0\\n 23 21  2  0\\n 24 20  1  0\\n 25 10  1  0\\n  4  5  2  0\\n 10  6  2  0\\n 24 22  2  0\\nM  END\\n> <chembl_id>\\nCHEMBL6328\\n\\n> <chembl_pref_name>\\nNone', 'standard_inchi': 'InChI=1S/C18H12N4O3/c1-11-8-14(22-18(25)21-16(23)10-20-22)6-7-15(11)17(24)13-4-2-12(9-19)3-5-13/h2-8,10H,1H3,(H,21,23,25)', 'standard_inchi_key': 'ZJYUMURGSZQFMH-UHFFFAOYSA-N'}, 'molecule_synonyms': [], 'molecule_type': 'Small molecule', 'natural_product': 0, 'oral': False, 'parenteral': False, 'polymer_flag': 0, 'pref_name': None, 'prodrug': -1, 'structure_type': 'MOL', 'therapeutic_flag': False, 'topical': False, 'usan_stem': None, 'usan_stem_definition': None, 'usan_substem': None, 'usan_year': None, 'withdrawn_flag': False}, {'atc_classifications': [], 'availability_type': -1, 'biotherapeutic': None, 'black_box_warning': 0, 'chebi_par_id': None, 'chemical_probe': 0, 'chirality': -1, 'cross_references': [], 'dosed_ingredient': False, 'first_approval': None, 'first_in_class': -1, 'helm_notation': None, 'indication_class': None, 'inorganic_flag': -1, 'max_phase': None, 'molecule_chembl_id': 'CHEMBL265667', 'molecule_hierarchy': {'active_chembl_id': 'CHEMBL265667', 'molecule_chembl_id': 'CHEMBL265667', 'parent_chembl_id': 'CHEMBL265667'}, 'molecule_properties': {'alogp': '2.27', 'aromatic_rings': 3, 'cx_logd': '2.64', 'cx_logp': '3.70', 'cx_most_apka': '6.33', 'cx_most_bpka': None, 'full_molformula': 'C18H16ClN3O3', 'full_mwt': '357.80', 'hba': 5, 'hba_lipinski': 6, 'hbd': 2, 'hbd_lipinski': 2, 'heavy_atoms': 25, 'molecular_species': 'ACID', 'mw_freebase': '357.80', 'mw_monoisotopic': '357.0880', 'np_likeness_score': '-0.82', 'num_lipinski_ro5_violations': 0, 'num_ro5_violations': 0, 'psa': '87.98', 'qed_weighted': '0.75', 'ro3_pass': 'N', 'rtb': 3}, 'molecule_structures': {'canonical_smiles': 'Cc1cc(-n2ncc(=O)[nH]c2=O)cc(C)c1C(O)c1ccc(Cl)cc1', 'molfile': '\\n     RDKit          2D\\n\\n 25 27  0  0  0  0  0  0  0  0999 V2000\\n    3.8042   -1.6000    0.0000 C   0  0  0  0  0  0  0  0  0  0  0  0\\n    4.3167   -1.9000    0.0000 N   0  0  0  0  0  0  0  0  0  0  0  0\\n    3.8042   -1.0000    0.0000 N   0  0  0  0  0  0  0  0  0  0  0  0\\n    4.8417   -1.6000    0.0000 N   0  0  0  0  0  0  0  0  0  0  0  0\\n    4.3167   -2.5000    0.0000 C   0  0  0  0  0  0  0  0  0  0  0  0\\n    4.3167   -3.6917    0.0000 C   0  0  0  0  0  0  0  0  0  0  0  0\\n    4.8417   -1.0000    0.0000 C   0  0  0  0  0  0  0  0  0  0  0  0\\n    4.3167   -0.7000    0.0000 C   0  0  0  0  0  0  0  0  0  0  0  0\\n    3.7917   -3.3917    0.0000 C   0  0  0  0  0  0  0  0  0  0  0  0\\n    4.8375   -3.3917    0.0000 C   0  0  0  0  0  0  0  0  0  0  0  0\\n    3.8000   -2.7917    0.0000 C   0  0  0  0  0  0  0  0  0  0  0  0\\n    4.8375   -2.7917    0.0000 C   0  0  0  0  0  0  0  0  0  0  0  0\\n    4.3167   -4.2917    0.0000 C   0  0  0  0  0  0  0  0  0  0  0  0\\n    3.2875   -1.8917    0.0000 O   0  0  0  0  0  0  0  0  0  0  0  0\\n    4.8375   -4.5917    0.0000 C   0  0  0  0  0  0  0  0  0  0  0  0\\n    4.3167   -0.0917    0.0000 O   0  0  0  0  0  0  0  0  0  0  0  0\\n    4.8292   -5.1917    0.0000 C   0  0  0  0  0  0  0  0  0  0  0  0\\n    5.3500   -4.2917    0.0000 C   0  0  0  0  0  0  0  0  0  0  0  0\\n    5.8667   -5.1917    0.0000 C   0  0  0  0  0  0  0  0  0  0  0  0\\n    3.7917   -4.5917    0.0000 O   0  0  0  0  0  0  0  0  0  0  0  0\\n    5.8667   -4.5917    0.0000 C   0  0  0  0  0  0  0  0  0  0  0  0\\n    5.3542   -5.4917    0.0000 C   0  0  0  0  0  0  0  0  0  0  0  0\\n    6.3917   -5.4917    0.0000 Cl  0  0  0  0  0  0  0  0  0  0  0  0\\n    3.2750   -3.6917    0.0000 C   0  0  0  0  0  0  0  0  0  0  0  0\\n    5.3542   -3.6917    0.0000 C   0  0  0  0  0  0  0  0  0  0  0  0\\n  2  1  1  0\\n  3  1  1  0\\n  4  2  1  0\\n  5  2  1  0\\n  6 10  1  0\\n  7  8  1  0\\n  8  3  1  0\\n  9 11  1  0\\n 10 12  2  0\\n 11  5  2  0\\n 12  5  1  0\\n 13  6  1  0\\n 14  1  2  0\\n 15 13  1  0\\n 16  8  2  0\\n 17 15  2  0\\n 18 15  1  0\\n 19 21  1  0\\n 20 13  1  0\\n 21 18  2  0\\n 22 17  1  0\\n 23 19  1  0\\n 24  9  1  0\\n 25 10  1  0\\n  4  7  2  0\\n  9  6  2  0\\n 22 19  2  0\\nM  END\\n> <chembl_id>\\nCHEMBL265667\\n\\n> <chembl_pref_name>\\nNone', 'standard_inchi': 'InChI=1S/C18H16ClN3O3/c1-10-7-14(22-18(25)21-15(23)9-20-22)8-11(2)16(10)17(24)12-3-5-13(19)6-4-12/h3-9,17,24H,1-2H3,(H,21,23,25)', 'standard_inchi_key': 'YOMWDCALSDWFSV-UHFFFAOYSA-N'}, 'molecule_synonyms': [], 'molecule_type': 'Small molecule', 'natural_product': 0, 'oral': False, 'parenteral': False, 'polymer_flag': 0, 'pref_name': None, 'prodrug': -1, 'structure_type': 'MOL', 'therapeutic_flag': False, 'topical': False, 'usan_stem': None, 'usan_stem_definition': None, 'usan_substem': None, 'usan_year': None, 'withdrawn_flag': False}, {'atc_classifications': [], 'availability_type': -1, 'biotherapeutic': None, 'black_box_warning': 0, 'chebi_par_id': None, 'chemical_probe': 0, 'chirality': -1, 'cross_references': [], 'dosed_ingredient': False, 'first_approval': None, 'first_in_class': -1, 'helm_notation': None, 'indication_class': None, 'inorganic_flag': -1, 'max_phase': None, 'molecule_chembl_id': 'CHEMBL6362', 'molecule_hierarchy': {'active_chembl_id': 'CHEMBL6362', 'molecule_chembl_id': 'CHEMBL6362', 'parent_chembl_id': 'CHEMBL6362'}, 'molecule_properties': {'alogp': '1.46', 'aromatic_rings': 3, 'cx_logd': '1.97', 'cx_logp': '3.02', 'cx_most_apka': '6.33', 'cx_most_bpka': None, 'full_molformula': 'C17H13N3O3', 'full_mwt': '307.31', 'hba': 5, 'hba_lipinski': 6, 'hbd': 1, 'hbd_lipinski': 1, 'heavy_atoms': 23, 'molecular_species': 'ACID', 'mw_freebase': '307.31', 'mw_monoisotopic': '307.0957', 'np_likeness_score': '-1.10', 'num_lipinski_ro5_violations': 0, 'num_ro5_violations': 0, 'psa': '84.82', 'qed_weighted': '0.74', 'ro3_pass': 'N', 'rtb': 3}, 'molecule_structures': {'canonical_smiles': 'Cc1ccc(C(=O)c2ccc(-n3ncc(=O)[nH]c3=O)cc2)cc1', 'molfile': '\\n     RDKit          2D\\n\\n 23 25  0  0  0  0  0  0  0  0999 V2000\\n    6.3417   -2.4250    0.0000 C   0  0  0  0  0  0  0  0  0  0  0  0\\n    6.8542   -2.7250    0.0000 N   0  0  0  0  0  0  0  0  0  0  0  0\\n    6.3417   -1.8250    0.0000 N   0  0  0  0  0  0  0  0  0  0  0  0\\n    7.3750   -2.4250    0.0000 N   0  0  0  0  0  0  0  0  0  0  0  0\\n    7.3750   -1.8250    0.0000 C   0  0  0  0  0  0  0  0  0  0  0  0\\n    6.8542   -1.5250    0.0000 C   0  0  0  0  0  0  0  0  0  0  0  0\\n    6.8500   -5.1167    0.0000 C   0  0  0  0  0  0  0  0  0  0  0  0\\n    6.8542   -3.3250    0.0000 C   0  0  0  0  0  0  0  0  0  0  0  0\\n    5.8167   -2.7167    0.0000 O   0  0  0  0  0  0  0  0  0  0  0  0\\n    6.8500   -4.5167    0.0000 C   0  0  0  0  0  0  0  0  0  0  0  0\\n    7.3667   -5.4167    0.0000 C   0  0  0  0  0  0  0  0  0  0  0  0\\n    6.8542   -0.9250    0.0000 O   0  0  0  0  0  0  0  0  0  0  0  0\\n    6.3292   -5.4167    0.0000 O   0  0  0  0  0  0  0  0  0  0  0  0\\n    7.3667   -3.6167    0.0000 C   0  0  0  0  0  0  0  0  0  0  0  0\\n    6.3292   -3.6167    0.0000 C   0  0  0  0  0  0  0  0  0  0  0  0\\n    6.3292   -4.2167    0.0000 C   0  0  0  0  0  0  0  0  0  0  0  0\\n    7.3667   -4.2167    0.0000 C   0  0  0  0  0  0  0  0  0  0  0  0\\n    7.3667   -6.0167    0.0000 C   0  0  0  0  0  0  0  0  0  0  0  0\\n    7.8792   -5.1167    0.0000 C   0  0  0  0  0  0  0  0  0  0  0  0\\n    8.4042   -5.4167    0.0000 C   0  0  0  0  0  0  0  0  0  0  0  0\\n    7.8875   -6.3167    0.0000 C   0  0  0  0  0  0  0  0  0  0  0  0\\n    8.4042   -6.0167    0.0000 C   0  0  0  0  0  0  0  0  0  0  0  0\\n    8.9250   -6.3167    0.0000 C   0  0  0  0  0  0  0  0  0  0  0  0\\n  2  1  1  0\\n  3  1  1  0\\n  4  2  1  0\\n  5  6  1  0\\n  6  3  1  0\\n  7 10  1  0\\n  8  2  1  0\\n  9  1  2  0\\n 10 16  2  0\\n 11  7  1  0\\n 12  6  2  0\\n 13  7  2  0\\n 14  8  1  0\\n 15  8  2  0\\n 16 15  1  0\\n 17 14  2  0\\n 18 11  2  0\\n 19 11  1  0\\n 20 19  2  0\\n 21 18  1  0\\n 22 20  1  0\\n 23 22  1  0\\n  4  5  2  0\\n 10 17  1  0\\n 21 22  2  0\\nM  END\\n> <chembl_id>\\nCHEMBL6362\\n\\n> <chembl_pref_name>\\nNone', 'standard_inchi': 'InChI=1S/C17H13N3O3/c1-11-2-4-12(5-3-11)16(22)13-6-8-14(9-7-13)20-17(23)19-15(21)10-18-20/h2-10H,1H3,(H,19,21,23)', 'standard_inchi_key': 'PSOPUAQFGCRDIP-UHFFFAOYSA-N'}, 'molecule_synonyms': [], 'molecule_type': 'Small molecule', 'natural_product': 0, 'oral': False, 'parenteral': False, 'polymer_flag': 0, 'pref_name': None, 'prodrug': -1, 'structure_type': 'MOL', 'therapeutic_flag': False, 'topical': False, 'usan_stem': None, 'usan_stem_definition': None, 'usan_substem': None, 'usan_year': None, 'withdrawn_flag': False}, '...(remaining elements truncated)...']"
            ]
          },
          "metadata": {},
          "execution_count": 12
        }
      ]
    },
    {
      "cell_type": "markdown",
      "source": [
        "As you can see, it returns a dictionary containing a wealth of information about a specific molecule in the ChEMBL database. The keys in this dictionary represent different attributes of the molecule, and the values associated with these keys provide specific information about these attributes.\n",
        "\n",
        "Here’s a brief explanation of some of the keys in the dictionary:\n",
        "\n",
        "- **'atc_classifications'**: The Anatomical Therapeutic Chemical (ATC) classification system codes for the molecule.\n",
        "- **'availability_type'**: The availability type of the molecule.\n",
        "- **'biotherapeutic'**: Information about the biotherapeutic properties of the molecule.\n",
        "- **'black_box_warning'**: Indicates if there is a black box warning for the molecule.\n",
        "- **'molecule_chembl_id'**: The ChEMBL ID of the molecule.\n",
        "- **'molecule_hierarchy'**: The hierarchy of the molecule in the ChEMBL database.\n",
        "- **'molecule_properties'**: Various properties of the molecule, such as its molecular weight, number of hydrogen bond acceptors and donors, etc.\n",
        "- **'molecule_structures'**: The structures of the molecule in various formats, such as SMILES, InChI, and molfile.\n",
        "- **'molecule_type'**: The type of the molecule (e.g., ‘Small molecule’).\n",
        "- **'structure_type'**: The type of the structure (e.g., ‘MOL’).\n",
        "- **'pref_name'**: This stands for “preferred name”. It is the preferred name of the molecule in the ChEMBL database. If the value is None, it means that a preferred name has not been assigned or is not available for this molecule in the database.\n",
        "- **'molecule_synonyms'**: This is a list of synonyms for the molecule. Synonyms are different names that can be used to refer to the same molecule. These could include names used in different databases, common names, scientific names, etc. If the list is empty, it means that no synonyms have been recorded or are available for this molecule in the database.\n",
        "\n"
      ],
      "metadata": {
        "id": "L3Z7ukV7juBu"
      }
    },
    {
      "cell_type": "markdown",
      "source": [
        "If we want to find a molecule by preferred name we can use:"
      ],
      "metadata": {
        "id": "Ue6uu_nefxUW"
      }
    },
    {
      "cell_type": "code",
      "source": [
        "# Create a 'molecule' object that allows you to access the 'molecule' data entity in the ChEMBL database.\n",
        "molecule = new_client.molecule\n",
        "\n",
        "# Use the 'filter' method of the 'molecule' object to retrieve all molecules whose preferred name is exactly 'aspirin'.\n",
        "# The 'iexact' lookup is used to perform case-insensitive exact match.\n",
        "mols = molecule.filter(pref_name__iexact='aspirin')\n",
        "\n",
        "# 'mols' now contains a list of all molecules in the ChEMBL database whose preferred name is 'aspirin'.\n",
        "mols\n",
        "\n"
      ],
      "metadata": {
        "colab": {
          "base_uri": "https://localhost:8080/"
        },
        "id": "dCTb-1m1fwQA",
        "outputId": "2eeb4809-5043-4ae8-d4ad-f6752c5f99e7"
      },
      "execution_count": 13,
      "outputs": [
        {
          "output_type": "execute_result",
          "data": {
            "text/plain": [
              "[{'atc_classifications': ['B01AC06', 'N02BA01', 'N02BA51', 'A01AD05', 'N02BA71'], 'availability_type': 2, 'biotherapeutic': None, 'black_box_warning': 0, 'chebi_par_id': 15365, 'chemical_probe': 0, 'chirality': 2, 'cross_references': [{'xref_id': 'aspirin', 'xref_name': 'aspirin', 'xref_src': 'DailyMed'}, {'xref_id': '144203627', 'xref_name': 'SID: 144203627', 'xref_src': 'PubChem'}, {'xref_id': '144209315', 'xref_name': 'SID: 144209315', 'xref_src': 'PubChem'}, {'xref_id': '144210466', 'xref_name': 'SID: 144210466', 'xref_src': 'PubChem'}, {'xref_id': '170465039', 'xref_name': 'SID: 170465039', 'xref_src': 'PubChem'}, {'xref_id': '17389202', 'xref_name': 'SID: 17389202', 'xref_src': 'PubChem'}, {'xref_id': '17390036', 'xref_name': 'SID: 17390036', 'xref_src': 'PubChem'}, {'xref_id': '174007205', 'xref_name': 'SID: 174007205', 'xref_src': 'PubChem'}, {'xref_id': '26747283', 'xref_name': 'SID: 26747283', 'xref_src': 'PubChem'}, {'xref_id': '26752858', 'xref_name': 'SID: 26752858', 'xref_src': 'PubChem'}, {'xref_id': '47193676', 'xref_name': 'SID: 47193676', 'xref_src': 'PubChem'}, {'xref_id': '50105490', 'xref_name': 'SID: 50105490', 'xref_src': 'PubChem'}, {'xref_id': '85230910', 'xref_name': 'SID: 85230910', 'xref_src': 'PubChem'}, {'xref_id': '87798', 'xref_name': 'SID: 87798', 'xref_src': 'PubChem'}, {'xref_id': '90340586', 'xref_name': 'SID: 90340586', 'xref_src': 'PubChem'}, {'xref_id': '14', 'xref_name': 'aspirin', 'xref_src': 'TG-GATEs'}, {'xref_id': 'Aspirin', 'xref_name': None, 'xref_src': 'Wikipedia'}], 'dosed_ingredient': True, 'first_approval': 1950, 'first_in_class': 0, 'helm_notation': None, 'indication_class': 'Analgesic; Antirheumatic; Antipyretic', 'inorganic_flag': 0, 'max_phase': '4.0', 'molecule_chembl_id': 'CHEMBL25', 'molecule_hierarchy': {'active_chembl_id': 'CHEMBL25', 'molecule_chembl_id': 'CHEMBL25', 'parent_chembl_id': 'CHEMBL25'}, 'molecule_properties': {'alogp': '1.31', 'aromatic_rings': 1, 'cx_logd': '-2.16', 'cx_logp': '1.24', 'cx_most_apka': '3.41', 'cx_most_bpka': None, 'full_molformula': 'C9H8O4', 'full_mwt': '180.16', 'hba': 3, 'hba_lipinski': 4, 'hbd': 1, 'hbd_lipinski': 1, 'heavy_atoms': 13, 'molecular_species': 'ACID', 'mw_freebase': '180.16', 'mw_monoisotopic': '180.0423', 'np_likeness_score': '0.12', 'num_lipinski_ro5_violations': 0, 'num_ro5_violations': 0, 'psa': '63.60', 'qed_weighted': '0.55', 'ro3_pass': 'N', 'rtb': 2}, 'molecule_structures': {'canonical_smiles': 'CC(=O)Oc1ccccc1C(=O)O', 'molfile': '\\n     RDKit          2D\\n\\n 13 13  0  0  0  0  0  0  0  0999 V2000\\n   19.8052   -4.2758    0.0000 C   0  0  0  0  0  0  0  0  0  0  0  0\\n   19.8040   -5.0953    0.0000 C   0  0  0  0  0  0  0  0  0  0  0  0\\n   20.5121   -5.5043    0.0000 C   0  0  0  0  0  0  0  0  0  0  0  0\\n   21.2217   -5.0948    0.0000 C   0  0  0  0  0  0  0  0  0  0  0  0\\n   21.2189   -4.2722    0.0000 C   0  0  0  0  0  0  0  0  0  0  0  0\\n   20.5103   -3.8669    0.0000 C   0  0  0  0  0  0  0  0  0  0  0  0\\n   20.5078   -3.0497    0.0000 C   0  0  0  0  0  0  0  0  0  0  0  0\\n   21.2143   -2.6390    0.0000 O   0  0  0  0  0  0  0  0  0  0  0  0\\n   19.7989   -2.6432    0.0000 O   0  0  0  0  0  0  0  0  0  0  0  0\\n   21.9250   -3.8609    0.0000 O   0  0  0  0  0  0  0  0  0  0  0  0\\n   22.6343   -4.2668    0.0000 C   0  0  0  0  0  0  0  0  0  0  0  0\\n   23.3405   -3.8556    0.0000 C   0  0  0  0  0  0  0  0  0  0  0  0\\n   22.6374   -5.0840    0.0000 O   0  0  0  0  0  0  0  0  0  0  0  0\\n  1  2  2  0\\n  2  3  1  0\\n  3  4  2  0\\n  4  5  1  0\\n  5  6  2  0\\n  6  1  1  0\\n  6  7  1  0\\n  7  8  1  0\\n  7  9  2  0\\n  5 10  1  0\\n 10 11  1  0\\n 11 12  1  0\\n 11 13  2  0\\nM  END\\n> <chembl_id>\\nCHEMBL25\\n\\n> <chembl_pref_name>\\nASPIRIN', 'standard_inchi': 'InChI=1S/C9H8O4/c1-6(10)13-8-5-3-2-4-7(8)9(11)12/h2-5H,1H3,(H,11,12)', 'standard_inchi_key': 'BSYNRYMUTXBXSQ-UHFFFAOYSA-N'}, 'molecule_synonyms': [{'molecule_synonym': '8-hour bayer', 'syn_type': 'TRADE_NAME', 'synonyms': '8-HOUR BAYER'}, {'molecule_synonym': 'Acetosalic Acid', 'syn_type': 'TRADE_NAME', 'synonyms': 'Acetosalic Acid'}, {'molecule_synonym': 'Acetylsalic acid', 'syn_type': 'TRADE_NAME', 'synonyms': 'ACETYLSALIC ACID'}, {'molecule_synonym': 'Acetyl salicylate', 'syn_type': 'OTHER', 'synonyms': 'ACETYL SALICYLATE'}, {'molecule_synonym': 'Acetylsalicylic Acid', 'syn_type': 'INN', 'synonyms': 'Acetylsalicylic Acid'}, {'molecule_synonym': 'Acetylsalicylic Acid', 'syn_type': 'TRADE_NAME', 'synonyms': 'Acetylsalicylic Acid'}, {'molecule_synonym': 'Acetylsalicylic acid', 'syn_type': 'ATC', 'synonyms': 'ACETYLSALICYLIC ACID'}, {'molecule_synonym': 'Acetylsalicylic acid', 'syn_type': 'OTHER', 'synonyms': 'ACETYLSALICYLIC ACID'}, {'molecule_synonym': 'Acetylsalicylic acid (who-ip)', 'syn_type': 'OTHER', 'synonyms': 'ACETYLSALICYLIC ACID (WHO-IP)'}, {'molecule_synonym': 'Acetylsalicylicum acidum', 'syn_type': 'OTHER', 'synonyms': 'ACETYLSALICYLICUM ACIDUM'}, {'molecule_synonym': 'Acidum acetylsalicylicum', 'syn_type': 'OTHER', 'synonyms': 'ACIDUM ACETYLSALICYLICUM'}, {'molecule_synonym': 'Acidum acetylsalicylicum (who-ip)', 'syn_type': 'OTHER', 'synonyms': 'ACIDUM ACETYLSALICYLICUM (WHO-IP)'}, {'molecule_synonym': 'Alka rapid', 'syn_type': 'TRADE_NAME', 'synonyms': 'ALKA RAPID'}, {'molecule_synonym': 'Anadin all night', 'syn_type': 'TRADE_NAME', 'synonyms': 'ANADIN ALL NIGHT'}, {'molecule_synonym': 'Angettes 75', 'syn_type': 'TRADE_NAME', 'synonyms': 'ANGETTES 75'}, {'molecule_synonym': 'Aspirin', 'syn_type': 'USAN', 'synonyms': 'Aspirin'}, {'molecule_synonym': 'Aspirin', 'syn_type': 'BAN', 'synonyms': 'ASPIRIN'}, {'molecule_synonym': 'Aspirin', 'syn_type': 'BNF', 'synonyms': 'ASPIRIN'}, {'molecule_synonym': 'Aspirin', 'syn_type': 'FDA', 'synonyms': 'ASPIRIN'}, {'molecule_synonym': 'Aspirin', 'syn_type': 'JAN', 'synonyms': 'ASPIRIN'}, {'molecule_synonym': 'Aspirin', 'syn_type': 'MERCK_INDEX', 'synonyms': 'ASPIRIN'}, {'molecule_synonym': 'Aspirin', 'syn_type': 'OTHER', 'synonyms': 'ASPIRIN'}, {'molecule_synonym': 'Aspirin', 'syn_type': 'TRADE_NAME', 'synonyms': 'ASPIRIN'}, {'molecule_synonym': 'Aspirin', 'syn_type': 'USP', 'synonyms': 'ASPIRIN'}, {'molecule_synonym': 'Aspro clr', 'syn_type': 'TRADE_NAME', 'synonyms': 'ASPRO CLR'}, {'molecule_synonym': 'BAY1019036', 'syn_type': 'RESEARCH_CODE', 'synonyms': 'BAY1019036'}, {'molecule_synonym': 'Bayer extra strength aspirin for migraine pain', 'syn_type': 'TRADE_NAME', 'synonyms': 'BAYER EXTRA STRENGTH ASPIRIN FOR MIGRAINE PAIN'}, {'molecule_synonym': 'Benzoic acid, 2-(acetyloxy)-', 'syn_type': 'OTHER', 'synonyms': 'BENZOIC ACID, 2-(ACETYLOXY)-'}, {'molecule_synonym': 'Danamep', 'syn_type': 'TRADE_NAME', 'synonyms': 'DANAMEP'}, {'molecule_synonym': 'Disprin cv', 'syn_type': 'TRADE_NAME', 'synonyms': 'DISPRIN CV'}, {'molecule_synonym': 'Disprin direct', 'syn_type': 'TRADE_NAME', 'synonyms': 'DISPRIN DIRECT'}, {'molecule_synonym': 'Durlaza', 'syn_type': 'TRADE_NAME', 'synonyms': 'DURLAZA'}, {'molecule_synonym': 'Ecotrin', 'syn_type': 'TRADE_NAME', 'synonyms': 'Ecotrin'}, {'molecule_synonym': 'Enprin', 'syn_type': 'TRADE_NAME', 'synonyms': 'ENPRIN'}, {'molecule_synonym': 'Equi-Prin', 'syn_type': 'TRADE_NAME', 'synonyms': 'Equi-Prin'}, {'molecule_synonym': 'Gencardia', 'syn_type': 'TRADE_NAME', 'synonyms': 'GENCARDIA'}, {'molecule_synonym': 'Levius', 'syn_type': 'TRADE_NAME', 'synonyms': 'LEVIUS'}, {'molecule_synonym': 'Max strgh aspro clr', 'syn_type': 'TRADE_NAME', 'synonyms': 'MAX STRGH ASPRO CLR'}, {'molecule_synonym': 'Measurin', 'syn_type': 'TRADE_NAME', 'synonyms': 'MEASURIN'}, {'molecule_synonym': 'Micropirin ec', 'syn_type': 'TRADE_NAME', 'synonyms': 'MICROPIRIN EC'}, {'molecule_synonym': 'NSC-27223', 'syn_type': 'RESEARCH_CODE', 'synonyms': 'NSC-27223'}, {'molecule_synonym': 'NSC-406186', 'syn_type': 'RESEARCH_CODE', 'synonyms': 'NSC-406186'}, {'molecule_synonym': 'Nu-seals 300', 'syn_type': 'TRADE_NAME', 'synonyms': 'NU-SEALS 300'}, {'molecule_synonym': 'Nu-seals 600', 'syn_type': 'TRADE_NAME', 'synonyms': 'NU-SEALS 600'}, {'molecule_synonym': 'Nu-seals 75', 'syn_type': 'TRADE_NAME', 'synonyms': 'NU-SEALS 75'}, {'molecule_synonym': 'Nu-seals cardio 75', 'syn_type': 'TRADE_NAME', 'synonyms': 'NU-SEALS CARDIO 75'}, {'molecule_synonym': 'Paynocil', 'syn_type': 'TRADE_NAME', 'synonyms': 'PAYNOCIL'}, {'molecule_synonym': 'Platet', 'syn_type': 'TRADE_NAME', 'synonyms': 'PLATET'}, {'molecule_synonym': 'Platet 300', 'syn_type': 'TRADE_NAME', 'synonyms': 'PLATET 300'}, {'molecule_synonym': 'Postmi 300', 'syn_type': 'TRADE_NAME', 'synonyms': 'POSTMI 300'}, {'molecule_synonym': 'Postmi 75', 'syn_type': 'TRADE_NAME', 'synonyms': 'POSTMI 75'}, {'molecule_synonym': 'Salicylic Acid Acetate', 'syn_type': 'TRADE_NAME', 'synonyms': 'Salicylic Acid Acetate'}, {'molecule_synonym': 'Vazalore', 'syn_type': 'TRADE_NAME', 'synonyms': 'VAZALORE'}], 'molecule_type': 'Small molecule', 'natural_product': 1, 'oral': True, 'parenteral': False, 'polymer_flag': 0, 'pref_name': 'ASPIRIN', 'prodrug': 0, 'structure_type': 'MOL', 'therapeutic_flag': True, 'topical': False, 'usan_stem': None, 'usan_stem_definition': None, 'usan_substem': None, 'usan_year': None, 'withdrawn_flag': False}]"
            ]
          },
          "metadata": {},
          "execution_count": 13
        }
      ]
    },
    {
      "cell_type": "markdown",
      "source": [
        "Not easy to read... Don't worry you can convert the 'mols' object into a pandas DataFrame easier reading and manipulation. Here’s how you can do it:"
      ],
      "metadata": {
        "id": "rnhFYif2f-G2"
      }
    },
    {
      "cell_type": "code",
      "source": [
        "mols_df"
      ],
      "metadata": {
        "colab": {
          "base_uri": "https://localhost:8080/",
          "height": 53
        },
        "id": "40PaBQyfnCGb",
        "outputId": "ec442553-cb00-4264-be1a-1a9a6b13402c"
      },
      "execution_count": 18,
      "outputs": [
        {
          "output_type": "execute_result",
          "data": {
            "text/plain": [
              "Empty DataFrame\n",
              "Columns: []\n",
              "Index: []"
            ],
            "text/html": [
              "\n",
              "  <div id=\"df-7a2063bb-1018-4143-931b-5e04cf7171ac\" class=\"colab-df-container\">\n",
              "    <div>\n",
              "<style scoped>\n",
              "    .dataframe tbody tr th:only-of-type {\n",
              "        vertical-align: middle;\n",
              "    }\n",
              "\n",
              "    .dataframe tbody tr th {\n",
              "        vertical-align: top;\n",
              "    }\n",
              "\n",
              "    .dataframe thead th {\n",
              "        text-align: right;\n",
              "    }\n",
              "</style>\n",
              "<table border=\"1\" class=\"dataframe\">\n",
              "  <thead>\n",
              "    <tr style=\"text-align: right;\">\n",
              "      <th></th>\n",
              "    </tr>\n",
              "  </thead>\n",
              "  <tbody>\n",
              "  </tbody>\n",
              "</table>\n",
              "</div>\n",
              "    <div class=\"colab-df-buttons\">\n",
              "\n",
              "  <div class=\"colab-df-container\">\n",
              "    <button class=\"colab-df-convert\" onclick=\"convertToInteractive('df-7a2063bb-1018-4143-931b-5e04cf7171ac')\"\n",
              "            title=\"Convert this dataframe to an interactive table.\"\n",
              "            style=\"display:none;\">\n",
              "\n",
              "  <svg xmlns=\"http://www.w3.org/2000/svg\" height=\"24px\" viewBox=\"0 -960 960 960\">\n",
              "    <path d=\"M120-120v-720h720v720H120Zm60-500h600v-160H180v160Zm220 220h160v-160H400v160Zm0 220h160v-160H400v160ZM180-400h160v-160H180v160Zm440 0h160v-160H620v160ZM180-180h160v-160H180v160Zm440 0h160v-160H620v160Z\"/>\n",
              "  </svg>\n",
              "    </button>\n",
              "\n",
              "  <style>\n",
              "    .colab-df-container {\n",
              "      display:flex;\n",
              "      gap: 12px;\n",
              "    }\n",
              "\n",
              "    .colab-df-convert {\n",
              "      background-color: #E8F0FE;\n",
              "      border: none;\n",
              "      border-radius: 50%;\n",
              "      cursor: pointer;\n",
              "      display: none;\n",
              "      fill: #1967D2;\n",
              "      height: 32px;\n",
              "      padding: 0 0 0 0;\n",
              "      width: 32px;\n",
              "    }\n",
              "\n",
              "    .colab-df-convert:hover {\n",
              "      background-color: #E2EBFA;\n",
              "      box-shadow: 0px 1px 2px rgba(60, 64, 67, 0.3), 0px 1px 3px 1px rgba(60, 64, 67, 0.15);\n",
              "      fill: #174EA6;\n",
              "    }\n",
              "\n",
              "    .colab-df-buttons div {\n",
              "      margin-bottom: 4px;\n",
              "    }\n",
              "\n",
              "    [theme=dark] .colab-df-convert {\n",
              "      background-color: #3B4455;\n",
              "      fill: #D2E3FC;\n",
              "    }\n",
              "\n",
              "    [theme=dark] .colab-df-convert:hover {\n",
              "      background-color: #434B5C;\n",
              "      box-shadow: 0px 1px 3px 1px rgba(0, 0, 0, 0.15);\n",
              "      filter: drop-shadow(0px 1px 2px rgba(0, 0, 0, 0.3));\n",
              "      fill: #FFFFFF;\n",
              "    }\n",
              "  </style>\n",
              "\n",
              "    <script>\n",
              "      const buttonEl =\n",
              "        document.querySelector('#df-7a2063bb-1018-4143-931b-5e04cf7171ac button.colab-df-convert');\n",
              "      buttonEl.style.display =\n",
              "        google.colab.kernel.accessAllowed ? 'block' : 'none';\n",
              "\n",
              "      async function convertToInteractive(key) {\n",
              "        const element = document.querySelector('#df-7a2063bb-1018-4143-931b-5e04cf7171ac');\n",
              "        const dataTable =\n",
              "          await google.colab.kernel.invokeFunction('convertToInteractive',\n",
              "                                                    [key], {});\n",
              "        if (!dataTable) return;\n",
              "\n",
              "        const docLinkHtml = 'Like what you see? Visit the ' +\n",
              "          '<a target=\"_blank\" href=https://colab.research.google.com/notebooks/data_table.ipynb>data table notebook</a>'\n",
              "          + ' to learn more about interactive tables.';\n",
              "        element.innerHTML = '';\n",
              "        dataTable['output_type'] = 'display_data';\n",
              "        await google.colab.output.renderOutput(dataTable, element);\n",
              "        const docLink = document.createElement('div');\n",
              "        docLink.innerHTML = docLinkHtml;\n",
              "        element.appendChild(docLink);\n",
              "      }\n",
              "    </script>\n",
              "  </div>\n",
              "\n",
              "    </div>\n",
              "  </div>\n"
            ],
            "application/vnd.google.colaboratory.intrinsic+json": {
              "type": "dataframe",
              "variable_name": "mols_df",
              "summary": "{\n  \"name\": \"mols_df\",\n  \"rows\": 0,\n  \"fields\": []\n}"
            }
          },
          "metadata": {},
          "execution_count": 18
        }
      ]
    },
    {
      "cell_type": "code",
      "source": [
        "import pandas as pd\n",
        "mols_df = pd.DataFrame.from_records(mols)\n",
        "mols_df\n"
      ],
      "metadata": {
        "id": "OBu9mCyxgcwa"
      },
      "execution_count": null,
      "outputs": []
    }
  ]
}