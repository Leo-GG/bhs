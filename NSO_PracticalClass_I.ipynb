{
  "cells": [
    {
      "cell_type": "markdown",
      "metadata": {
        "colab_type": "text",
        "id": "view-in-github"
      },
      "source": [
        "<a href=\"https://colab.research.google.com/github/nunososorio/bhs/blob/main/NSO_PracticalClass_I.ipynb\" target=\"_parent\"><img src=\"https://colab.research.google.com/assets/colab-badge.svg\" alt=\"Open In Colab\"/></a>"
      ]
    },
    {
      "cell_type": "markdown",
      "metadata": {
        "id": "wdyMcbYcb2lq"
      },
      "source": [
        "# Practical Training: The Role of Databases in Drug Discovery\n",
        "\n",
        "By **Nuno S. Osório** 🖋️\n",
        "\n",
        "👋 Welcome to this tutorial! We will explore how to access and use drug-related databases. We will focus on retrieving data from **ChEMBL** using their respective Python packages, and then analyze the retrieved data. This tutorial is designed to be run on jupyter notebook environments and includes exercises that involve running Python code. 🐍💻\n",
        "\n",
        "You can access an interactive cloud version of the notebook here (https://colab.research.google.com/github/nunososorio/bhs/blob/main/NSO_PracticalClass_I.ipynb).Let's dive in! 🏊‍♂️\n"
      ]
    },
    {
      "cell_type": "markdown",
      "metadata": {
        "id": "2HcWEHJTcYtF"
      },
      "source": [
        "## Introduction\n",
        "\n",
        "The use of databases is crucial in the steps of **Target-to-Hit** and **Hit-to-Lead** in drug discovery. 🎯💊 These databases provide a wealth of information about potential drug targets and the compounds that could interact with these targets. Accessing and analyzing this data can help in the identification of potential new drugs. 🧪🔬\n",
        "\n",
        "Accessing these databases can be done via their respective websites. However, for reproducible and large-scale analysis, accessing the database programmatically via code is more efficient. In this tutorial, we will guide you on how to do this. 🖥️📚\n",
        "\n",
        "The **ChEMBL** database is a manually curated database of bioactive molecules with drug-like properties. It brings together chemical, bioactivity and genomic data to aid the translation of genomic information into effective new drugs. 🧬💡\n",
        "\n",
        "The `chembl_webresource_client` is the official Python client library for accessing ChEMBL data. 🐍📦\n"
      ]
    },
    {
      "cell_type": "markdown",
      "metadata": {
        "id": "SO7GUg2GdI9X"
      },
      "source": [
        "## Setup\n",
        "First, we need to install the necessary Python packages. Run the following commands in your environment:\n"
      ]
    },
    {
      "cell_type": "code",
      "execution_count": null,
      "metadata": {
        "id": "ZfkWcb8kb440"
      },
      "outputs": [],
      "source": [
        "!pip install chembl_webresource_client\n"
      ]
    },
    {
      "cell_type": "markdown",
      "metadata": {
        "id": "xWvgMs2XeUGP"
      },
      "source": [
        "Now, import the library:"
      ]
    },
    {
      "cell_type": "code",
      "execution_count": 2,
      "metadata": {
        "id": "_Ql7nI-negPM"
      },
      "outputs": [],
      "source": [
        "from chembl_webresource_client.new_client import new_client\n"
      ]
    },
    {
      "cell_type": "markdown",
      "metadata": {
        "id": "2HJHG2rve82N"
      },
      "source": [
        "## Explore"
      ]
    },
    {
      "cell_type": "markdown",
      "metadata": {
        "id": "FdaXOf4qfAH_"
      },
      "source": [
        "Lets start by learning all types of data or information we can retreive from ChEMBL database using the chembl_webresource_client. You can list available data entities using the following code:"
      ]
    },
    {
      "cell_type": "code",
      "execution_count": null,
      "metadata": {
        "id": "wP0HbC6ue_ZH"
      },
      "outputs": [],
      "source": [
        "available_resources = dir(new_client)\n",
        "#available_resources = [resource for resource in dir(new_client) if not resource.startswith('_')]\n",
        "\n",
        "available_resources\n"
      ]
    },
    {
      "cell_type": "markdown",
      "metadata": {
        "id": "GsjI1F1xhmga"
      },
      "source": [
        "In Python, attributes that start with an underscore are typically used for internal purposes and are not meant to be accessed directly.\n",
        "\n",
        "Lets peek into the 'molecule' data entity in the ChEMBL database:"
      ]
    },
    {
      "cell_type": "code",
      "execution_count": null,
      "metadata": {
        "id": "2kENQPHghEBr"
      },
      "outputs": [],
      "source": [
        "new_client.molecule"
      ]
    },
    {
      "cell_type": "markdown",
      "metadata": {
        "id": "L3Z7ukV7juBu"
      },
      "source": [
        "As you can see, it returns a dictionary containing a wealth of information about a specific molecule in the ChEMBL database. The keys in this dictionary represent different attributes of the molecule, and the values associated with these keys provide specific information about these attributes.\n",
        "\n",
        "Here’s a brief explanation of some of the keys in the dictionary:\n",
        "\n",
        "- **'atc_classifications'**: The Anatomical Therapeutic Chemical (ATC) classification system codes for the molecule.\n",
        "- **'availability_type'**: The availability type of the molecule.\n",
        "- **'biotherapeutic'**: Information about the biotherapeutic properties of the molecule.\n",
        "- **'black_box_warning'**: Indicates if there is a black box warning for the molecule.\n",
        "- **'molecule_chembl_id'**: The ChEMBL ID of the molecule.\n",
        "- **'molecule_hierarchy'**: The hierarchy of the molecule in the ChEMBL database.\n",
        "- **'molecule_properties'**: Various properties of the molecule, such as its molecular weight, number of hydrogen bond acceptors and donors, etc.\n",
        "- **'molecule_structures'**: The structures of the molecule in various formats, such as SMILES, InChI, and molfile.\n",
        "- **'molecule_type'**: The type of the molecule (e.g., ‘Small molecule’).\n",
        "- **'structure_type'**: The type of the structure (e.g., ‘MOL’).\n",
        "- **'pref_name'**: This stands for “preferred name”. It is the preferred name of the molecule in the ChEMBL database. If the value is None, it means that a preferred name has not been assigned or is not available for this molecule in the database.\n",
        "- **'molecule_synonyms'**: This is a list of synonyms for the molecule. Synonyms are different names that can be used to refer to the same molecule. These could include names used in different databases, common names, scientific names, etc. If the list is empty, it means that no synonyms have been recorded or are available for this molecule in the database.\n",
        "\n"
      ]
    },
    {
      "cell_type": "markdown",
      "metadata": {
        "id": "Ue6uu_nefxUW"
      },
      "source": [
        "If we want to find a molecule by preferred name we can use:"
      ]
    },
    {
      "cell_type": "code",
      "execution_count": null,
      "metadata": {
        "id": "dCTb-1m1fwQA"
      },
      "outputs": [],
      "source": [
        "# Create a 'molecule' object that allows you to access the 'molecule' data entity in the ChEMBL database.\n",
        "molecule = new_client.molecule\n",
        "\n",
        "# Use the 'filter' method of the 'molecule' object to retrieve all molecules whose preferred name is exactly 'aspirin'.\n",
        "# The 'iexact' lookup is used to perform case-insensitive exact match.\n",
        "mols = molecule.filter(molecule_synonyms__molecule_synonym__iexact='viagra')\n",
        "\n",
        "# 'mols' now contains a list of all molecules in the ChEMBL database whose preferred name is 'aspirin'.\n",
        "mols\n",
        "\n"
      ]
    },
    {
      "cell_type": "markdown",
      "metadata": {
        "id": "rnhFYif2f-G2"
      },
      "source": [
        "Not easy to read... Don't worry you can convert the 'mols' object into a pandas DataFrame easier reading and manipulation. Here’s how you can do it:"
      ]
    },
    {
      "cell_type": "code",
      "execution_count": null,
      "metadata": {
        "id": "OBu9mCyxgcwa"
      },
      "outputs": [],
      "source": [
        "import pandas as pd\n",
        "mols_df = pd.DataFrame.from_records(mols)\n",
        "mols_df\n"
      ]
    },
    {
      "attachments": {
        "image.png": {
          "image/png": "[encoded data removed]"
        }
      },
      "cell_type": "markdown",
      "metadata": {
        "id": "8bQmuZAUqkHE"
      },
      "source": [
        "# Scenario-based Exercise\n",
        "Scenario: You’re a researcher involved in the drug discovery and development pipeline. You’ve received a recently synthesized compound from a collaborating chemical lab. The compound was sent via mail, and included a printed image of the structure of the compound:\n",
        "\n",
        "\n",
        "Your task is to convert the Kekulé diagram to a SMILES string, search the ChEMBL database using the SMILES string, and determine if the compound already exists in the database and if it has any relevant annotation.\n",
        "\n",
        "![image.png](attachment:image.png)\n",
        "\n",
        "Remember, the goal of these exercises is to familiarize you with accessing drug-related databases programmatically. This skill is crucial for reproducible and large-scale analysis in the steps of Target-to-Hit and Hit-to-Lead in drug discovery. Happy coding!\n"
      ]
    },
    {
      "cell_type": "markdown",
      "metadata": {
        "id": "XBaD4tjqvMHS"
      },
      "source": [
        "First step: Convert the Kekulé diagram to a SMILES string. You can use several different software for that, including:\n",
        "https://cactus.nci.nih.gov/cgi-bin/osra/index.cgi\n"
      ]
    },
    {
      "cell_type": "markdown",
      "metadata": {
        "id": "H_BNOJoustqt"
      },
      "source": []
    }
  ],
  "metadata": {
    "colab": {
      "authorship_tag": "ABX9TyN0p5R48VGvk5FRLpMh5BTV",
      "include_colab_link": true,
      "provenance": []
    },
    "kernelspec": {
      "display_name": "Python 3",
      "name": "python3"
    },
    "language_info": {
      "name": "python"
    }
  },
  "nbformat": 4,
  "nbformat_minor": 0
}
