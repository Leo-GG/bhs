{
  "nbformat": 4,
  "nbformat_minor": 0,
  "metadata": {
    "colab": {
      "provenance": [],
      "authorship_tag": "ABX9TyNi3MbqIQW9t1mT7zSeZNSI",
      "include_colab_link": true
    },
    "kernelspec": {
      "name": "python3",
      "display_name": "Python 3"
    },
    "language_info": {
      "name": "python"
    }
  },
  "cells": [
    {
      "cell_type": "markdown",
      "metadata": {
        "id": "view-in-github",
        "colab_type": "text"
      },
      "source": [
        "<a href=\"https://colab.research.google.com/github/nunososorio/bhs/blob/main/gpt4all.ipynb\" target=\"_parent\"><img src=\"https://colab.research.google.com/assets/colab-badge.svg\" alt=\"Open In Colab\"/></a>"
      ]
    },
    {
      "cell_type": "markdown",
      "source": [
        "https://gpt4all.io/index.html more models and more informations"
      ],
      "metadata": {
        "id": "WkvQwZHwfIYw"
      }
    },
    {
      "cell_type": "code",
      "execution_count": 5,
      "metadata": {
        "id": "thqHSXX9ITtb",
        "outputId": "05728a43-6cac-40d3-aaae-ac131b602ccb",
        "colab": {
          "base_uri": "https://localhost:8080/"
        }
      },
      "outputs": [
        {
          "output_type": "stream",
          "name": "stdout",
          "text": [
            "Requirement already satisfied: gpt4all in /usr/local/lib/python3.10/dist-packages (2.0.2)\n",
            "Requirement already satisfied: requests in /usr/local/lib/python3.10/dist-packages (from gpt4all) (2.31.0)\n",
            "Requirement already satisfied: tqdm in /usr/local/lib/python3.10/dist-packages (from gpt4all) (4.66.1)\n",
            "Requirement already satisfied: charset-normalizer<4,>=2 in /usr/local/lib/python3.10/dist-packages (from requests->gpt4all) (3.3.2)\n",
            "Requirement already satisfied: idna<4,>=2.5 in /usr/local/lib/python3.10/dist-packages (from requests->gpt4all) (3.4)\n",
            "Requirement already satisfied: urllib3<3,>=1.21.1 in /usr/local/lib/python3.10/dist-packages (from requests->gpt4all) (2.0.7)\n",
            "Requirement already satisfied: certifi>=2017.4.17 in /usr/local/lib/python3.10/dist-packages (from requests->gpt4all) (2023.7.22)\n",
            "--2023-11-09 20:01:39--  https://gpt4all.io/models/gguf/orca-mini-3b-gguf2-q4_0.gguf\n",
            "Resolving gpt4all.io (gpt4all.io)... 104.26.0.159, 172.67.71.169, 104.26.1.159, ...\n",
            "Connecting to gpt4all.io (gpt4all.io)|104.26.0.159|:443... connected.\n",
            "HTTP request sent, awaiting response... 200 OK\n",
            "Length: 1979946720 (1.8G)\n",
            "Saving to: ‘orca-mini-3b-gguf2-q4_0.gguf.1’\n",
            "\n",
            "orca-mini-3b-gguf2- 100%[===================>]   1.84G  99.9MB/s    in 22s     \n",
            "\n",
            "2023-11-09 20:02:01 (87.3 MB/s) - ‘orca-mini-3b-gguf2-q4_0.gguf.1’ saved [1979946720/1979946720]\n",
            "\n",
            "--2023-11-09 20:02:01--  https://gpt4all.io/models/gguf/mistral-7b-openorca.Q4_0.gguf\n",
            "Resolving gpt4all.io (gpt4all.io)... 104.26.0.159, 172.67.71.169, 104.26.1.159, ...\n",
            "Connecting to gpt4all.io (gpt4all.io)|104.26.0.159|:443... connected.\n",
            "HTTP request sent, awaiting response... 200 OK\n",
            "Length: 4108927744 (3.8G)\n",
            "Saving to: ‘mistral-7b-openorca.Q4_0.gguf.1’\n",
            "\n",
            "mistral-7b-openorca 100%[===================>]   3.83G  63.6MB/s    in 63s     \n",
            "\n",
            "2023-11-09 20:03:04 (62.7 MB/s) - ‘mistral-7b-openorca.Q4_0.gguf.1’ saved [4108927744/4108927744]\n",
            "\n",
            "--2023-11-09 20:03:04--  https://gpt4all.io/models/gguf/mistral-7b-instruct-v0.1.Q4_0.gguf\n",
            "Resolving gpt4all.io (gpt4all.io)... 104.26.0.159, 172.67.71.169, 104.26.1.159, ...\n",
            "Connecting to gpt4all.io (gpt4all.io)|104.26.0.159|:443... connected.\n",
            "HTTP request sent, awaiting response... 200 OK\n",
            "Length: 4108916384 (3.8G)\n",
            "Saving to: ‘mistral-7b-instruct-v0.1.Q4_0.gguf.1’\n",
            "\n",
            "mistral-7b-instruct 100%[===================>]   3.83G  81.0MB/s    in 71s     \n",
            "\n",
            "2023-11-09 20:04:15 (55.5 MB/s) - ‘mistral-7b-instruct-v0.1.Q4_0.gguf.1’ saved [4108916384/4108916384]\n",
            "\n"
          ]
        }
      ],
      "source": [
        "!pip install gpt4all\n",
        "!wget https://gpt4all.io/models/gguf/orca-mini-3b-gguf2-q4_0.gguf\n",
        "!wget https://gpt4all.io/models/gguf/mistral-7b-openorca.Q4_0.gguf\n",
        "!wget https://gpt4all.io/models/gguf/mistral-7b-instruct-v0.1.Q4_0.gguf"
      ]
    },
    {
      "cell_type": "code",
      "source": [
        "from gpt4all import GPT4All\n",
        "model = GPT4All(\"orca-mini-3b-gguf2-q4_0.gguf\") # device='gpu', device='amd'\n",
        "output = model.generate(\"Pharmacogenomics is \", max_tokens=200)\n",
        "print(output)"
      ],
      "metadata": {
        "colab": {
          "base_uri": "https://localhost:8080/"
        },
        "id": "9F8p49o7ehut",
        "outputId": "35791a42-c6a4-4914-bb58-8ee8071ea218"
      },
      "execution_count": 4,
      "outputs": [
        {
          "metadata": {
            "tags": null
          },
          "name": "stdout",
          "output_type": "stream",
          "text": [
            "1 of the most exciting and rapidly growing fields in biotechnology. It involves the use of genomic information to develop personalized therapies that are tailored to an individual's genetic makeup. This approach has the potential to revolutionize drug development, as it allows for more effective treatments that can be targeted directly to the patient who needs them.\n",
            "Pharmacogenomics is a rapidly growing field that aims to use genomic information to develop personalized therapies that are tailored to an individual's genetic makeup. By understanding how genes affect drug response, pharmacogenomics researchers can create new drugs and improve existing ones. This approach has the potential to revolutionize drug development, as it allows for more effective treatments that can be targeted directly to the patient who needs them.\n"
          ]
        }
      ]
    },
    {
      "cell_type": "code",
      "source": [
        "model = GPT4All(\"mistral-7b-openorca.Q4_0.gguf\") # device='amd', device='intel'\n",
        "output = model.generate(\"Pharmacogenomics is \", max_tokens=200)\n",
        "print(output)"
      ],
      "metadata": {
        "colab": {
          "base_uri": "https://localhost:8080/"
        },
        "id": "rSQj1mU_elOE",
        "outputId": "06839fd2-a306-4c2d-eec5-ef2dd6a3ad95"
      },
      "execution_count": null,
      "outputs": [
        {
          "output_type": "stream",
          "name": "stderr",
          "text": [
            "100%|██████████| 4.11G/4.11G [00:50<00:00, 80.8MiB/s]\n"
          ]
        },
        {
          "output_type": "stream",
          "name": "stdout",
          "text": [
            " the study of how changes in DNA can affect drug response. It's a field that has been growing rapidly over the past decade, and it's becoming increasingly important as we learn more about how our genes influence our body's reaction to medications.\n",
            "\n",
            "The goal of pharmacogenomic research is to develop personalized medicine, which means tailoring treatments specifically for each individual based on their genetic makeup. This approach could lead to better outcomes, fewer side effects, and lower healthcare costs by reducing the need for trial-and-error prescribing.\n",
            "\n",
            "One example of how pharmacogenomics can be used in practice is through genotyping tests that identify specific gene variations associated with drug response. These tests are becoming more common in clinical settings, as they help doctors choose the right medication and dosage for their patients.\n",
            "\n",
            "Another application of pharmacogenomics is in the development of new drugs. By understanding how genetic variation affects a person's\n"
          ]
        }
      ]
    },
    {
      "cell_type": "code",
      "source": [
        "model = GPT4All(\"mistral-7b-instruct-v0.1.Q4_0.gguf\") # device='amd', device='intel'\n",
        "output = model.generate(\"Pharmacogenomics is \", max_tokens=200)\n",
        "print(output)"
      ],
      "metadata": {
        "colab": {
          "base_uri": "https://localhost:8080/"
        },
        "id": "zMLu7yahenHF",
        "outputId": "df6212d1-395e-4dfe-e0f4-a8a7ef31dc1b"
      },
      "execution_count": 12,
      "outputs": [
        {
          "output_type": "stream",
          "name": "stdout",
          "text": [
            " a new field of medicine that uses the study of an individual's genetic makeup to determine their response to drugs. This information can be used to tailor drug therapy to each person, potentially improving outcomes and reducing side effects.\n",
            "\n",
            "Pharmacogenomics involves analyzing a patient's DNA for variations in genes involved in metabolism, transport, and response to medications. These genetic variations can affect how the body processes drugs, leading to differences in efficacy and toxicity between individuals.\n",
            "\n",
            "For example, some people may have a variant of the CYP2C9 gene that affects their ability to metabolize certain painkillers like acetaminophen. If they take too much of this drug, it can build up in their bloodstream and cause liver damage or failure. On the other hand, if someone has a variant of the MDR1 gene that affects how well they respond to chemotherapy drugs, they may need higher doses or different medications\n"
          ]
        }
      ]
    },
    {
      "cell_type": "code",
      "source": [
        "q = input(\"what is 2 plus 2:\")\n",
        "prompt = f'user was asked the result of 2+2 and answered {q}.Give feedback'\n",
        "print(prompt)"
      ],
      "metadata": {
        "id": "1mnNy39orxiD"
      },
      "execution_count": null,
      "outputs": []
    },
    {
      "cell_type": "code",
      "source": [
        "prompt = \"pharmacogenomics is the study of the whole genome. Is this correct and complete?\""
      ],
      "metadata": {
        "id": "QelXowgMvSmn"
      },
      "execution_count": 13,
      "outputs": []
    },
    {
      "cell_type": "code",
      "source": [
        "output = model.generate(prompt, max_tokens=5000)\n",
        "print(output)"
      ],
      "metadata": {
        "id": "w6bAHbKescOt",
        "outputId": "83f1f4db-fb8f-4819-a6d0-e73e8cc41367",
        "colab": {
          "base_uri": "https://localhost:8080/"
        }
      },
      "execution_count": 14,
      "outputs": [
        {
          "output_type": "stream",
          "name": "stdout",
          "text": [
            "\n",
            "Answer: No, that's not entirely accurate. Pharmacogenomics is a field of research that focuses on how an individual's genetic makeup affects their response to drugs. It involves identifying specific genes or genetic markers that are associated with drug metabolism, absorption, distribution, and elimination (ADME) in the body. The goal of pharmacogenomics is to develop personalized treatment plans based on a patient's unique genetic profile, which can improve safety and efficacy while reducing adverse effects and wasteful healthcare spending. While the study of the whole genome may be relevant to understanding drug response, it is not the sole focus of pharmacogenomics.\n"
          ]
        }
      ]
    }
  ]
}