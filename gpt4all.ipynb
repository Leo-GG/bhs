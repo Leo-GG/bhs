{
  "nbformat": 4,
  "nbformat_minor": 0,
  "metadata": {
    "colab": {
      "provenance": [],
      "authorship_tag": "ABX9TyN/DcLqcrv1EFSriI0IwN3O",
      "include_colab_link": true
    },
    "kernelspec": {
      "name": "python3",
      "display_name": "Python 3"
    },
    "language_info": {
      "name": "python"
    }
  },
  "cells": [
    {
      "cell_type": "markdown",
      "metadata": {
        "id": "view-in-github",
        "colab_type": "text"
      },
      "source": [
        "<a href=\"https://colab.research.google.com/github/nunososorio/bhs/blob/main/gpt4all.ipynb\" target=\"_parent\"><img src=\"https://colab.research.google.com/assets/colab-badge.svg\" alt=\"Open In Colab\"/></a>"
      ]
    },
    {
      "cell_type": "markdown",
      "source": [
        "https://gpt4all.io/index.html more models and more informations"
      ],
      "metadata": {
        "id": "WkvQwZHwfIYw"
      }
    },
    {
      "cell_type": "code",
      "execution_count": 1,
      "metadata": {
        "id": "thqHSXX9ITtb",
        "outputId": "354ebeae-0f5d-4057-dcaa-404eb1b9c401",
        "colab": {
          "base_uri": "https://localhost:8080/"
        }
      },
      "outputs": [
        {
          "output_type": "stream",
          "name": "stdout",
          "text": [
            "Collecting gpt4all\n",
            "  Downloading gpt4all-2.0.2-py3-none-manylinux1_x86_64.whl (4.9 MB)\n",
            "\u001b[?25l     \u001b[90m━━━━━━━━━━━━━━━━━━━━━━━━━━━━━━━━━━━━━━━━\u001b[0m \u001b[32m0.0/4.9 MB\u001b[0m \u001b[31m?\u001b[0m eta \u001b[36m-:--:--\u001b[0m\r\u001b[2K     \u001b[91m━━━━\u001b[0m\u001b[91m╸\u001b[0m\u001b[90m━━━━━━━━━━━━━━━━━━━━━━━━━━━━━━━━━━━\u001b[0m \u001b[32m0.6/4.9 MB\u001b[0m \u001b[31m16.8 MB/s\u001b[0m eta \u001b[36m0:00:01\u001b[0m\r\u001b[2K     \u001b[91m━━━━━━━━━━━━━━━━━\u001b[0m\u001b[90m╺\u001b[0m\u001b[90m━━━━━━━━━━━━━━━━━━━━━━\u001b[0m \u001b[32m2.2/4.9 MB\u001b[0m \u001b[31m31.4 MB/s\u001b[0m eta \u001b[36m0:00:01\u001b[0m\r\u001b[2K     \u001b[91m━━━━━━━━━━━━━━━━━━━━━━━━━━━━━━━━━━━━━━━\u001b[0m\u001b[91m╸\u001b[0m \u001b[32m4.9/4.9 MB\u001b[0m \u001b[31m54.0 MB/s\u001b[0m eta \u001b[36m0:00:01\u001b[0m\r\u001b[2K     \u001b[90m━━━━━━━━━━━━━━━━━━━━━━━━━━━━━━━━━━━━━━━━\u001b[0m \u001b[32m4.9/4.9 MB\u001b[0m \u001b[31m46.1 MB/s\u001b[0m eta \u001b[36m0:00:00\u001b[0m\n",
            "\u001b[?25hRequirement already satisfied: requests in /usr/local/lib/python3.10/dist-packages (from gpt4all) (2.31.0)\n",
            "Requirement already satisfied: tqdm in /usr/local/lib/python3.10/dist-packages (from gpt4all) (4.66.1)\n",
            "Requirement already satisfied: charset-normalizer<4,>=2 in /usr/local/lib/python3.10/dist-packages (from requests->gpt4all) (3.3.2)\n",
            "Requirement already satisfied: idna<4,>=2.5 in /usr/local/lib/python3.10/dist-packages (from requests->gpt4all) (3.4)\n",
            "Requirement already satisfied: urllib3<3,>=1.21.1 in /usr/local/lib/python3.10/dist-packages (from requests->gpt4all) (2.0.7)\n",
            "Requirement already satisfied: certifi>=2017.4.17 in /usr/local/lib/python3.10/dist-packages (from requests->gpt4all) (2023.7.22)\n",
            "Installing collected packages: gpt4all\n",
            "Successfully installed gpt4all-2.0.2\n",
            "--2023-11-09 19:45:05--  https://gpt4all.io/models/gguf/orca-mini-3b-gguf2-q4_0.gguf\n",
            "Resolving gpt4all.io (gpt4all.io)... 104.26.1.159, 104.26.0.159, 172.67.71.169, ...\n",
            "Connecting to gpt4all.io (gpt4all.io)|104.26.1.159|:443... connected.\n",
            "HTTP request sent, awaiting response... 200 OK\n",
            "Length: 1979946720 (1.8G)\n",
            "Saving to: ‘orca-mini-3b-gguf2-q4_0.gguf’\n",
            "\n",
            "orca-mini-3b-gguf2- 100%[===================>]   1.84G  61.1MB/s    in 27s     \n",
            "\n",
            "2023-11-09 19:45:32 (71.2 MB/s) - ‘orca-mini-3b-gguf2-q4_0.gguf’ saved [1979946720/1979946720]\n",
            "\n",
            "--2023-11-09 19:45:32--  https://gpt4all.io/models/gguf/mistral-7b-openorca.Q4_0.gguf\n",
            "Resolving gpt4all.io (gpt4all.io)... 104.26.1.159, 104.26.0.159, 172.67.71.169, ...\n",
            "Connecting to gpt4all.io (gpt4all.io)|104.26.1.159|:443... connected.\n",
            "HTTP request sent, awaiting response... 200 OK\n",
            "Length: 4108927744 (3.8G)\n",
            "Saving to: ‘mistral-7b-openorca.Q4_0.gguf’\n",
            "\n",
            "mistral-7b-openorca 100%[===================>]   3.83G  57.9MB/s    in 63s     \n",
            "\n",
            "2023-11-09 19:46:36 (62.1 MB/s) - ‘mistral-7b-openorca.Q4_0.gguf’ saved [4108927744/4108927744]\n",
            "\n",
            "--2023-11-09 19:46:36--  https://gpt4all.io/models/gguf/mistral-7b-instruct-v0.1.Q4_0.gguf\n",
            "Resolving gpt4all.io (gpt4all.io)... 104.26.1.159, 104.26.0.159, 172.67.71.169, ...\n",
            "Connecting to gpt4all.io (gpt4all.io)|104.26.1.159|:443... connected.\n",
            "HTTP request sent, awaiting response... 200 OK\n",
            "Length: 4108916384 (3.8G)\n",
            "Saving to: ‘mistral-7b-instruct-v0.1.Q4_0.gguf’\n",
            "\n",
            "mistral-7b-instruct 100%[===================>]   3.83G  71.4MB/s    in 52s     \n",
            "\n",
            "2023-11-09 19:47:28 (75.2 MB/s) - ‘mistral-7b-instruct-v0.1.Q4_0.gguf’ saved [4108916384/4108916384]\n",
            "\n"
          ]
        }
      ],
      "source": [
        "!pip install gpt4all\n",
        "!wget https://gpt4all.io/models/gguf/orca-mini-3b-gguf2-q4_0.gguf\n",
        "!wget https://gpt4all.io/models/gguf/mistral-7b-openorca.Q4_0.gguf\n",
        "!wget https://gpt4all.io/models/gguf/mistral-7b-instruct-v0.1.Q4_0.gguf"
      ]
    },
    {
      "cell_type": "code",
      "source": [
        "from gpt4all import GPT4All\n",
        "model = GPT4All(\"orca-mini-3b-gguf2-q4_0.gguf\") # device='gpu', device='amd'\n",
        "output = model.generate(\"Pharmacogenomics is \", max_tokens=200)\n",
        "print(output)"
      ],
      "metadata": {
        "colab": {
          "base_uri": "https://localhost:8080/"
        },
        "id": "9F8p49o7ehut",
        "outputId": "aa45cdad-9846-4bda-df16-913c61bc33f2"
      },
      "execution_count": 2,
      "outputs": [
        {
          "output_type": "stream",
          "name": "stderr",
          "text": [
            "100%|██████████| 1.98G/1.98G [00:25<00:00, 78.4MiB/s]\n"
          ]
        },
        {
          "output_type": "stream",
          "name": "stdout",
          "text": [
            "10 years old!\n",
            "By Dr. Michael Mamas, MD, PhD | November 20, 2019\n",
            "The field of pharmacogenomics has been around for over a decade now, and it's exciting to see how far we've come in just a few short years. The first pharmacogenomic study was published in 2001, and since then, the field has grown exponentially. Today, pharmacogenomics is an important area of research that focuses on understanding how genetic variations affect drug response and toxicity. Here are some highlights from the past decade:\n",
            "Newborn screening for genetic disorders: A potential game-changer in neonatal care\n",
            "By Dr. Michael Mamas, MD, PhD | October 29, 2019\n",
            "Newborn screening is a process that involves testing a baby's blood or urine to identify any serious genetic disorders the baby may have inherited from their parents. This can help doctors detect and\n"
          ]
        }
      ]
    },
    {
      "cell_type": "code",
      "source": [
        "model = GPT4All(\"mistral-7b-openorca.Q4_0.gguf\") # device='amd', device='intel'\n",
        "output = model.generate(\"Pharmacogenomics is \", max_tokens=200)\n",
        "print(output)"
      ],
      "metadata": {
        "colab": {
          "base_uri": "https://localhost:8080/"
        },
        "id": "rSQj1mU_elOE",
        "outputId": "06839fd2-a306-4c2d-eec5-ef2dd6a3ad95"
      },
      "execution_count": 3,
      "outputs": [
        {
          "output_type": "stream",
          "name": "stderr",
          "text": [
            "100%|██████████| 4.11G/4.11G [00:50<00:00, 80.8MiB/s]\n"
          ]
        },
        {
          "output_type": "stream",
          "name": "stdout",
          "text": [
            " the study of how changes in DNA can affect drug response. It's a field that has been growing rapidly over the past decade, and it's becoming increasingly important as we learn more about how our genes influence our body's reaction to medications.\n",
            "\n",
            "The goal of pharmacogenomic research is to develop personalized medicine, which means tailoring treatments specifically for each individual based on their genetic makeup. This approach could lead to better outcomes, fewer side effects, and lower healthcare costs by reducing the need for trial-and-error prescribing.\n",
            "\n",
            "One example of how pharmacogenomics can be used in practice is through genotyping tests that identify specific gene variations associated with drug response. These tests are becoming more common in clinical settings, as they help doctors choose the right medication and dosage for their patients.\n",
            "\n",
            "Another application of pharmacogenomics is in the development of new drugs. By understanding how genetic variation affects a person's\n"
          ]
        }
      ]
    },
    {
      "cell_type": "code",
      "source": [
        "model = GPT4All(\"orca-mini-3b-gguf2-q4_0.gguf\") # device='amd', device='intel'\n",
        "output = model.generate(\"Pharmacogenomics is \", max_tokens=200)\n",
        "print(output)"
      ],
      "metadata": {
        "colab": {
          "base_uri": "https://localhost:8080/"
        },
        "id": "zMLu7yahenHF",
        "outputId": "72aa53be-625d-4838-d490-61402aabdbc0"
      },
      "execution_count": 4,
      "outputs": [
        {
          "output_type": "stream",
          "name": "stdout",
          "text": [
            "\n",
            "a field that aims to understand how genetic variations affect drug response. It involves the use of genomic technologies, such as DNA sequencing and gene expression analysis, to identify genes or gene variants that influence drug metabolism, pharmacokinetics (how a drug interacts with the body), and toxicity. By understanding these mechanisms, researchers can develop personalized medicine approaches that optimize drug therapy based on an individual's genetic makeup. \n",
            "\n",
            "Pharmacogenomics has applications in many areas of healthcare, including drug development, clinical trials, patient care, and disease prevention. For example, pharmacogenomic testing may help identify which patients are likely to respond better to a certain medication or which individuals should avoid taking certain medications altogether. It can also inform treatment decisions for cancer patients, as well as those with other chronic conditions such as heart disease or diabetes. \n",
            "\n",
            "Overall, the goal of pharmacogenomics is to improve patient outcomes by providing personalized medicine that takes into account individual differences in drug metabolism\n"
          ]
        }
      ]
    }
  ]
}